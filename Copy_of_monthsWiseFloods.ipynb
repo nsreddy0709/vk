{
  "nbformat": 4,
  "nbformat_minor": 0,
  "metadata": {
    "colab": {
      "name": "Copy of monthsWiseFloods.ipynb",
      "provenance": [],
      "collapsed_sections": [],
      "authorship_tag": "ABX9TyOvnsxIKnLHUyglGF8XYLuM",
      "include_colab_link": true
    },
    "kernelspec": {
      "display_name": "Python 3",
      "name": "python3"
    }
  },
  "cells": [
    {
      "cell_type": "markdown",
      "metadata": {
        "id": "view-in-github",
        "colab_type": "text"
      },
      "source": [
        "<a href=\"https://colab.research.google.com/github/nsreddy0709/vk/blob/main/Copy_of_monthsWiseFloods.ipynb\" target=\"_parent\"><img src=\"https://colab.research.google.com/assets/colab-badge.svg\" alt=\"Open In Colab\"/></a>"
      ]
    },
    {
      "cell_type": "code",
      "metadata": {
        "id": "GHqQmIPdFkWE"
      },
      "source": [
        "import pandas as pd\r\n",
        "import numpy as np\r\n",
        "\r\n",
        "data = pd.read_csv('kerala.csv')"
      ],
      "execution_count": 1,
      "outputs": []
    },
    {
      "cell_type": "code",
      "metadata": {
        "colab": {
          "base_uri": "https://localhost:8080/",
          "height": 402
        },
        "id": "O7ekXGNpQxCc",
        "outputId": "b449848e-5649-4255-9146-ba017ec75fce"
      },
      "source": [
        "data"
      ],
      "execution_count": 2,
      "outputs": [
        {
          "output_type": "execute_result",
          "data": {
            "text/html": [
              "<div>\n",
              "<style scoped>\n",
              "    .dataframe tbody tr th:only-of-type {\n",
              "        vertical-align: middle;\n",
              "    }\n",
              "\n",
              "    .dataframe tbody tr th {\n",
              "        vertical-align: top;\n",
              "    }\n",
              "\n",
              "    .dataframe thead th {\n",
              "        text-align: right;\n",
              "    }\n",
              "</style>\n",
              "<table border=\"1\" class=\"dataframe\">\n",
              "  <thead>\n",
              "    <tr style=\"text-align: right;\">\n",
              "      <th></th>\n",
              "      <th>SUBDIVISION</th>\n",
              "      <th>YEAR</th>\n",
              "      <th>JAN</th>\n",
              "      <th>FEB</th>\n",
              "      <th>MAR</th>\n",
              "      <th>APR</th>\n",
              "      <th>MAY</th>\n",
              "      <th>JUN</th>\n",
              "      <th>JUL</th>\n",
              "      <th>AUG</th>\n",
              "      <th>SEP</th>\n",
              "      <th>OCT</th>\n",
              "      <th>NOV</th>\n",
              "      <th>DEC</th>\n",
              "      <th>ANNUAL RAINFALL</th>\n",
              "      <th>FLOODS</th>\n",
              "    </tr>\n",
              "  </thead>\n",
              "  <tbody>\n",
              "    <tr>\n",
              "      <th>0</th>\n",
              "      <td>KERALA</td>\n",
              "      <td>1901</td>\n",
              "      <td>28.7</td>\n",
              "      <td>44.7</td>\n",
              "      <td>51.6</td>\n",
              "      <td>160.0</td>\n",
              "      <td>174.7</td>\n",
              "      <td>824.6</td>\n",
              "      <td>743.0</td>\n",
              "      <td>357.5</td>\n",
              "      <td>197.7</td>\n",
              "      <td>266.9</td>\n",
              "      <td>350.8</td>\n",
              "      <td>48.4</td>\n",
              "      <td>3248.6</td>\n",
              "      <td>YES</td>\n",
              "    </tr>\n",
              "    <tr>\n",
              "      <th>1</th>\n",
              "      <td>KERALA</td>\n",
              "      <td>1902</td>\n",
              "      <td>6.7</td>\n",
              "      <td>2.6</td>\n",
              "      <td>57.3</td>\n",
              "      <td>83.9</td>\n",
              "      <td>134.5</td>\n",
              "      <td>390.9</td>\n",
              "      <td>1205.0</td>\n",
              "      <td>315.8</td>\n",
              "      <td>491.6</td>\n",
              "      <td>358.4</td>\n",
              "      <td>158.3</td>\n",
              "      <td>121.5</td>\n",
              "      <td>3326.6</td>\n",
              "      <td>YES</td>\n",
              "    </tr>\n",
              "    <tr>\n",
              "      <th>2</th>\n",
              "      <td>KERALA</td>\n",
              "      <td>1903</td>\n",
              "      <td>3.2</td>\n",
              "      <td>18.6</td>\n",
              "      <td>3.1</td>\n",
              "      <td>83.6</td>\n",
              "      <td>249.7</td>\n",
              "      <td>558.6</td>\n",
              "      <td>1022.5</td>\n",
              "      <td>420.2</td>\n",
              "      <td>341.8</td>\n",
              "      <td>354.1</td>\n",
              "      <td>157.0</td>\n",
              "      <td>59.0</td>\n",
              "      <td>3271.2</td>\n",
              "      <td>YES</td>\n",
              "    </tr>\n",
              "    <tr>\n",
              "      <th>3</th>\n",
              "      <td>KERALA</td>\n",
              "      <td>1904</td>\n",
              "      <td>23.7</td>\n",
              "      <td>3.0</td>\n",
              "      <td>32.2</td>\n",
              "      <td>71.5</td>\n",
              "      <td>235.7</td>\n",
              "      <td>1098.2</td>\n",
              "      <td>725.5</td>\n",
              "      <td>351.8</td>\n",
              "      <td>222.7</td>\n",
              "      <td>328.1</td>\n",
              "      <td>33.9</td>\n",
              "      <td>3.3</td>\n",
              "      <td>3129.7</td>\n",
              "      <td>YES</td>\n",
              "    </tr>\n",
              "    <tr>\n",
              "      <th>4</th>\n",
              "      <td>KERALA</td>\n",
              "      <td>1905</td>\n",
              "      <td>1.2</td>\n",
              "      <td>22.3</td>\n",
              "      <td>9.4</td>\n",
              "      <td>105.9</td>\n",
              "      <td>263.3</td>\n",
              "      <td>850.2</td>\n",
              "      <td>520.5</td>\n",
              "      <td>293.6</td>\n",
              "      <td>217.2</td>\n",
              "      <td>383.5</td>\n",
              "      <td>74.4</td>\n",
              "      <td>0.2</td>\n",
              "      <td>2741.6</td>\n",
              "      <td>NO</td>\n",
              "    </tr>\n",
              "    <tr>\n",
              "      <th>...</th>\n",
              "      <td>...</td>\n",
              "      <td>...</td>\n",
              "      <td>...</td>\n",
              "      <td>...</td>\n",
              "      <td>...</td>\n",
              "      <td>...</td>\n",
              "      <td>...</td>\n",
              "      <td>...</td>\n",
              "      <td>...</td>\n",
              "      <td>...</td>\n",
              "      <td>...</td>\n",
              "      <td>...</td>\n",
              "      <td>...</td>\n",
              "      <td>...</td>\n",
              "      <td>...</td>\n",
              "      <td>...</td>\n",
              "    </tr>\n",
              "    <tr>\n",
              "      <th>113</th>\n",
              "      <td>KERALA</td>\n",
              "      <td>2014</td>\n",
              "      <td>4.6</td>\n",
              "      <td>10.3</td>\n",
              "      <td>17.9</td>\n",
              "      <td>95.7</td>\n",
              "      <td>251.0</td>\n",
              "      <td>454.4</td>\n",
              "      <td>677.8</td>\n",
              "      <td>733.9</td>\n",
              "      <td>298.8</td>\n",
              "      <td>355.5</td>\n",
              "      <td>99.5</td>\n",
              "      <td>47.2</td>\n",
              "      <td>3046.4</td>\n",
              "      <td>YES</td>\n",
              "    </tr>\n",
              "    <tr>\n",
              "      <th>114</th>\n",
              "      <td>KERALA</td>\n",
              "      <td>2015</td>\n",
              "      <td>3.1</td>\n",
              "      <td>5.8</td>\n",
              "      <td>50.1</td>\n",
              "      <td>214.1</td>\n",
              "      <td>201.8</td>\n",
              "      <td>563.6</td>\n",
              "      <td>406.0</td>\n",
              "      <td>252.2</td>\n",
              "      <td>292.9</td>\n",
              "      <td>308.1</td>\n",
              "      <td>223.6</td>\n",
              "      <td>79.4</td>\n",
              "      <td>2600.6</td>\n",
              "      <td>NO</td>\n",
              "    </tr>\n",
              "    <tr>\n",
              "      <th>115</th>\n",
              "      <td>KERALA</td>\n",
              "      <td>2016</td>\n",
              "      <td>2.4</td>\n",
              "      <td>3.8</td>\n",
              "      <td>35.9</td>\n",
              "      <td>143.0</td>\n",
              "      <td>186.4</td>\n",
              "      <td>522.2</td>\n",
              "      <td>412.3</td>\n",
              "      <td>325.5</td>\n",
              "      <td>173.2</td>\n",
              "      <td>225.9</td>\n",
              "      <td>125.4</td>\n",
              "      <td>23.6</td>\n",
              "      <td>2176.6</td>\n",
              "      <td>NO</td>\n",
              "    </tr>\n",
              "    <tr>\n",
              "      <th>116</th>\n",
              "      <td>KERALA</td>\n",
              "      <td>2017</td>\n",
              "      <td>1.9</td>\n",
              "      <td>6.8</td>\n",
              "      <td>8.9</td>\n",
              "      <td>43.6</td>\n",
              "      <td>173.5</td>\n",
              "      <td>498.5</td>\n",
              "      <td>319.6</td>\n",
              "      <td>531.8</td>\n",
              "      <td>209.5</td>\n",
              "      <td>192.4</td>\n",
              "      <td>92.5</td>\n",
              "      <td>38.1</td>\n",
              "      <td>2117.1</td>\n",
              "      <td>NO</td>\n",
              "    </tr>\n",
              "    <tr>\n",
              "      <th>117</th>\n",
              "      <td>KERALA</td>\n",
              "      <td>2018</td>\n",
              "      <td>29.1</td>\n",
              "      <td>52.1</td>\n",
              "      <td>48.6</td>\n",
              "      <td>116.4</td>\n",
              "      <td>183.8</td>\n",
              "      <td>625.4</td>\n",
              "      <td>1048.5</td>\n",
              "      <td>1398.9</td>\n",
              "      <td>423.6</td>\n",
              "      <td>356.1</td>\n",
              "      <td>125.4</td>\n",
              "      <td>65.1</td>\n",
              "      <td>4473.0</td>\n",
              "      <td>YES</td>\n",
              "    </tr>\n",
              "  </tbody>\n",
              "</table>\n",
              "<p>118 rows × 16 columns</p>\n",
              "</div>"
            ],
            "text/plain": [
              "    SUBDIVISION  YEAR   JAN   FEB  ...    NOV    DEC   ANNUAL RAINFALL  FLOODS\n",
              "0        KERALA  1901  28.7  44.7  ...  350.8   48.4            3248.6     YES\n",
              "1        KERALA  1902   6.7   2.6  ...  158.3  121.5            3326.6     YES\n",
              "2        KERALA  1903   3.2  18.6  ...  157.0   59.0            3271.2     YES\n",
              "3        KERALA  1904  23.7   3.0  ...   33.9    3.3            3129.7     YES\n",
              "4        KERALA  1905   1.2  22.3  ...   74.4    0.2            2741.6      NO\n",
              "..          ...   ...   ...   ...  ...    ...    ...               ...     ...\n",
              "113      KERALA  2014   4.6  10.3  ...   99.5   47.2            3046.4     YES\n",
              "114      KERALA  2015   3.1   5.8  ...  223.6   79.4            2600.6      NO\n",
              "115      KERALA  2016   2.4   3.8  ...  125.4   23.6            2176.6      NO\n",
              "116     KERALA   2017   1.9   6.8  ...   92.5   38.1            2117.1      NO\n",
              "117      KERALA  2018  29.1  52.1  ...  125.4   65.1            4473.0     YES\n",
              "\n",
              "[118 rows x 16 columns]"
            ]
          },
          "metadata": {
            "tags": []
          },
          "execution_count": 2
        }
      ]
    },
    {
      "cell_type": "code",
      "metadata": {
        "colab": {
          "base_uri": "https://localhost:8080/",
          "height": 402
        },
        "id": "_s2P57Z-Q_so",
        "outputId": "50e07c13-0747-41b8-d178-247616e29725"
      },
      "source": [
        "jan=data.loc[:,['YEAR','JAN']]\r\n",
        "jan "
      ],
      "execution_count": 3,
      "outputs": [
        {
          "output_type": "execute_result",
          "data": {
            "text/html": [
              "<div>\n",
              "<style scoped>\n",
              "    .dataframe tbody tr th:only-of-type {\n",
              "        vertical-align: middle;\n",
              "    }\n",
              "\n",
              "    .dataframe tbody tr th {\n",
              "        vertical-align: top;\n",
              "    }\n",
              "\n",
              "    .dataframe thead th {\n",
              "        text-align: right;\n",
              "    }\n",
              "</style>\n",
              "<table border=\"1\" class=\"dataframe\">\n",
              "  <thead>\n",
              "    <tr style=\"text-align: right;\">\n",
              "      <th></th>\n",
              "      <th>YEAR</th>\n",
              "      <th>JAN</th>\n",
              "    </tr>\n",
              "  </thead>\n",
              "  <tbody>\n",
              "    <tr>\n",
              "      <th>0</th>\n",
              "      <td>1901</td>\n",
              "      <td>28.7</td>\n",
              "    </tr>\n",
              "    <tr>\n",
              "      <th>1</th>\n",
              "      <td>1902</td>\n",
              "      <td>6.7</td>\n",
              "    </tr>\n",
              "    <tr>\n",
              "      <th>2</th>\n",
              "      <td>1903</td>\n",
              "      <td>3.2</td>\n",
              "    </tr>\n",
              "    <tr>\n",
              "      <th>3</th>\n",
              "      <td>1904</td>\n",
              "      <td>23.7</td>\n",
              "    </tr>\n",
              "    <tr>\n",
              "      <th>4</th>\n",
              "      <td>1905</td>\n",
              "      <td>1.2</td>\n",
              "    </tr>\n",
              "    <tr>\n",
              "      <th>...</th>\n",
              "      <td>...</td>\n",
              "      <td>...</td>\n",
              "    </tr>\n",
              "    <tr>\n",
              "      <th>113</th>\n",
              "      <td>2014</td>\n",
              "      <td>4.6</td>\n",
              "    </tr>\n",
              "    <tr>\n",
              "      <th>114</th>\n",
              "      <td>2015</td>\n",
              "      <td>3.1</td>\n",
              "    </tr>\n",
              "    <tr>\n",
              "      <th>115</th>\n",
              "      <td>2016</td>\n",
              "      <td>2.4</td>\n",
              "    </tr>\n",
              "    <tr>\n",
              "      <th>116</th>\n",
              "      <td>2017</td>\n",
              "      <td>1.9</td>\n",
              "    </tr>\n",
              "    <tr>\n",
              "      <th>117</th>\n",
              "      <td>2018</td>\n",
              "      <td>29.1</td>\n",
              "    </tr>\n",
              "  </tbody>\n",
              "</table>\n",
              "<p>118 rows × 2 columns</p>\n",
              "</div>"
            ],
            "text/plain": [
              "     YEAR   JAN\n",
              "0    1901  28.7\n",
              "1    1902   6.7\n",
              "2    1903   3.2\n",
              "3    1904  23.7\n",
              "4    1905   1.2\n",
              "..    ...   ...\n",
              "113  2014   4.6\n",
              "114  2015   3.1\n",
              "115  2016   2.4\n",
              "116  2017   1.9\n",
              "117  2018  29.1\n",
              "\n",
              "[118 rows x 2 columns]"
            ]
          },
          "metadata": {
            "tags": []
          },
          "execution_count": 3
        }
      ]
    },
    {
      "cell_type": "code",
      "metadata": {
        "colab": {
          "base_uri": "https://localhost:8080/",
          "height": 402
        },
        "id": "erAF5bEPS5pp",
        "outputId": "8c178a0b-2a5b-4d53-a39b-4257d8791883"
      },
      "source": [
        "jan['res'] = 0\r\n",
        "jan"
      ],
      "execution_count": 4,
      "outputs": [
        {
          "output_type": "execute_result",
          "data": {
            "text/html": [
              "<div>\n",
              "<style scoped>\n",
              "    .dataframe tbody tr th:only-of-type {\n",
              "        vertical-align: middle;\n",
              "    }\n",
              "\n",
              "    .dataframe tbody tr th {\n",
              "        vertical-align: top;\n",
              "    }\n",
              "\n",
              "    .dataframe thead th {\n",
              "        text-align: right;\n",
              "    }\n",
              "</style>\n",
              "<table border=\"1\" class=\"dataframe\">\n",
              "  <thead>\n",
              "    <tr style=\"text-align: right;\">\n",
              "      <th></th>\n",
              "      <th>YEAR</th>\n",
              "      <th>JAN</th>\n",
              "      <th>res</th>\n",
              "    </tr>\n",
              "  </thead>\n",
              "  <tbody>\n",
              "    <tr>\n",
              "      <th>0</th>\n",
              "      <td>1901</td>\n",
              "      <td>28.7</td>\n",
              "      <td>0</td>\n",
              "    </tr>\n",
              "    <tr>\n",
              "      <th>1</th>\n",
              "      <td>1902</td>\n",
              "      <td>6.7</td>\n",
              "      <td>0</td>\n",
              "    </tr>\n",
              "    <tr>\n",
              "      <th>2</th>\n",
              "      <td>1903</td>\n",
              "      <td>3.2</td>\n",
              "      <td>0</td>\n",
              "    </tr>\n",
              "    <tr>\n",
              "      <th>3</th>\n",
              "      <td>1904</td>\n",
              "      <td>23.7</td>\n",
              "      <td>0</td>\n",
              "    </tr>\n",
              "    <tr>\n",
              "      <th>4</th>\n",
              "      <td>1905</td>\n",
              "      <td>1.2</td>\n",
              "      <td>0</td>\n",
              "    </tr>\n",
              "    <tr>\n",
              "      <th>...</th>\n",
              "      <td>...</td>\n",
              "      <td>...</td>\n",
              "      <td>...</td>\n",
              "    </tr>\n",
              "    <tr>\n",
              "      <th>113</th>\n",
              "      <td>2014</td>\n",
              "      <td>4.6</td>\n",
              "      <td>0</td>\n",
              "    </tr>\n",
              "    <tr>\n",
              "      <th>114</th>\n",
              "      <td>2015</td>\n",
              "      <td>3.1</td>\n",
              "      <td>0</td>\n",
              "    </tr>\n",
              "    <tr>\n",
              "      <th>115</th>\n",
              "      <td>2016</td>\n",
              "      <td>2.4</td>\n",
              "      <td>0</td>\n",
              "    </tr>\n",
              "    <tr>\n",
              "      <th>116</th>\n",
              "      <td>2017</td>\n",
              "      <td>1.9</td>\n",
              "      <td>0</td>\n",
              "    </tr>\n",
              "    <tr>\n",
              "      <th>117</th>\n",
              "      <td>2018</td>\n",
              "      <td>29.1</td>\n",
              "      <td>0</td>\n",
              "    </tr>\n",
              "  </tbody>\n",
              "</table>\n",
              "<p>118 rows × 3 columns</p>\n",
              "</div>"
            ],
            "text/plain": [
              "     YEAR   JAN  res\n",
              "0    1901  28.7    0\n",
              "1    1902   6.7    0\n",
              "2    1903   3.2    0\n",
              "3    1904  23.7    0\n",
              "4    1905   1.2    0\n",
              "..    ...   ...  ...\n",
              "113  2014   4.6    0\n",
              "114  2015   3.1    0\n",
              "115  2016   2.4    0\n",
              "116  2017   1.9    0\n",
              "117  2018  29.1    0\n",
              "\n",
              "[118 rows x 3 columns]"
            ]
          },
          "metadata": {
            "tags": []
          },
          "execution_count": 4
        }
      ]
    },
    {
      "cell_type": "code",
      "metadata": {
        "colab": {
          "base_uri": "https://localhost:8080/",
          "height": 402
        },
        "id": "r8gEXtm1R4Yg",
        "outputId": "54506388-de0b-445f-f6af-374ce3e50e9b"
      },
      "source": [
        "for i in range(len(jan)):\r\n",
        "  if jan['JAN'][i] > 263:\r\n",
        "    jan['res'] = 1\r\n",
        "jan "
      ],
      "execution_count": 5,
      "outputs": [
        {
          "output_type": "execute_result",
          "data": {
            "text/html": [
              "<div>\n",
              "<style scoped>\n",
              "    .dataframe tbody tr th:only-of-type {\n",
              "        vertical-align: middle;\n",
              "    }\n",
              "\n",
              "    .dataframe tbody tr th {\n",
              "        vertical-align: top;\n",
              "    }\n",
              "\n",
              "    .dataframe thead th {\n",
              "        text-align: right;\n",
              "    }\n",
              "</style>\n",
              "<table border=\"1\" class=\"dataframe\">\n",
              "  <thead>\n",
              "    <tr style=\"text-align: right;\">\n",
              "      <th></th>\n",
              "      <th>YEAR</th>\n",
              "      <th>JAN</th>\n",
              "      <th>res</th>\n",
              "    </tr>\n",
              "  </thead>\n",
              "  <tbody>\n",
              "    <tr>\n",
              "      <th>0</th>\n",
              "      <td>1901</td>\n",
              "      <td>28.7</td>\n",
              "      <td>0</td>\n",
              "    </tr>\n",
              "    <tr>\n",
              "      <th>1</th>\n",
              "      <td>1902</td>\n",
              "      <td>6.7</td>\n",
              "      <td>0</td>\n",
              "    </tr>\n",
              "    <tr>\n",
              "      <th>2</th>\n",
              "      <td>1903</td>\n",
              "      <td>3.2</td>\n",
              "      <td>0</td>\n",
              "    </tr>\n",
              "    <tr>\n",
              "      <th>3</th>\n",
              "      <td>1904</td>\n",
              "      <td>23.7</td>\n",
              "      <td>0</td>\n",
              "    </tr>\n",
              "    <tr>\n",
              "      <th>4</th>\n",
              "      <td>1905</td>\n",
              "      <td>1.2</td>\n",
              "      <td>0</td>\n",
              "    </tr>\n",
              "    <tr>\n",
              "      <th>...</th>\n",
              "      <td>...</td>\n",
              "      <td>...</td>\n",
              "      <td>...</td>\n",
              "    </tr>\n",
              "    <tr>\n",
              "      <th>113</th>\n",
              "      <td>2014</td>\n",
              "      <td>4.6</td>\n",
              "      <td>0</td>\n",
              "    </tr>\n",
              "    <tr>\n",
              "      <th>114</th>\n",
              "      <td>2015</td>\n",
              "      <td>3.1</td>\n",
              "      <td>0</td>\n",
              "    </tr>\n",
              "    <tr>\n",
              "      <th>115</th>\n",
              "      <td>2016</td>\n",
              "      <td>2.4</td>\n",
              "      <td>0</td>\n",
              "    </tr>\n",
              "    <tr>\n",
              "      <th>116</th>\n",
              "      <td>2017</td>\n",
              "      <td>1.9</td>\n",
              "      <td>0</td>\n",
              "    </tr>\n",
              "    <tr>\n",
              "      <th>117</th>\n",
              "      <td>2018</td>\n",
              "      <td>29.1</td>\n",
              "      <td>0</td>\n",
              "    </tr>\n",
              "  </tbody>\n",
              "</table>\n",
              "<p>118 rows × 3 columns</p>\n",
              "</div>"
            ],
            "text/plain": [
              "     YEAR   JAN  res\n",
              "0    1901  28.7    0\n",
              "1    1902   6.7    0\n",
              "2    1903   3.2    0\n",
              "3    1904  23.7    0\n",
              "4    1905   1.2    0\n",
              "..    ...   ...  ...\n",
              "113  2014   4.6    0\n",
              "114  2015   3.1    0\n",
              "115  2016   2.4    0\n",
              "116  2017   1.9    0\n",
              "117  2018  29.1    0\n",
              "\n",
              "[118 rows x 3 columns]"
            ]
          },
          "metadata": {
            "tags": []
          },
          "execution_count": 5
        }
      ]
    },
    {
      "cell_type": "code",
      "metadata": {
        "colab": {
          "base_uri": "https://localhost:8080/",
          "height": 195
        },
        "id": "suo5xMd1Slls",
        "outputId": "504e19a1-71b7-4571-adca-f8f10362abba"
      },
      "source": [
        "x=jan.iloc[:,0:2]\r\n",
        "x.head()"
      ],
      "execution_count": 6,
      "outputs": [
        {
          "output_type": "execute_result",
          "data": {
            "text/html": [
              "<div>\n",
              "<style scoped>\n",
              "    .dataframe tbody tr th:only-of-type {\n",
              "        vertical-align: middle;\n",
              "    }\n",
              "\n",
              "    .dataframe tbody tr th {\n",
              "        vertical-align: top;\n",
              "    }\n",
              "\n",
              "    .dataframe thead th {\n",
              "        text-align: right;\n",
              "    }\n",
              "</style>\n",
              "<table border=\"1\" class=\"dataframe\">\n",
              "  <thead>\n",
              "    <tr style=\"text-align: right;\">\n",
              "      <th></th>\n",
              "      <th>YEAR</th>\n",
              "      <th>JAN</th>\n",
              "    </tr>\n",
              "  </thead>\n",
              "  <tbody>\n",
              "    <tr>\n",
              "      <th>0</th>\n",
              "      <td>1901</td>\n",
              "      <td>28.7</td>\n",
              "    </tr>\n",
              "    <tr>\n",
              "      <th>1</th>\n",
              "      <td>1902</td>\n",
              "      <td>6.7</td>\n",
              "    </tr>\n",
              "    <tr>\n",
              "      <th>2</th>\n",
              "      <td>1903</td>\n",
              "      <td>3.2</td>\n",
              "    </tr>\n",
              "    <tr>\n",
              "      <th>3</th>\n",
              "      <td>1904</td>\n",
              "      <td>23.7</td>\n",
              "    </tr>\n",
              "    <tr>\n",
              "      <th>4</th>\n",
              "      <td>1905</td>\n",
              "      <td>1.2</td>\n",
              "    </tr>\n",
              "  </tbody>\n",
              "</table>\n",
              "</div>"
            ],
            "text/plain": [
              "   YEAR   JAN\n",
              "0  1901  28.7\n",
              "1  1902   6.7\n",
              "2  1903   3.2\n",
              "3  1904  23.7\n",
              "4  1905   1.2"
            ]
          },
          "metadata": {
            "tags": []
          },
          "execution_count": 6
        }
      ]
    },
    {
      "cell_type": "code",
      "metadata": {
        "colab": {
          "base_uri": "https://localhost:8080/"
        },
        "id": "EHAE9kwgenr_",
        "outputId": "57bf6e43-97b4-4407-acf8-ccea585f38bd"
      },
      "source": [
        "y = jan.iloc[:,-1]\r\n",
        "y.head()"
      ],
      "execution_count": 7,
      "outputs": [
        {
          "output_type": "execute_result",
          "data": {
            "text/plain": [
              "0    0\n",
              "1    0\n",
              "2    0\n",
              "3    0\n",
              "4    0\n",
              "Name: res, dtype: int64"
            ]
          },
          "metadata": {
            "tags": []
          },
          "execution_count": 7
        }
      ]
    },
    {
      "cell_type": "code",
      "metadata": {
        "colab": {
          "base_uri": "https://localhost:8080/"
        },
        "id": "mrkgxT4Xe_Tf",
        "outputId": "894c4f08-6829-4a51-b3d1-f9e22ee829cf"
      },
      "source": [
        "y = np.asarray(y)\r\n",
        "y"
      ],
      "execution_count": 8,
      "outputs": [
        {
          "output_type": "execute_result",
          "data": {
            "text/plain": [
              "array([0, 0, 0, 0, 0, 0, 0, 0, 0, 0, 0, 0, 0, 0, 0, 0, 0, 0, 0, 0, 0, 0,\n",
              "       0, 0, 0, 0, 0, 0, 0, 0, 0, 0, 0, 0, 0, 0, 0, 0, 0, 0, 0, 0, 0, 0,\n",
              "       0, 0, 0, 0, 0, 0, 0, 0, 0, 0, 0, 0, 0, 0, 0, 0, 0, 0, 0, 0, 0, 0,\n",
              "       0, 0, 0, 0, 0, 0, 0, 0, 0, 0, 0, 0, 0, 0, 0, 0, 0, 0, 0, 0, 0, 0,\n",
              "       0, 0, 0, 0, 0, 0, 0, 0, 0, 0, 0, 0, 0, 0, 0, 0, 0, 0, 0, 0, 0, 0,\n",
              "       0, 0, 0, 0, 0, 0, 0, 0])"
            ]
          },
          "metadata": {
            "tags": []
          },
          "execution_count": 8
        }
      ]
    },
    {
      "cell_type": "code",
      "metadata": {
        "colab": {
          "base_uri": "https://localhost:8080/"
        },
        "id": "xh3yhPKdfRwe",
        "outputId": "fcf42bd3-3844-4d69-abe2-381e181d43d9"
      },
      "source": [
        "from sklearn import preprocessing\r\n",
        "minmax = preprocessing.MinMaxScaler(feature_range=(0,1))\r\n",
        "x = minmax.fit(x).transform(x)\r\n",
        "x"
      ],
      "execution_count": 9,
      "outputs": [
        {
          "output_type": "execute_result",
          "data": {
            "text/plain": [
              "array([[0.        , 0.34371257],\n",
              "       [0.00854701, 0.08023952],\n",
              "       [0.01709402, 0.03832335],\n",
              "       [0.02564103, 0.28383234],\n",
              "       [0.03418803, 0.01437126],\n",
              "       [0.04273504, 0.31976048],\n",
              "       [0.05128205, 0.2251497 ],\n",
              "       [0.05982906, 0.09580838],\n",
              "       [0.06837607, 0.64790419],\n",
              "       [0.07692308, 0.03233533],\n",
              "       [0.08547009, 0.03592814],\n",
              "       [0.09401709, 0.02275449],\n",
              "       [0.1025641 , 0.03712575],\n",
              "       [0.11111111, 0.00838323],\n",
              "       [0.11965812, 0.20239521],\n",
              "       [0.12820513, 0.        ],\n",
              "       [0.13675214, 0.03473054],\n",
              "       [0.14529915, 0.51377246],\n",
              "       [0.15384615, 0.51497006],\n",
              "       [0.16239316, 0.42155689],\n",
              "       [0.17094017, 0.51497006],\n",
              "       [0.17948718, 0.36526946],\n",
              "       [0.18803419, 0.29580838],\n",
              "       [0.1965812 , 0.23113772],\n",
              "       [0.20512821, 0.0491018 ],\n",
              "       [0.21367521, 0.34251497],\n",
              "       [0.22222222, 0.2251497 ],\n",
              "       [0.23076923, 0.15209581],\n",
              "       [0.23931624, 0.15329341],\n",
              "       [0.24786325, 0.12934132],\n",
              "       [0.25641026, 0.03952096],\n",
              "       [0.26495726, 0.0011976 ],\n",
              "       [0.27350427, 0.01197605],\n",
              "       [0.28205128, 0.89221557],\n",
              "       [0.29059829, 0.28622754],\n",
              "       [0.2991453 , 0.01437126],\n",
              "       [0.30769231, 0.07784431],\n",
              "       [0.31623932, 0.00359281],\n",
              "       [0.32478632, 0.16287425],\n",
              "       [0.33333333, 0.00718563],\n",
              "       [0.34188034, 0.19041916],\n",
              "       [0.35042735, 0.02874251],\n",
              "       [0.35897436, 1.        ],\n",
              "       [0.36752137, 0.07664671],\n",
              "       [0.37606838, 0.05269461],\n",
              "       [0.38461538, 0.02155689],\n",
              "       [0.39316239, 0.26586826],\n",
              "       [0.4017094 , 0.51497006],\n",
              "       [0.41025641, 0.00718563],\n",
              "       [0.41880342, 0.0011976 ],\n",
              "       [0.42735043, 0.07904192],\n",
              "       [0.43589744, 0.06227545],\n",
              "       [0.44444444, 0.15688623],\n",
              "       [0.45299145, 0.28143713],\n",
              "       [0.46153846, 0.0502994 ],\n",
              "       [0.47008547, 0.09461078],\n",
              "       [0.47863248, 0.01437126],\n",
              "       [0.48717949, 0.05269461],\n",
              "       [0.4957265 , 0.03592814],\n",
              "       [0.5042735 , 0.11257485],\n",
              "       [0.51282051, 0.16407186],\n",
              "       [0.52136752, 0.34011976],\n",
              "       [0.52991453, 0.36167665],\n",
              "       [0.53846154, 0.01317365],\n",
              "       [0.54700855, 0.10898204],\n",
              "       [0.55555556, 0.03592814],\n",
              "       [0.56410256, 0.17125749],\n",
              "       [0.57264957, 0.08742515],\n",
              "       [0.58119658, 0.03233533],\n",
              "       [0.58974359, 0.15449102],\n",
              "       [0.5982906 , 0.37844311],\n",
              "       [0.60683761, 0.03113772],\n",
              "       [0.61538462, 0.        ],\n",
              "       [0.62393162, 0.01916168],\n",
              "       [0.63247863, 0.06227545],\n",
              "       [0.64102564, 0.0011976 ],\n",
              "       [0.64957265, 0.01317365],\n",
              "       [0.65811966, 0.03952096],\n",
              "       [0.66666667, 0.02874251],\n",
              "       [0.67521368, 0.        ],\n",
              "       [0.68376068, 0.08383234],\n",
              "       [0.69230769, 0.00838323],\n",
              "       [0.7008547 , 0.00239521],\n",
              "       [0.70940171, 0.44071856],\n",
              "       [0.71794872, 0.73293413],\n",
              "       [0.72649573, 0.06706587],\n",
              "       [0.73504274, 0.00718563],\n",
              "       [0.74358974, 0.00958084],\n",
              "       [0.75213675, 0.12335329],\n",
              "       [0.76068376, 0.17844311],\n",
              "       [0.76923077, 0.13053892],\n",
              "       [0.77777778, 0.02874251],\n",
              "       [0.78632479, 0.        ],\n",
              "       [0.79487179, 0.29101796],\n",
              "       [0.8034188 , 0.12335329],\n",
              "       [0.81196581, 0.03353293],\n",
              "       [0.82051282, 0.0251497 ],\n",
              "       [0.82905983, 0.07185629],\n",
              "       [0.83760684, 0.02155689],\n",
              "       [0.84615385, 0.14011976],\n",
              "       [0.85470085, 0.19760479],\n",
              "       [0.86324786, 0.05628743],\n",
              "       [0.87179487, 0.00838323],\n",
              "       [0.88034188, 0.02874251],\n",
              "       [0.88888889, 0.23712575],\n",
              "       [0.8974359 , 0.09700599],\n",
              "       [0.90598291, 0.00598802],\n",
              "       [0.91452991, 0.00958084],\n",
              "       [0.92307692, 0.03952096],\n",
              "       [0.93162393, 0.22275449],\n",
              "       [0.94017094, 0.24550898],\n",
              "       [0.94871795, 0.08862275],\n",
              "       [0.95726496, 0.04670659],\n",
              "       [0.96581197, 0.05508982],\n",
              "       [0.97435897, 0.03712575],\n",
              "       [0.98290598, 0.02874251],\n",
              "       [0.99145299, 0.02275449],\n",
              "       [1.        , 0.34850299]])"
            ]
          },
          "metadata": {
            "tags": []
          },
          "execution_count": 9
        }
      ]
    },
    {
      "cell_type": "code",
      "metadata": {
        "colab": {
          "base_uri": "https://localhost:8080/"
        },
        "id": "qANAbddpfe47",
        "outputId": "2c33686d-de5a-419d-c72f-458325084a89"
      },
      "source": [
        "from sklearn import model_selection,neighbors\r\n",
        "from sklearn.model_selection import train_test_split\r\n",
        "x_train,x_test,y_train,y_test=train_test_split(x,y,test_size=0.2)\r\n",
        "y_train[:20]"
      ],
      "execution_count": 10,
      "outputs": [
        {
          "output_type": "execute_result",
          "data": {
            "text/plain": [
              "array([0, 0, 0, 0, 0, 0, 0, 0, 0, 0, 0, 0, 0, 0, 0, 0, 0, 0, 0, 0])"
            ]
          },
          "metadata": {
            "tags": []
          },
          "execution_count": 10
        }
      ]
    },
    {
      "cell_type": "code",
      "metadata": {
        "colab": {
          "base_uri": "https://localhost:8080/"
        },
        "id": "HtUb6xZKgR88",
        "outputId": "6f19cc2c-9c17-4cf8-b38b-8ca63b48343f"
      },
      "source": [
        "clf1 = neighbors.KNeighborsClassifier()\r\n",
        "clf1.fit(x_train,y_train)"
      ],
      "execution_count": 11,
      "outputs": [
        {
          "output_type": "execute_result",
          "data": {
            "text/plain": [
              "KNeighborsClassifier(algorithm='auto', leaf_size=30, metric='minkowski',\n",
              "                     metric_params=None, n_jobs=None, n_neighbors=5, p=2,\n",
              "                     weights='uniform')"
            ]
          },
          "metadata": {
            "tags": []
          },
          "execution_count": 11
        }
      ]
    },
    {
      "cell_type": "code",
      "metadata": {
        "colab": {
          "base_uri": "https://localhost:8080/"
        },
        "id": "LzM5kjFyhAc2",
        "outputId": "4d182a4c-ecb0-4b9d-a1a9-22eed7ea2b22"
      },
      "source": [
        "clf1.predict(x_test)\r\n"
      ],
      "execution_count": 12,
      "outputs": [
        {
          "output_type": "execute_result",
          "data": {
            "text/plain": [
              "array([0, 0, 0, 0, 0, 0, 0, 0, 0, 0, 0, 0, 0, 0, 0, 0, 0, 0, 0, 0, 0, 0,\n",
              "       0, 0])"
            ]
          },
          "metadata": {
            "tags": []
          },
          "execution_count": 12
        }
      ]
    },
    {
      "cell_type": "code",
      "metadata": {
        "colab": {
          "base_uri": "https://localhost:8080/",
          "height": 402
        },
        "id": "fZRrurZIhs8z",
        "outputId": "3878f292-5f04-425c-8047-fa5d0976f258"
      },
      "source": [
        "may=data.loc[:,['YEAR','MAY']]\r\n",
        "may"
      ],
      "execution_count": 32,
      "outputs": [
        {
          "output_type": "execute_result",
          "data": {
            "text/html": [
              "<div>\n",
              "<style scoped>\n",
              "    .dataframe tbody tr th:only-of-type {\n",
              "        vertical-align: middle;\n",
              "    }\n",
              "\n",
              "    .dataframe tbody tr th {\n",
              "        vertical-align: top;\n",
              "    }\n",
              "\n",
              "    .dataframe thead th {\n",
              "        text-align: right;\n",
              "    }\n",
              "</style>\n",
              "<table border=\"1\" class=\"dataframe\">\n",
              "  <thead>\n",
              "    <tr style=\"text-align: right;\">\n",
              "      <th></th>\n",
              "      <th>YEAR</th>\n",
              "      <th>MAY</th>\n",
              "    </tr>\n",
              "  </thead>\n",
              "  <tbody>\n",
              "    <tr>\n",
              "      <th>0</th>\n",
              "      <td>1901</td>\n",
              "      <td>174.7</td>\n",
              "    </tr>\n",
              "    <tr>\n",
              "      <th>1</th>\n",
              "      <td>1902</td>\n",
              "      <td>134.5</td>\n",
              "    </tr>\n",
              "    <tr>\n",
              "      <th>2</th>\n",
              "      <td>1903</td>\n",
              "      <td>249.7</td>\n",
              "    </tr>\n",
              "    <tr>\n",
              "      <th>3</th>\n",
              "      <td>1904</td>\n",
              "      <td>235.7</td>\n",
              "    </tr>\n",
              "    <tr>\n",
              "      <th>4</th>\n",
              "      <td>1905</td>\n",
              "      <td>263.3</td>\n",
              "    </tr>\n",
              "    <tr>\n",
              "      <th>...</th>\n",
              "      <td>...</td>\n",
              "      <td>...</td>\n",
              "    </tr>\n",
              "    <tr>\n",
              "      <th>113</th>\n",
              "      <td>2014</td>\n",
              "      <td>251.0</td>\n",
              "    </tr>\n",
              "    <tr>\n",
              "      <th>114</th>\n",
              "      <td>2015</td>\n",
              "      <td>201.8</td>\n",
              "    </tr>\n",
              "    <tr>\n",
              "      <th>115</th>\n",
              "      <td>2016</td>\n",
              "      <td>186.4</td>\n",
              "    </tr>\n",
              "    <tr>\n",
              "      <th>116</th>\n",
              "      <td>2017</td>\n",
              "      <td>173.5</td>\n",
              "    </tr>\n",
              "    <tr>\n",
              "      <th>117</th>\n",
              "      <td>2018</td>\n",
              "      <td>183.8</td>\n",
              "    </tr>\n",
              "  </tbody>\n",
              "</table>\n",
              "<p>118 rows × 2 columns</p>\n",
              "</div>"
            ],
            "text/plain": [
              "     YEAR    MAY\n",
              "0    1901  174.7\n",
              "1    1902  134.5\n",
              "2    1903  249.7\n",
              "3    1904  235.7\n",
              "4    1905  263.3\n",
              "..    ...    ...\n",
              "113  2014  251.0\n",
              "114  2015  201.8\n",
              "115  2016  186.4\n",
              "116  2017  173.5\n",
              "117  2018  183.8\n",
              "\n",
              "[118 rows x 2 columns]"
            ]
          },
          "metadata": {
            "tags": []
          },
          "execution_count": 32
        }
      ]
    },
    {
      "cell_type": "code",
      "metadata": {
        "colab": {
          "base_uri": "https://localhost:8080/",
          "height": 402
        },
        "id": "7zG1Nf65iqFq",
        "outputId": "5e9f739f-26cf-431b-8643-a69fc0122c0d"
      },
      "source": [
        "may['res'] = 0\r\n",
        "may"
      ],
      "execution_count": 33,
      "outputs": [
        {
          "output_type": "execute_result",
          "data": {
            "text/html": [
              "<div>\n",
              "<style scoped>\n",
              "    .dataframe tbody tr th:only-of-type {\n",
              "        vertical-align: middle;\n",
              "    }\n",
              "\n",
              "    .dataframe tbody tr th {\n",
              "        vertical-align: top;\n",
              "    }\n",
              "\n",
              "    .dataframe thead th {\n",
              "        text-align: right;\n",
              "    }\n",
              "</style>\n",
              "<table border=\"1\" class=\"dataframe\">\n",
              "  <thead>\n",
              "    <tr style=\"text-align: right;\">\n",
              "      <th></th>\n",
              "      <th>YEAR</th>\n",
              "      <th>MAY</th>\n",
              "      <th>res</th>\n",
              "    </tr>\n",
              "  </thead>\n",
              "  <tbody>\n",
              "    <tr>\n",
              "      <th>0</th>\n",
              "      <td>1901</td>\n",
              "      <td>174.7</td>\n",
              "      <td>0</td>\n",
              "    </tr>\n",
              "    <tr>\n",
              "      <th>1</th>\n",
              "      <td>1902</td>\n",
              "      <td>134.5</td>\n",
              "      <td>0</td>\n",
              "    </tr>\n",
              "    <tr>\n",
              "      <th>2</th>\n",
              "      <td>1903</td>\n",
              "      <td>249.7</td>\n",
              "      <td>0</td>\n",
              "    </tr>\n",
              "    <tr>\n",
              "      <th>3</th>\n",
              "      <td>1904</td>\n",
              "      <td>235.7</td>\n",
              "      <td>0</td>\n",
              "    </tr>\n",
              "    <tr>\n",
              "      <th>4</th>\n",
              "      <td>1905</td>\n",
              "      <td>263.3</td>\n",
              "      <td>0</td>\n",
              "    </tr>\n",
              "    <tr>\n",
              "      <th>...</th>\n",
              "      <td>...</td>\n",
              "      <td>...</td>\n",
              "      <td>...</td>\n",
              "    </tr>\n",
              "    <tr>\n",
              "      <th>113</th>\n",
              "      <td>2014</td>\n",
              "      <td>251.0</td>\n",
              "      <td>0</td>\n",
              "    </tr>\n",
              "    <tr>\n",
              "      <th>114</th>\n",
              "      <td>2015</td>\n",
              "      <td>201.8</td>\n",
              "      <td>0</td>\n",
              "    </tr>\n",
              "    <tr>\n",
              "      <th>115</th>\n",
              "      <td>2016</td>\n",
              "      <td>186.4</td>\n",
              "      <td>0</td>\n",
              "    </tr>\n",
              "    <tr>\n",
              "      <th>116</th>\n",
              "      <td>2017</td>\n",
              "      <td>173.5</td>\n",
              "      <td>0</td>\n",
              "    </tr>\n",
              "    <tr>\n",
              "      <th>117</th>\n",
              "      <td>2018</td>\n",
              "      <td>183.8</td>\n",
              "      <td>0</td>\n",
              "    </tr>\n",
              "  </tbody>\n",
              "</table>\n",
              "<p>118 rows × 3 columns</p>\n",
              "</div>"
            ],
            "text/plain": [
              "     YEAR    MAY  res\n",
              "0    1901  174.7    0\n",
              "1    1902  134.5    0\n",
              "2    1903  249.7    0\n",
              "3    1904  235.7    0\n",
              "4    1905  263.3    0\n",
              "..    ...    ...  ...\n",
              "113  2014  251.0    0\n",
              "114  2015  201.8    0\n",
              "115  2016  186.4    0\n",
              "116  2017  173.5    0\n",
              "117  2018  183.8    0\n",
              "\n",
              "[118 rows x 3 columns]"
            ]
          },
          "metadata": {
            "tags": []
          },
          "execution_count": 33
        }
      ]
    },
    {
      "cell_type": "code",
      "metadata": {
        "colab": {
          "base_uri": "https://localhost:8080/",
          "height": 723
        },
        "id": "l24L879bixae",
        "outputId": "b4d6f1f1-7ca7-4a6b-b547-0d61754ebae9"
      },
      "source": [
        "for i in range(len(may)):\r\n",
        "  if may['MAY'][i] > 263:\r\n",
        "    may['res'][i]=1\r\n",
        "may[:20]"
      ],
      "execution_count": 34,
      "outputs": [
        {
          "output_type": "stream",
          "text": [
            "/usr/local/lib/python3.7/dist-packages/ipykernel_launcher.py:3: SettingWithCopyWarning: \n",
            "A value is trying to be set on a copy of a slice from a DataFrame\n",
            "\n",
            "See the caveats in the documentation: https://pandas.pydata.org/pandas-docs/stable/user_guide/indexing.html#returning-a-view-versus-a-copy\n",
            "  This is separate from the ipykernel package so we can avoid doing imports until\n"
          ],
          "name": "stderr"
        },
        {
          "output_type": "execute_result",
          "data": {
            "text/html": [
              "<div>\n",
              "<style scoped>\n",
              "    .dataframe tbody tr th:only-of-type {\n",
              "        vertical-align: middle;\n",
              "    }\n",
              "\n",
              "    .dataframe tbody tr th {\n",
              "        vertical-align: top;\n",
              "    }\n",
              "\n",
              "    .dataframe thead th {\n",
              "        text-align: right;\n",
              "    }\n",
              "</style>\n",
              "<table border=\"1\" class=\"dataframe\">\n",
              "  <thead>\n",
              "    <tr style=\"text-align: right;\">\n",
              "      <th></th>\n",
              "      <th>YEAR</th>\n",
              "      <th>MAY</th>\n",
              "      <th>res</th>\n",
              "    </tr>\n",
              "  </thead>\n",
              "  <tbody>\n",
              "    <tr>\n",
              "      <th>0</th>\n",
              "      <td>1901</td>\n",
              "      <td>174.7</td>\n",
              "      <td>0</td>\n",
              "    </tr>\n",
              "    <tr>\n",
              "      <th>1</th>\n",
              "      <td>1902</td>\n",
              "      <td>134.5</td>\n",
              "      <td>0</td>\n",
              "    </tr>\n",
              "    <tr>\n",
              "      <th>2</th>\n",
              "      <td>1903</td>\n",
              "      <td>249.7</td>\n",
              "      <td>0</td>\n",
              "    </tr>\n",
              "    <tr>\n",
              "      <th>3</th>\n",
              "      <td>1904</td>\n",
              "      <td>235.7</td>\n",
              "      <td>0</td>\n",
              "    </tr>\n",
              "    <tr>\n",
              "      <th>4</th>\n",
              "      <td>1905</td>\n",
              "      <td>263.3</td>\n",
              "      <td>1</td>\n",
              "    </tr>\n",
              "    <tr>\n",
              "      <th>5</th>\n",
              "      <td>1906</td>\n",
              "      <td>160.8</td>\n",
              "      <td>0</td>\n",
              "    </tr>\n",
              "    <tr>\n",
              "      <th>6</th>\n",
              "      <td>1907</td>\n",
              "      <td>101.4</td>\n",
              "      <td>0</td>\n",
              "    </tr>\n",
              "    <tr>\n",
              "      <th>7</th>\n",
              "      <td>1908</td>\n",
              "      <td>142.6</td>\n",
              "      <td>0</td>\n",
              "    </tr>\n",
              "    <tr>\n",
              "      <th>8</th>\n",
              "      <td>1909</td>\n",
              "      <td>473.2</td>\n",
              "      <td>1</td>\n",
              "    </tr>\n",
              "    <tr>\n",
              "      <th>9</th>\n",
              "      <td>1910</td>\n",
              "      <td>148.8</td>\n",
              "      <td>0</td>\n",
              "    </tr>\n",
              "    <tr>\n",
              "      <th>10</th>\n",
              "      <td>1911</td>\n",
              "      <td>180.6</td>\n",
              "      <td>0</td>\n",
              "    </tr>\n",
              "    <tr>\n",
              "      <th>11</th>\n",
              "      <td>1912</td>\n",
              "      <td>217.3</td>\n",
              "      <td>0</td>\n",
              "    </tr>\n",
              "    <tr>\n",
              "      <th>12</th>\n",
              "      <td>1913</td>\n",
              "      <td>198.8</td>\n",
              "      <td>0</td>\n",
              "    </tr>\n",
              "    <tr>\n",
              "      <th>13</th>\n",
              "      <td>1914</td>\n",
              "      <td>164.2</td>\n",
              "      <td>0</td>\n",
              "    </tr>\n",
              "    <tr>\n",
              "      <th>14</th>\n",
              "      <td>1915</td>\n",
              "      <td>154.5</td>\n",
              "      <td>0</td>\n",
              "    </tr>\n",
              "    <tr>\n",
              "      <th>15</th>\n",
              "      <td>1916</td>\n",
              "      <td>199.0</td>\n",
              "      <td>0</td>\n",
              "    </tr>\n",
              "    <tr>\n",
              "      <th>16</th>\n",
              "      <td>1917</td>\n",
              "      <td>122.9</td>\n",
              "      <td>0</td>\n",
              "    </tr>\n",
              "    <tr>\n",
              "      <th>17</th>\n",
              "      <td>1918</td>\n",
              "      <td>683.0</td>\n",
              "      <td>1</td>\n",
              "    </tr>\n",
              "    <tr>\n",
              "      <th>18</th>\n",
              "      <td>1919</td>\n",
              "      <td>247.0</td>\n",
              "      <td>0</td>\n",
              "    </tr>\n",
              "    <tr>\n",
              "      <th>19</th>\n",
              "      <td>1920</td>\n",
              "      <td>87.7</td>\n",
              "      <td>0</td>\n",
              "    </tr>\n",
              "  </tbody>\n",
              "</table>\n",
              "</div>"
            ],
            "text/plain": [
              "    YEAR    MAY  res\n",
              "0   1901  174.7    0\n",
              "1   1902  134.5    0\n",
              "2   1903  249.7    0\n",
              "3   1904  235.7    0\n",
              "4   1905  263.3    1\n",
              "5   1906  160.8    0\n",
              "6   1907  101.4    0\n",
              "7   1908  142.6    0\n",
              "8   1909  473.2    1\n",
              "9   1910  148.8    0\n",
              "10  1911  180.6    0\n",
              "11  1912  217.3    0\n",
              "12  1913  198.8    0\n",
              "13  1914  164.2    0\n",
              "14  1915  154.5    0\n",
              "15  1916  199.0    0\n",
              "16  1917  122.9    0\n",
              "17  1918  683.0    1\n",
              "18  1919  247.0    0\n",
              "19  1920   87.7    0"
            ]
          },
          "metadata": {
            "tags": []
          },
          "execution_count": 34
        }
      ]
    },
    {
      "cell_type": "code",
      "metadata": {
        "colab": {
          "base_uri": "https://localhost:8080/",
          "height": 402
        },
        "id": "X2_I8lAtj0a5",
        "outputId": "05cfb57e-9f26-4949-dd0b-7ef2cdf09f41"
      },
      "source": [
        "x1=may.iloc[:,0:2]\r\n",
        "x1"
      ],
      "execution_count": 35,
      "outputs": [
        {
          "output_type": "execute_result",
          "data": {
            "text/html": [
              "<div>\n",
              "<style scoped>\n",
              "    .dataframe tbody tr th:only-of-type {\n",
              "        vertical-align: middle;\n",
              "    }\n",
              "\n",
              "    .dataframe tbody tr th {\n",
              "        vertical-align: top;\n",
              "    }\n",
              "\n",
              "    .dataframe thead th {\n",
              "        text-align: right;\n",
              "    }\n",
              "</style>\n",
              "<table border=\"1\" class=\"dataframe\">\n",
              "  <thead>\n",
              "    <tr style=\"text-align: right;\">\n",
              "      <th></th>\n",
              "      <th>YEAR</th>\n",
              "      <th>MAY</th>\n",
              "    </tr>\n",
              "  </thead>\n",
              "  <tbody>\n",
              "    <tr>\n",
              "      <th>0</th>\n",
              "      <td>1901</td>\n",
              "      <td>174.7</td>\n",
              "    </tr>\n",
              "    <tr>\n",
              "      <th>1</th>\n",
              "      <td>1902</td>\n",
              "      <td>134.5</td>\n",
              "    </tr>\n",
              "    <tr>\n",
              "      <th>2</th>\n",
              "      <td>1903</td>\n",
              "      <td>249.7</td>\n",
              "    </tr>\n",
              "    <tr>\n",
              "      <th>3</th>\n",
              "      <td>1904</td>\n",
              "      <td>235.7</td>\n",
              "    </tr>\n",
              "    <tr>\n",
              "      <th>4</th>\n",
              "      <td>1905</td>\n",
              "      <td>263.3</td>\n",
              "    </tr>\n",
              "    <tr>\n",
              "      <th>...</th>\n",
              "      <td>...</td>\n",
              "      <td>...</td>\n",
              "    </tr>\n",
              "    <tr>\n",
              "      <th>113</th>\n",
              "      <td>2014</td>\n",
              "      <td>251.0</td>\n",
              "    </tr>\n",
              "    <tr>\n",
              "      <th>114</th>\n",
              "      <td>2015</td>\n",
              "      <td>201.8</td>\n",
              "    </tr>\n",
              "    <tr>\n",
              "      <th>115</th>\n",
              "      <td>2016</td>\n",
              "      <td>186.4</td>\n",
              "    </tr>\n",
              "    <tr>\n",
              "      <th>116</th>\n",
              "      <td>2017</td>\n",
              "      <td>173.5</td>\n",
              "    </tr>\n",
              "    <tr>\n",
              "      <th>117</th>\n",
              "      <td>2018</td>\n",
              "      <td>183.8</td>\n",
              "    </tr>\n",
              "  </tbody>\n",
              "</table>\n",
              "<p>118 rows × 2 columns</p>\n",
              "</div>"
            ],
            "text/plain": [
              "     YEAR    MAY\n",
              "0    1901  174.7\n",
              "1    1902  134.5\n",
              "2    1903  249.7\n",
              "3    1904  235.7\n",
              "4    1905  263.3\n",
              "..    ...    ...\n",
              "113  2014  251.0\n",
              "114  2015  201.8\n",
              "115  2016  186.4\n",
              "116  2017  173.5\n",
              "117  2018  183.8\n",
              "\n",
              "[118 rows x 2 columns]"
            ]
          },
          "metadata": {
            "tags": []
          },
          "execution_count": 35
        }
      ]
    },
    {
      "cell_type": "code",
      "metadata": {
        "colab": {
          "base_uri": "https://localhost:8080/"
        },
        "id": "l1gOezcvkj76",
        "outputId": "fb75bd77-c0ef-4714-96ab-1b7f29d177ff"
      },
      "source": [
        "y1=may.iloc[:,-1]\r\n",
        "y1=np.asarray(y1)\r\n",
        "y1"
      ],
      "execution_count": 36,
      "outputs": [
        {
          "output_type": "execute_result",
          "data": {
            "text/plain": [
              "array([0, 0, 0, 0, 1, 0, 0, 0, 1, 0, 0, 0, 0, 0, 0, 0, 0, 1, 0, 0, 0, 1,\n",
              "       0, 0, 0, 0, 1, 0, 0, 1, 0, 1, 1, 0, 0, 1, 0, 0, 0, 0, 1, 0, 1, 0,\n",
              "       0, 0, 0, 0, 1, 0, 0, 0, 0, 0, 1, 1, 1, 1, 1, 1, 1, 1, 0, 0, 0, 0,\n",
              "       0, 0, 0, 1, 1, 1, 0, 0, 0, 0, 1, 1, 0, 0, 0, 0, 0, 0, 0, 0, 0, 0,\n",
              "       0, 1, 0, 0, 0, 0, 1, 0, 0, 0, 1, 0, 0, 1, 0, 1, 0, 1, 0, 0, 0, 0,\n",
              "       0, 0, 0, 0, 0, 0, 0, 0])"
            ]
          },
          "metadata": {
            "tags": []
          },
          "execution_count": 36
        }
      ]
    },
    {
      "cell_type": "code",
      "metadata": {
        "colab": {
          "base_uri": "https://localhost:8080/"
        },
        "id": "I2sCTX63kqU3",
        "outputId": "a6ec6c4f-831a-4ed8-ae4f-aff3ece9e8e3"
      },
      "source": [
        "from sklearn import preprocessing\r\n",
        "minmax = preprocessing.MinMaxScaler(feature_range=(0,1))\r\n",
        "x1 = minmax.fit(x1).transform(x1)\r\n",
        "x1"
      ],
      "execution_count": 37,
      "outputs": [
        {
          "output_type": "execute_result",
          "data": {
            "text/plain": [
              "array([[0.        , 0.17697695],\n",
              "       [0.00854701, 0.11832507],\n",
              "       [0.01709402, 0.2864021 ],\n",
              "       [0.02564103, 0.26597607],\n",
              "       [0.03418803, 0.30624453],\n",
              "       [0.04273504, 0.15669682],\n",
              "       [0.05128205, 0.0700321 ],\n",
              "       [0.05982906, 0.13014298],\n",
              "       [0.06837607, 0.61248906],\n",
              "       [0.07692308, 0.13918879],\n",
              "       [0.08547009, 0.18558506],\n",
              "       [0.09401709, 0.23913043],\n",
              "       [0.1025641 , 0.2121389 ],\n",
              "       [0.11111111, 0.16165743],\n",
              "       [0.11965812, 0.14750511],\n",
              "       [0.12820513, 0.2124307 ],\n",
              "       [0.13675214, 0.10140064],\n",
              "       [0.14529915, 0.91858769],\n",
              "       [0.15384615, 0.2824628 ],\n",
              "       [0.16239316, 0.05004377],\n",
              "       [0.17094017, 0.0739714 ],\n",
              "       [0.17948718, 0.35045229],\n",
              "       [0.18803419, 0.03880945],\n",
              "       [0.1965812 , 0.19258827],\n",
              "       [0.20512821, 0.29880362],\n",
              "       [0.21367521, 0.24686315],\n",
              "       [0.22222222, 0.30930843],\n",
              "       [0.23076923, 0.04158156],\n",
              "       [0.23931624, 0.13802159],\n",
              "       [0.24786325, 0.51283922],\n",
              "       [0.25641026, 0.11423986],\n",
              "       [0.26495726, 0.86533411],\n",
              "       [0.27350427, 1.        ],\n",
              "       [0.28205128, 0.07776481],\n",
              "       [0.29059829, 0.00466881],\n",
              "       [0.2991453 , 0.60271374],\n",
              "       [0.30769231, 0.12211847],\n",
              "       [0.31623932, 0.18412606],\n",
              "       [0.32478632, 0.07543041],\n",
              "       [0.33333333, 0.23927633],\n",
              "       [0.34188034, 0.53122264],\n",
              "       [0.35042735, 0.20207178],\n",
              "       [0.35897436, 0.62007587],\n",
              "       [0.36752137, 0.23241903],\n",
              "       [0.37606838, 0.        ],\n",
              "       [0.38461538, 0.04318646],\n",
              "       [0.39316239, 0.04712577],\n",
              "       [0.4017094 , 0.23183542],\n",
              "       [0.41025641, 0.56405019],\n",
              "       [0.41880342, 0.27516779],\n",
              "       [0.42735043, 0.13875109],\n",
              "       [0.43589744, 0.23519113],\n",
              "       [0.44444444, 0.002918  ],\n",
              "       [0.45299145, 0.18398016],\n",
              "       [0.46153846, 0.7160782 ],\n",
              "       [0.47008547, 0.43463671],\n",
              "       [0.47863248, 0.47826087],\n",
              "       [0.48717949, 0.43784651],\n",
              "       [0.4957265 , 0.4286548 ],\n",
              "       [0.5042735 , 0.70995039],\n",
              "       [0.51282051, 0.65231981],\n",
              "       [0.52136752, 0.61132186],\n",
              "       [0.52991453, 0.15129851],\n",
              "       [0.53846154, 0.06040268],\n",
              "       [0.54700855, 0.23504523],\n",
              "       [0.55555556, 0.06098629],\n",
              "       [0.56410256, 0.27939889],\n",
              "       [0.57264957, 0.05339947],\n",
              "       [0.58119658, 0.25386636],\n",
              "       [0.58974359, 0.34388678],\n",
              "       [0.5982906 , 0.38532244],\n",
              "       [0.60683761, 0.55821418],\n",
              "       [0.61538462, 0.09702364],\n",
              "       [0.62393162, 0.24525824],\n",
              "       [0.63247863, 0.15873942],\n",
              "       [0.64102564, 0.03268165],\n",
              "       [0.64957265, 0.36912752],\n",
              "       [0.65811966, 0.5010213 ],\n",
              "       [0.66666667, 0.10840385],\n",
              "       [0.67521368, 0.07572221],\n",
              "       [0.68376068, 0.16472133],\n",
              "       [0.69230769, 0.13831339],\n",
              "       [0.7008547 , 0.03297345],\n",
              "       [0.70940171, 0.04552086],\n",
              "       [0.71794872, 0.29296761],\n",
              "       [0.72649573, 0.10694485],\n",
              "       [0.73504274, 0.08009921],\n",
              "       [0.74358974, 0.15144441],\n",
              "       [0.75213675, 0.16924424],\n",
              "       [0.76068376, 0.63481179],\n",
              "       [0.76923077, 0.08754012],\n",
              "       [0.77777778, 0.24073534],\n",
              "       [0.78632479, 0.15407062],\n",
              "       [0.79487179, 0.12824628],\n",
              "       [0.8034188 , 0.44091042],\n",
              "       [0.81196581, 0.03049314],\n",
              "       [0.82051282, 0.11701196],\n",
              "       [0.82905983, 0.143274  ],\n",
              "       [0.83760684, 0.58330902],\n",
              "       [0.84615385, 0.10373505],\n",
              "       [0.85470085, 0.27020718],\n",
              "       [0.86324786, 0.40472717],\n",
              "       [0.87179487, 0.05485848],\n",
              "       [0.88034188, 0.81339364],\n",
              "       [0.88888889, 0.11876277],\n",
              "       [0.8974359 , 0.68252116],\n",
              "       [0.90598291, 0.20323898],\n",
              "       [0.91452991, 0.04056026],\n",
              "       [0.92307692, 0.20163408],\n",
              "       [0.93162393, 0.20017508],\n",
              "       [0.94017094, 0.10329734],\n",
              "       [0.94871795, 0.06113219],\n",
              "       [0.95726496, 0.09614823],\n",
              "       [0.96581197, 0.2882988 ],\n",
              "       [0.97435897, 0.2165159 ],\n",
              "       [0.98290598, 0.19404727],\n",
              "       [0.99145299, 0.17522615],\n",
              "       [1.        , 0.19025387]])"
            ]
          },
          "metadata": {
            "tags": []
          },
          "execution_count": 37
        }
      ]
    },
    {
      "cell_type": "code",
      "metadata": {
        "colab": {
          "base_uri": "https://localhost:8080/"
        },
        "id": "-pzcTI8nlQca",
        "outputId": "c72d13c8-65fe-4eec-c8e6-73268dd71b57"
      },
      "source": [
        "from sklearn import model_selection,neighbors\r\n",
        "from sklearn.model_selection import train_test_split\r\n",
        "xMay_train,xMay_test,yMay_train,yMay_test=train_test_split(x1,y1,test_size=0.2)\r\n",
        "xMay_train[:20]"
      ],
      "execution_count": 38,
      "outputs": [
        {
          "output_type": "execute_result",
          "data": {
            "text/plain": [
              "array([[0.83760684, 0.58330902],\n",
              "       [0.46153846, 0.7160782 ],\n",
              "       [0.1965812 , 0.19258827],\n",
              "       [0.28205128, 0.07776481],\n",
              "       [0.97435897, 0.2165159 ],\n",
              "       [0.8974359 , 0.68252116],\n",
              "       [0.76068376, 0.63481179],\n",
              "       [0.77777778, 0.24073534],\n",
              "       [0.70940171, 0.04552086],\n",
              "       [0.03418803, 0.30624453],\n",
              "       [0.34188034, 0.53122264],\n",
              "       [0.39316239, 0.04712577],\n",
              "       [0.08547009, 0.18558506],\n",
              "       [0.04273504, 0.15669682],\n",
              "       [0.94017094, 0.10329734],\n",
              "       [0.58974359, 0.34388678],\n",
              "       [0.79487179, 0.12824628],\n",
              "       [0.06837607, 0.61248906],\n",
              "       [0.24786325, 0.51283922],\n",
              "       [0.64102564, 0.03268165]])"
            ]
          },
          "metadata": {
            "tags": []
          },
          "execution_count": 38
        }
      ]
    },
    {
      "cell_type": "code",
      "metadata": {
        "colab": {
          "base_uri": "https://localhost:8080/"
        },
        "id": "XnB6phVRzJYi",
        "outputId": "96da9c87-c250-4831-b502-4fd0997408b6"
      },
      "source": [
        "yMay_train"
      ],
      "execution_count": 39,
      "outputs": [
        {
          "output_type": "execute_result",
          "data": {
            "text/plain": [
              "array([1, 1, 0, 0, 0, 1, 1, 0, 0, 1, 1, 0, 0, 0, 0, 1, 0, 1, 1, 0, 0, 1,\n",
              "       1, 0, 0, 0, 0, 0, 0, 0, 1, 0, 1, 0, 0, 0, 1, 1, 0, 1, 0, 0, 0, 0,\n",
              "       0, 0, 1, 0, 0, 0, 0, 0, 0, 0, 0, 0, 0, 0, 1, 0, 0, 0, 0, 1, 1, 0,\n",
              "       1, 0, 0, 0, 0, 0, 0, 0, 0, 0, 1, 0, 0, 0, 0, 0, 0, 0, 1, 0, 1, 0,\n",
              "       0, 0, 0, 0, 0, 0])"
            ]
          },
          "metadata": {
            "tags": []
          },
          "execution_count": 39
        }
      ]
    },
    {
      "cell_type": "code",
      "metadata": {
        "colab": {
          "base_uri": "https://localhost:8080/"
        },
        "id": "X5UQ9of8lqEe",
        "outputId": "42372765-79c7-42ca-9eab-a46a5623d601"
      },
      "source": [
        "clf5=neighbors.KNeighborsClassifier()\r\n",
        "clf5.fit(xMay_train,yMay_train)"
      ],
      "execution_count": 40,
      "outputs": [
        {
          "output_type": "execute_result",
          "data": {
            "text/plain": [
              "KNeighborsClassifier(algorithm='auto', leaf_size=30, metric='minkowski',\n",
              "                     metric_params=None, n_jobs=None, n_neighbors=5, p=2,\n",
              "                     weights='uniform')"
            ]
          },
          "metadata": {
            "tags": []
          },
          "execution_count": 40
        }
      ]
    },
    {
      "cell_type": "code",
      "metadata": {
        "colab": {
          "base_uri": "https://localhost:8080/"
        },
        "id": "F6V7sg6M0BR_",
        "outputId": "b6022772-54cb-4c55-b913-0f61c9bbae8e"
      },
      "source": [
        "yMay_predict = clf5.predict(xMay_test)\r\n",
        "yMay_predict"
      ],
      "execution_count": 41,
      "outputs": [
        {
          "output_type": "execute_result",
          "data": {
            "text/plain": [
              "array([0, 0, 1, 0, 0, 0, 1, 0, 0, 0, 1, 1, 0, 1, 0, 0, 0, 0, 0, 0, 0, 0,\n",
              "       0, 1])"
            ]
          },
          "metadata": {
            "tags": []
          },
          "execution_count": 41
        }
      ]
    },
    {
      "cell_type": "code",
      "metadata": {
        "colab": {
          "base_uri": "https://localhost:8080/",
          "height": 282
        },
        "id": "9CWXSd6UmG5A",
        "outputId": "03af8849-1bab-44df-c2cc-0ea598991a31"
      },
      "source": [
        "import matplotlib.pyplot as plt\r\n",
        "plt.plot(yMay_test)\r\n",
        "\r\n"
      ],
      "execution_count": null,
      "outputs": [
        {
          "output_type": "execute_result",
          "data": {
            "text/plain": [
              "[<matplotlib.lines.Line2D at 0x7f249c733890>]"
            ]
          },
          "metadata": {
            "tags": []
          },
          "execution_count": 23
        },
        {
          "output_type": "display_data",
          "data": {
            "image/png": "[encoded data removed]",
            "text/plain": [
              "<Figure size 432x288 with 1 Axes>"
            ]
          },
          "metadata": {
            "tags": [],
            "needs_background": "light"
          }
        }
      ]
    },
    {
      "cell_type": "code",
      "metadata": {
        "colab": {
          "base_uri": "https://localhost:8080/",
          "height": 282
        },
        "id": "32b0jaBPoIhA",
        "outputId": "aed91de7-ca0e-4453-be2e-d8eba54c9b86"
      },
      "source": [
        "plt.plot(yMay_predict)"
      ],
      "execution_count": null,
      "outputs": [
        {
          "output_type": "execute_result",
          "data": {
            "text/plain": [
              "[<matplotlib.lines.Line2D at 0x7f249c651290>]"
            ]
          },
          "metadata": {
            "tags": []
          },
          "execution_count": 24
        },
        {
          "output_type": "display_data",
          "data": {
            "image/png": "[encoded data removed]",
            "text/plain": [
              "<Figure size 432x288 with 1 Axes>"
            ]
          },
          "metadata": {
            "tags": [],
            "needs_background": "light"
          }
        }
      ]
    },
    {
      "cell_type": "code",
      "metadata": {
        "id": "lpNg2PlstmOm"
      },
      "source": [
        ""
      ],
      "execution_count": null,
      "outputs": []
    },
    {
      "cell_type": "code",
      "metadata": {
        "colab": {
          "base_uri": "https://localhost:8080/",
          "height": 402
        },
        "id": "IeottuuOhODo",
        "outputId": "5a06a8d3-504e-4bed-b41b-049232e778d4"
      },
      "source": [
        "feb=data.iloc[:,[1,3]]\r\n",
        "feb"
      ],
      "execution_count": 13,
      "outputs": [
        {
          "output_type": "execute_result",
          "data": {
            "text/html": [
              "<div>\n",
              "<style scoped>\n",
              "    .dataframe tbody tr th:only-of-type {\n",
              "        vertical-align: middle;\n",
              "    }\n",
              "\n",
              "    .dataframe tbody tr th {\n",
              "        vertical-align: top;\n",
              "    }\n",
              "\n",
              "    .dataframe thead th {\n",
              "        text-align: right;\n",
              "    }\n",
              "</style>\n",
              "<table border=\"1\" class=\"dataframe\">\n",
              "  <thead>\n",
              "    <tr style=\"text-align: right;\">\n",
              "      <th></th>\n",
              "      <th>YEAR</th>\n",
              "      <th>FEB</th>\n",
              "    </tr>\n",
              "  </thead>\n",
              "  <tbody>\n",
              "    <tr>\n",
              "      <th>0</th>\n",
              "      <td>1901</td>\n",
              "      <td>44.7</td>\n",
              "    </tr>\n",
              "    <tr>\n",
              "      <th>1</th>\n",
              "      <td>1902</td>\n",
              "      <td>2.6</td>\n",
              "    </tr>\n",
              "    <tr>\n",
              "      <th>2</th>\n",
              "      <td>1903</td>\n",
              "      <td>18.6</td>\n",
              "    </tr>\n",
              "    <tr>\n",
              "      <th>3</th>\n",
              "      <td>1904</td>\n",
              "      <td>3.0</td>\n",
              "    </tr>\n",
              "    <tr>\n",
              "      <th>4</th>\n",
              "      <td>1905</td>\n",
              "      <td>22.3</td>\n",
              "    </tr>\n",
              "    <tr>\n",
              "      <th>...</th>\n",
              "      <td>...</td>\n",
              "      <td>...</td>\n",
              "    </tr>\n",
              "    <tr>\n",
              "      <th>113</th>\n",
              "      <td>2014</td>\n",
              "      <td>10.3</td>\n",
              "    </tr>\n",
              "    <tr>\n",
              "      <th>114</th>\n",
              "      <td>2015</td>\n",
              "      <td>5.8</td>\n",
              "    </tr>\n",
              "    <tr>\n",
              "      <th>115</th>\n",
              "      <td>2016</td>\n",
              "      <td>3.8</td>\n",
              "    </tr>\n",
              "    <tr>\n",
              "      <th>116</th>\n",
              "      <td>2017</td>\n",
              "      <td>6.8</td>\n",
              "    </tr>\n",
              "    <tr>\n",
              "      <th>117</th>\n",
              "      <td>2018</td>\n",
              "      <td>52.1</td>\n",
              "    </tr>\n",
              "  </tbody>\n",
              "</table>\n",
              "<p>118 rows × 2 columns</p>\n",
              "</div>"
            ],
            "text/plain": [
              "     YEAR   FEB\n",
              "0    1901  44.7\n",
              "1    1902   2.6\n",
              "2    1903  18.6\n",
              "3    1904   3.0\n",
              "4    1905  22.3\n",
              "..    ...   ...\n",
              "113  2014  10.3\n",
              "114  2015   5.8\n",
              "115  2016   3.8\n",
              "116  2017   6.8\n",
              "117  2018  52.1\n",
              "\n",
              "[118 rows x 2 columns]"
            ]
          },
          "metadata": {
            "tags": []
          },
          "execution_count": 13
        }
      ]
    },
    {
      "cell_type": "code",
      "metadata": {
        "colab": {
          "base_uri": "https://localhost:8080/",
          "height": 502
        },
        "id": "lIbvb5mjuml7",
        "outputId": "bd299265-8eb5-4045-a3ff-087844699187"
      },
      "source": [
        "feb['res']=0\r\n",
        "feb\r\n",
        "for i in range(len(feb)):\r\n",
        "  if feb['FEB'][i]>263:\r\n",
        "    feb['res'][i]=1\r\n",
        "feb"
      ],
      "execution_count": 14,
      "outputs": [
        {
          "output_type": "stream",
          "text": [
            "/usr/local/lib/python3.7/dist-packages/ipykernel_launcher.py:1: SettingWithCopyWarning: \n",
            "A value is trying to be set on a copy of a slice from a DataFrame.\n",
            "Try using .loc[row_indexer,col_indexer] = value instead\n",
            "\n",
            "See the caveats in the documentation: https://pandas.pydata.org/pandas-docs/stable/user_guide/indexing.html#returning-a-view-versus-a-copy\n",
            "  \"\"\"Entry point for launching an IPython kernel.\n"
          ],
          "name": "stderr"
        },
        {
          "output_type": "execute_result",
          "data": {
            "text/html": [
              "<div>\n",
              "<style scoped>\n",
              "    .dataframe tbody tr th:only-of-type {\n",
              "        vertical-align: middle;\n",
              "    }\n",
              "\n",
              "    .dataframe tbody tr th {\n",
              "        vertical-align: top;\n",
              "    }\n",
              "\n",
              "    .dataframe thead th {\n",
              "        text-align: right;\n",
              "    }\n",
              "</style>\n",
              "<table border=\"1\" class=\"dataframe\">\n",
              "  <thead>\n",
              "    <tr style=\"text-align: right;\">\n",
              "      <th></th>\n",
              "      <th>YEAR</th>\n",
              "      <th>FEB</th>\n",
              "      <th>res</th>\n",
              "    </tr>\n",
              "  </thead>\n",
              "  <tbody>\n",
              "    <tr>\n",
              "      <th>0</th>\n",
              "      <td>1901</td>\n",
              "      <td>44.7</td>\n",
              "      <td>0</td>\n",
              "    </tr>\n",
              "    <tr>\n",
              "      <th>1</th>\n",
              "      <td>1902</td>\n",
              "      <td>2.6</td>\n",
              "      <td>0</td>\n",
              "    </tr>\n",
              "    <tr>\n",
              "      <th>2</th>\n",
              "      <td>1903</td>\n",
              "      <td>18.6</td>\n",
              "      <td>0</td>\n",
              "    </tr>\n",
              "    <tr>\n",
              "      <th>3</th>\n",
              "      <td>1904</td>\n",
              "      <td>3.0</td>\n",
              "      <td>0</td>\n",
              "    </tr>\n",
              "    <tr>\n",
              "      <th>4</th>\n",
              "      <td>1905</td>\n",
              "      <td>22.3</td>\n",
              "      <td>0</td>\n",
              "    </tr>\n",
              "    <tr>\n",
              "      <th>...</th>\n",
              "      <td>...</td>\n",
              "      <td>...</td>\n",
              "      <td>...</td>\n",
              "    </tr>\n",
              "    <tr>\n",
              "      <th>113</th>\n",
              "      <td>2014</td>\n",
              "      <td>10.3</td>\n",
              "      <td>0</td>\n",
              "    </tr>\n",
              "    <tr>\n",
              "      <th>114</th>\n",
              "      <td>2015</td>\n",
              "      <td>5.8</td>\n",
              "      <td>0</td>\n",
              "    </tr>\n",
              "    <tr>\n",
              "      <th>115</th>\n",
              "      <td>2016</td>\n",
              "      <td>3.8</td>\n",
              "      <td>0</td>\n",
              "    </tr>\n",
              "    <tr>\n",
              "      <th>116</th>\n",
              "      <td>2017</td>\n",
              "      <td>6.8</td>\n",
              "      <td>0</td>\n",
              "    </tr>\n",
              "    <tr>\n",
              "      <th>117</th>\n",
              "      <td>2018</td>\n",
              "      <td>52.1</td>\n",
              "      <td>0</td>\n",
              "    </tr>\n",
              "  </tbody>\n",
              "</table>\n",
              "<p>118 rows × 3 columns</p>\n",
              "</div>"
            ],
            "text/plain": [
              "     YEAR   FEB  res\n",
              "0    1901  44.7    0\n",
              "1    1902   2.6    0\n",
              "2    1903  18.6    0\n",
              "3    1904   3.0    0\n",
              "4    1905  22.3    0\n",
              "..    ...   ...  ...\n",
              "113  2014  10.3    0\n",
              "114  2015   5.8    0\n",
              "115  2016   3.8    0\n",
              "116  2017   6.8    0\n",
              "117  2018  52.1    0\n",
              "\n",
              "[118 rows x 3 columns]"
            ]
          },
          "metadata": {
            "tags": []
          },
          "execution_count": 14
        }
      ]
    },
    {
      "cell_type": "code",
      "metadata": {
        "colab": {
          "base_uri": "https://localhost:8080/"
        },
        "id": "G_MuUZLtvX-a",
        "outputId": "63f3670a-c69f-4cad-a28a-d4e3a1b561f8"
      },
      "source": [
        "x=feb.iloc[:,0:2]\r\n",
        "y=feb.iloc[:,-1]\r\n",
        "y=np.asarray(y)\r\n",
        "print(x,y)"
      ],
      "execution_count": 15,
      "outputs": [
        {
          "output_type": "stream",
          "text": [
            "     YEAR   FEB\n",
            "0    1901  44.7\n",
            "1    1902   2.6\n",
            "2    1903  18.6\n",
            "3    1904   3.0\n",
            "4    1905  22.3\n",
            "..    ...   ...\n",
            "113  2014  10.3\n",
            "114  2015   5.8\n",
            "115  2016   3.8\n",
            "116  2017   6.8\n",
            "117  2018  52.1\n",
            "\n",
            "[118 rows x 2 columns] [0 0 0 0 0 0 0 0 0 0 0 0 0 0 0 0 0 0 0 0 0 0 0 0 0 0 0 0 0 0 0 0 0 0 0 0 0\n",
            " 0 0 0 0 0 0 0 0 0 0 0 0 0 0 0 0 0 0 0 0 0 0 0 0 0 0 0 0 0 0 0 0 0 0 0 0 0\n",
            " 0 0 0 0 0 0 0 0 0 0 0 0 0 0 0 0 0 0 0 0 0 0 0 0 0 0 0 0 0 0 0 0 0 0 0 0 0\n",
            " 0 0 0 0 0 0 0]\n"
          ],
          "name": "stdout"
        }
      ]
    },
    {
      "cell_type": "code",
      "metadata": {
        "colab": {
          "base_uri": "https://localhost:8080/"
        },
        "id": "ZhY1WdjJx2YE",
        "outputId": "00bc5c99-4708-46ed-ff5b-1b8e7ae0de73"
      },
      "source": [
        "from sklearn import preprocessing\r\n",
        "from sklearn import model_selection,neighbors\r\n",
        "from sklearn.model_selection import train_test_split\r\n",
        "\r\n",
        "minmax = preprocessing.MinMaxScaler(feature_range=(0,1))\r\n",
        "x = minmax.fit(x).transform(x)\r\n",
        "xFeb_train,xFeb_test,yFeb_train,yFeb_test=train_test_split(x,y,test_size=0.2)\r\n",
        "print(xFeb_train,yFeb_train,xFeb_test,yFeb_test)"
      ],
      "execution_count": 17,
      "outputs": [
        {
          "output_type": "stream",
          "text": [
            "[[0.87179487 0.6443038 ]\n",
            " [0.48717949 0.2443038 ]\n",
            " [0.41880342 0.67974684]\n",
            " [0.17948718 0.27088608]\n",
            " [0.75213675 0.        ]\n",
            " [0.16239316 0.06962025]\n",
            " [0.15384615 0.07721519]\n",
            " [0.06837607 0.14936709]\n",
            " [0.47008547 0.14810127]\n",
            " [0.84615385 0.73164557]\n",
            " [0.29059829 0.10506329]\n",
            " [0.65811966 0.18607595]\n",
            " [0.22222222 0.44683544]\n",
            " [0.39316239 0.34556962]\n",
            " [0.21367521 0.07341772]\n",
            " [0.58119658 0.08101266]\n",
            " [0.60683761 0.09493671]\n",
            " [0.52991453 0.31392405]\n",
            " [0.12820513 0.09873418]\n",
            " [0.00854701 0.03291139]\n",
            " [0.18803419 0.00886076]\n",
            " [0.17094017 0.05949367]\n",
            " [0.94871795 0.13924051]\n",
            " [0.26495726 0.2443038 ]\n",
            " [0.36752137 0.33670886]\n",
            " [0.66666667 0.37974684]\n",
            " [0.43589744 0.61012658]\n",
            " [0.01709402 0.23544304]\n",
            " [0.31623932 1.        ]\n",
            " [0.23076923 0.83417722]\n",
            " [0.54700855 0.01139241]\n",
            " [0.34188034 0.05822785]\n",
            " [0.64102564 0.01898734]\n",
            " [0.46153846 0.07974684]\n",
            " [0.57264957 0.38607595]\n",
            " [0.99145299 0.08607595]\n",
            " [0.         0.56582278]\n",
            " [0.30769231 0.26835443]\n",
            " [0.83760684 0.30126582]\n",
            " [0.86324786 0.11012658]\n",
            " [0.5042735  0.10632911]\n",
            " [0.82051282 0.01898734]\n",
            " [0.78632479 0.22531646]\n",
            " [0.25641026 0.00379747]\n",
            " [0.82905983 0.02658228]\n",
            " [0.62393162 0.06835443]\n",
            " [0.97435897 0.07341772]\n",
            " [0.56410256 0.00126582]\n",
            " [0.03418803 0.28227848]\n",
            " [0.24786325 0.13670886]\n",
            " [0.02564103 0.03797468]\n",
            " [0.38461538 0.06835443]\n",
            " [0.63247863 0.27088608]\n",
            " [0.47863248 0.20253165]\n",
            " [0.61538462 0.00379747]\n",
            " [0.28205128 0.02151899]\n",
            " [0.70940171 0.75949367]\n",
            " [0.90598291 0.07088608]\n",
            " [0.7008547  0.01898734]\n",
            " [0.8034188  0.08227848]\n",
            " [0.68376068 0.08607595]\n",
            " [0.55555556 0.08734177]\n",
            " [0.37606838 0.12531646]\n",
            " [0.27350427 0.11772152]\n",
            " [0.08547009 0.05443038]\n",
            " [0.85470085 0.35822785]\n",
            " [0.93162393 0.01265823]\n",
            " [0.32478632 0.04556962]\n",
            " [0.81196581 0.11518987]\n",
            " [0.2991453  0.20886076]\n",
            " [0.77777778 0.01139241]\n",
            " [1.         0.65949367]\n",
            " [0.69230769 0.00126582]\n",
            " [0.1965812  0.03670886]\n",
            " [0.41025641 0.02278481]\n",
            " [0.88034188 0.10253165]\n",
            " [0.11965812 0.29746835]\n",
            " [0.95726496 0.50759494]\n",
            " [0.09401709 0.18987342]\n",
            " [0.53846154 0.09873418]\n",
            " [0.33333333 0.01898734]\n",
            " [0.96581197 0.13037975]\n",
            " [0.71794872 0.07721519]\n",
            " [0.1025641  0.06582278]\n",
            " [0.88888889 0.08860759]\n",
            " [0.76923077 0.0556962 ]\n",
            " [0.8974359  0.00632911]\n",
            " [0.4957265  0.27088608]\n",
            " [0.64957265 0.19873418]\n",
            " [0.4017094  0.10506329]\n",
            " [0.14529915 0.06329114]\n",
            " [0.72649573 0.23670886]\n",
            " [0.05982906 0.26329114]\n",
            " [0.20512821 0.20886076]] [0 0 0 0 0 0 0 0 0 0 0 0 0 0 0 0 0 0 0 0 0 0 0 0 0 0 0 0 0 0 0 0 0 0 0 0 0\n",
            " 0 0 0 0 0 0 0 0 0 0 0 0 0 0 0 0 0 0 0 0 0 0 0 0 0 0 0 0 0 0 0 0 0 0 0 0 0\n",
            " 0 0 0 0 0 0 0 0 0 0 0 0 0 0 0 0 0 0 0 0] [[0.76068376 0.06075949]\n",
            " [0.94017094 0.57848101]\n",
            " [0.58974359 0.22278481]\n",
            " [0.91452991 0.3835443 ]\n",
            " [0.51282051 0.39620253]\n",
            " [0.73504274 0.01012658]\n",
            " [0.45299145 0.03544304]\n",
            " [0.79487179 0.34303797]\n",
            " [0.44444444 0.28607595]\n",
            " [0.98290598 0.04810127]\n",
            " [0.11111111 0.08607595]\n",
            " [0.04273504 0.09367089]\n",
            " [0.07692308 0.32531646]\n",
            " [0.05128205 0.06075949]\n",
            " [0.13675214 0.60253165]\n",
            " [0.42735043 0.08227848]\n",
            " [0.35897436 0.18481013]\n",
            " [0.5982906  0.23417722]\n",
            " [0.74358974 0.22151899]\n",
            " [0.67521368 0.01139241]\n",
            " [0.35042735 0.05949367]\n",
            " [0.92307692 0.01898734]\n",
            " [0.23931624 0.37721519]\n",
            " [0.52136752 0.69240506]] [0 0 0 0 0 0 0 0 0 0 0 0 0 0 0 0 0 0 0 0 0 0 0 0]\n"
          ],
          "name": "stdout"
        }
      ]
    },
    {
      "cell_type": "code",
      "metadata": {
        "colab": {
          "base_uri": "https://localhost:8080/"
        },
        "id": "HSKDLKSZzVmH",
        "outputId": "2d69a521-c476-4ee0-db06-02a39c1348c7"
      },
      "source": [
        "clf2=neighbors.KNeighborsClassifier()\r\n",
        "clf2.fit(xFeb_train,yFeb_train)\r\n",
        "print(\"Predicted Values for the Floods:\")\r\n",
        "yFeb_predict=clf2.predict(xFeb_test)\r\n",
        "print(yFeb_predict,len(yFeb_predict))"
      ],
      "execution_count": 18,
      "outputs": [
        {
          "output_type": "stream",
          "text": [
            "Predicted Values for the Floods:\n",
            "[0 0 0 0 0 0 0 0 0 0 0 0 0 0 0 0 0 0 0 0 0 0 0 0] 24\n"
          ],
          "name": "stdout"
        }
      ]
    },
    {
      "cell_type": "code",
      "metadata": {
        "colab": {
          "base_uri": "https://localhost:8080/",
          "height": 265
        },
        "id": "WeRbGlHX0Dxu",
        "outputId": "0e13d0f3-31ee-48cd-8446-62858dc03b2e"
      },
      "source": [
        "plt.plot(yFeb_predict)\r\n",
        "plt.plot(yFeb_test)\r\n",
        "plt.grid(\"on\")\r\n",
        "plt.show()"
      ],
      "execution_count": null,
      "outputs": [
        {
          "output_type": "display_data",
          "data": {
            "image/png": "[encoded data removed]",
            "text/plain": [
              "<Figure size 432x288 with 1 Axes>"
            ]
          },
          "metadata": {
            "tags": [],
            "needs_background": "light"
          }
        }
      ]
    },
    {
      "cell_type": "code",
      "metadata": {
        "colab": {
          "base_uri": "https://localhost:8080/",
          "height": 402
        },
        "id": "8RGejubf0WZI",
        "outputId": "48aa7993-ccb9-49d1-9285-0b265228e32f"
      },
      "source": [
        "mar=data.iloc[:,[1,4]]\r\n",
        "mar"
      ],
      "execution_count": 19,
      "outputs": [
        {
          "output_type": "execute_result",
          "data": {
            "text/html": [
              "<div>\n",
              "<style scoped>\n",
              "    .dataframe tbody tr th:only-of-type {\n",
              "        vertical-align: middle;\n",
              "    }\n",
              "\n",
              "    .dataframe tbody tr th {\n",
              "        vertical-align: top;\n",
              "    }\n",
              "\n",
              "    .dataframe thead th {\n",
              "        text-align: right;\n",
              "    }\n",
              "</style>\n",
              "<table border=\"1\" class=\"dataframe\">\n",
              "  <thead>\n",
              "    <tr style=\"text-align: right;\">\n",
              "      <th></th>\n",
              "      <th>YEAR</th>\n",
              "      <th>MAR</th>\n",
              "    </tr>\n",
              "  </thead>\n",
              "  <tbody>\n",
              "    <tr>\n",
              "      <th>0</th>\n",
              "      <td>1901</td>\n",
              "      <td>51.6</td>\n",
              "    </tr>\n",
              "    <tr>\n",
              "      <th>1</th>\n",
              "      <td>1902</td>\n",
              "      <td>57.3</td>\n",
              "    </tr>\n",
              "    <tr>\n",
              "      <th>2</th>\n",
              "      <td>1903</td>\n",
              "      <td>3.1</td>\n",
              "    </tr>\n",
              "    <tr>\n",
              "      <th>3</th>\n",
              "      <td>1904</td>\n",
              "      <td>32.2</td>\n",
              "    </tr>\n",
              "    <tr>\n",
              "      <th>4</th>\n",
              "      <td>1905</td>\n",
              "      <td>9.4</td>\n",
              "    </tr>\n",
              "    <tr>\n",
              "      <th>...</th>\n",
              "      <td>...</td>\n",
              "      <td>...</td>\n",
              "    </tr>\n",
              "    <tr>\n",
              "      <th>113</th>\n",
              "      <td>2014</td>\n",
              "      <td>17.9</td>\n",
              "    </tr>\n",
              "    <tr>\n",
              "      <th>114</th>\n",
              "      <td>2015</td>\n",
              "      <td>50.1</td>\n",
              "    </tr>\n",
              "    <tr>\n",
              "      <th>115</th>\n",
              "      <td>2016</td>\n",
              "      <td>35.9</td>\n",
              "    </tr>\n",
              "    <tr>\n",
              "      <th>116</th>\n",
              "      <td>2017</td>\n",
              "      <td>8.9</td>\n",
              "    </tr>\n",
              "    <tr>\n",
              "      <th>117</th>\n",
              "      <td>2018</td>\n",
              "      <td>48.6</td>\n",
              "    </tr>\n",
              "  </tbody>\n",
              "</table>\n",
              "<p>118 rows × 2 columns</p>\n",
              "</div>"
            ],
            "text/plain": [
              "     YEAR   MAR\n",
              "0    1901  51.6\n",
              "1    1902  57.3\n",
              "2    1903   3.1\n",
              "3    1904  32.2\n",
              "4    1905   9.4\n",
              "..    ...   ...\n",
              "113  2014  17.9\n",
              "114  2015  50.1\n",
              "115  2016  35.9\n",
              "116  2017   8.9\n",
              "117  2018  48.6\n",
              "\n",
              "[118 rows x 2 columns]"
            ]
          },
          "metadata": {
            "tags": []
          },
          "execution_count": 19
        }
      ]
    },
    {
      "cell_type": "code",
      "metadata": {
        "colab": {
          "base_uri": "https://localhost:8080/",
          "height": 740
        },
        "id": "Ju8-zWvI0pA3",
        "outputId": "0e94b7ee-81df-4e04-8809-0e258ce42d47"
      },
      "source": [
        "mar['res']=0\r\n",
        "for i in range(len(mar)):\r\n",
        "  if mar['MAR'][i]>263:\r\n",
        "    mar['MAR'][i]=1\r\n",
        "mar[:20]"
      ],
      "execution_count": 20,
      "outputs": [
        {
          "output_type": "stream",
          "text": [
            "/usr/local/lib/python3.7/dist-packages/ipykernel_launcher.py:1: SettingWithCopyWarning: \n",
            "A value is trying to be set on a copy of a slice from a DataFrame.\n",
            "Try using .loc[row_indexer,col_indexer] = value instead\n",
            "\n",
            "See the caveats in the documentation: https://pandas.pydata.org/pandas-docs/stable/user_guide/indexing.html#returning-a-view-versus-a-copy\n",
            "  \"\"\"Entry point for launching an IPython kernel.\n"
          ],
          "name": "stderr"
        },
        {
          "output_type": "execute_result",
          "data": {
            "text/html": [
              "<div>\n",
              "<style scoped>\n",
              "    .dataframe tbody tr th:only-of-type {\n",
              "        vertical-align: middle;\n",
              "    }\n",
              "\n",
              "    .dataframe tbody tr th {\n",
              "        vertical-align: top;\n",
              "    }\n",
              "\n",
              "    .dataframe thead th {\n",
              "        text-align: right;\n",
              "    }\n",
              "</style>\n",
              "<table border=\"1\" class=\"dataframe\">\n",
              "  <thead>\n",
              "    <tr style=\"text-align: right;\">\n",
              "      <th></th>\n",
              "      <th>YEAR</th>\n",
              "      <th>MAR</th>\n",
              "      <th>res</th>\n",
              "    </tr>\n",
              "  </thead>\n",
              "  <tbody>\n",
              "    <tr>\n",
              "      <th>0</th>\n",
              "      <td>1901</td>\n",
              "      <td>51.6</td>\n",
              "      <td>0</td>\n",
              "    </tr>\n",
              "    <tr>\n",
              "      <th>1</th>\n",
              "      <td>1902</td>\n",
              "      <td>57.3</td>\n",
              "      <td>0</td>\n",
              "    </tr>\n",
              "    <tr>\n",
              "      <th>2</th>\n",
              "      <td>1903</td>\n",
              "      <td>3.1</td>\n",
              "      <td>0</td>\n",
              "    </tr>\n",
              "    <tr>\n",
              "      <th>3</th>\n",
              "      <td>1904</td>\n",
              "      <td>32.2</td>\n",
              "      <td>0</td>\n",
              "    </tr>\n",
              "    <tr>\n",
              "      <th>4</th>\n",
              "      <td>1905</td>\n",
              "      <td>9.4</td>\n",
              "      <td>0</td>\n",
              "    </tr>\n",
              "    <tr>\n",
              "      <th>5</th>\n",
              "      <td>1906</td>\n",
              "      <td>9.9</td>\n",
              "      <td>0</td>\n",
              "    </tr>\n",
              "    <tr>\n",
              "      <th>6</th>\n",
              "      <td>1907</td>\n",
              "      <td>55.7</td>\n",
              "      <td>0</td>\n",
              "    </tr>\n",
              "    <tr>\n",
              "      <th>7</th>\n",
              "      <td>1908</td>\n",
              "      <td>38.2</td>\n",
              "      <td>0</td>\n",
              "    </tr>\n",
              "    <tr>\n",
              "      <th>8</th>\n",
              "      <td>1909</td>\n",
              "      <td>61.3</td>\n",
              "      <td>0</td>\n",
              "    </tr>\n",
              "    <tr>\n",
              "      <th>9</th>\n",
              "      <td>1910</td>\n",
              "      <td>23.3</td>\n",
              "      <td>0</td>\n",
              "    </tr>\n",
              "    <tr>\n",
              "      <th>10</th>\n",
              "      <td>1911</td>\n",
              "      <td>18.2</td>\n",
              "      <td>0</td>\n",
              "    </tr>\n",
              "    <tr>\n",
              "      <th>11</th>\n",
              "      <td>1912</td>\n",
              "      <td>11.2</td>\n",
              "      <td>0</td>\n",
              "    </tr>\n",
              "    <tr>\n",
              "      <th>12</th>\n",
              "      <td>1913</td>\n",
              "      <td>20.7</td>\n",
              "      <td>0</td>\n",
              "    </tr>\n",
              "    <tr>\n",
              "      <th>13</th>\n",
              "      <td>1914</td>\n",
              "      <td>18.1</td>\n",
              "      <td>0</td>\n",
              "    </tr>\n",
              "    <tr>\n",
              "      <th>14</th>\n",
              "      <td>1915</td>\n",
              "      <td>42.7</td>\n",
              "      <td>0</td>\n",
              "    </tr>\n",
              "    <tr>\n",
              "      <th>15</th>\n",
              "      <td>1916</td>\n",
              "      <td>22.0</td>\n",
              "      <td>0</td>\n",
              "    </tr>\n",
              "    <tr>\n",
              "      <th>16</th>\n",
              "      <td>1917</td>\n",
              "      <td>79.4</td>\n",
              "      <td>0</td>\n",
              "    </tr>\n",
              "    <tr>\n",
              "      <th>17</th>\n",
              "      <td>1918</td>\n",
              "      <td>32.8</td>\n",
              "      <td>0</td>\n",
              "    </tr>\n",
              "    <tr>\n",
              "      <th>18</th>\n",
              "      <td>1919</td>\n",
              "      <td>33.9</td>\n",
              "      <td>0</td>\n",
              "    </tr>\n",
              "    <tr>\n",
              "      <th>19</th>\n",
              "      <td>1920</td>\n",
              "      <td>24.1</td>\n",
              "      <td>0</td>\n",
              "    </tr>\n",
              "  </tbody>\n",
              "</table>\n",
              "</div>"
            ],
            "text/plain": [
              "    YEAR   MAR  res\n",
              "0   1901  51.6    0\n",
              "1   1902  57.3    0\n",
              "2   1903   3.1    0\n",
              "3   1904  32.2    0\n",
              "4   1905   9.4    0\n",
              "5   1906   9.9    0\n",
              "6   1907  55.7    0\n",
              "7   1908  38.2    0\n",
              "8   1909  61.3    0\n",
              "9   1910  23.3    0\n",
              "10  1911  18.2    0\n",
              "11  1912  11.2    0\n",
              "12  1913  20.7    0\n",
              "13  1914  18.1    0\n",
              "14  1915  42.7    0\n",
              "15  1916  22.0    0\n",
              "16  1917  79.4    0\n",
              "17  1918  32.8    0\n",
              "18  1919  33.9    0\n",
              "19  1920  24.1    0"
            ]
          },
          "metadata": {
            "tags": []
          },
          "execution_count": 20
        }
      ]
    },
    {
      "cell_type": "code",
      "metadata": {
        "colab": {
          "base_uri": "https://localhost:8080/"
        },
        "id": "zdEzMgZA1El5",
        "outputId": "ac8a5517-8ddb-4a46-b2b9-366961b8ce53"
      },
      "source": [
        "x=mar.iloc[:,0:2]\r\n",
        "from sklearn import preprocessing\r\n",
        "minmax = preprocessing.MinMaxScaler(feature_range=(0,1))\r\n",
        "x = minmax.fit(x).transform(x)\r\n",
        "x\r\n",
        "y=mar.iloc[:,-1]\r\n",
        "y=np.asarray(y)\r\n",
        "print(x,y)"
      ],
      "execution_count": 21,
      "outputs": [
        {
          "output_type": "stream",
          "text": [
            "[[0.         0.23721787]\n",
            " [0.00854701 0.26347305]\n",
            " [0.01709402 0.01381852]\n",
            " [0.02564103 0.14785813]\n",
            " [0.03418803 0.0428374 ]\n",
            " [0.04273504 0.04514049]\n",
            " [0.05128205 0.25610318]\n",
            " [0.05982906 0.17549516]\n",
            " [0.06837607 0.28189774]\n",
            " [0.07692308 0.1068632 ]\n",
            " [0.08547009 0.08337172]\n",
            " [0.09401709 0.05112851]\n",
            " [0.1025641  0.09488715]\n",
            " [0.11111111 0.0829111 ]\n",
            " [0.11965812 0.19622294]\n",
            " [0.12820513 0.10087517]\n",
            " [0.13675214 0.36526946]\n",
            " [0.14529915 0.15062183]\n",
            " [0.15384615 0.15568862]\n",
            " [0.16239316 0.11054813]\n",
            " [0.17094017 0.06863197]\n",
            " [0.17948718 0.07461999]\n",
            " [0.18803419 0.36296637]\n",
            " [0.1965812  0.30631046]\n",
            " [0.20512821 0.35375403]\n",
            " [0.21367521 0.10594196]\n",
            " [0.22222222 0.22800553]\n",
            " [0.23076923 0.23583602]\n",
            " [0.23931624 0.27084293]\n",
            " [0.24786325 0.1791801 ]\n",
            " [0.25641026 0.08797789]\n",
            " [0.26495726 0.13127591]\n",
            " [0.27350427 0.16950714]\n",
            " [0.28205128 0.2192538 ]\n",
            " [0.29059829 0.0829111 ]\n",
            " [0.2991453  0.53385537]\n",
            " [0.30769231 0.2699217 ]\n",
            " [0.31623932 0.24504836]\n",
            " [0.32478632 0.11423307]\n",
            " [0.33333333 0.01704284]\n",
            " [0.34188034 0.05803777]\n",
            " [0.35042735 0.10640258]\n",
            " [0.35897436 0.1764164 ]\n",
            " [0.36752137 0.28327959]\n",
            " [0.37606838 0.05803777]\n",
            " [0.38461538 0.49884846]\n",
            " [0.39316239 0.45094427]\n",
            " [0.4017094  0.22155689]\n",
            " [0.41025641 0.02026716]\n",
            " [0.41880342 0.14279134]\n",
            " [0.42735043 0.19115615]\n",
            " [0.43589744 0.09534777]\n",
            " [0.44444444 0.08475357]\n",
            " [0.45299145 0.41685859]\n",
            " [0.46153846 0.12943344]\n",
            " [0.47008547 0.06909258]\n",
            " [0.47863248 0.11791801]\n",
            " [0.48717949 0.26347305]\n",
            " [0.4957265  0.02855827]\n",
            " [0.5042735  0.20405343]\n",
            " [0.51282051 0.05204975]\n",
            " [0.52136752 0.1819438 ]\n",
            " [0.52991453 0.32105021]\n",
            " [0.53846154 0.30907416]\n",
            " [0.54700855 0.12989406]\n",
            " [0.55555556 0.31137725]\n",
            " [0.56410256 0.11285122]\n",
            " [0.57264957 0.41040995]\n",
            " [0.58119658 0.08889912]\n",
            " [0.58974359 0.11837863]\n",
            " [0.5982906  0.09166283]\n",
            " [0.60683761 0.01105481]\n",
            " [0.61538462 0.0561953 ]\n",
            " [0.62393162 0.07323814]\n",
            " [0.63247863 0.2915707 ]\n",
            " [0.64102564 0.096269  ]\n",
            " [0.64957265 0.12989406]\n",
            " [0.65811966 0.14417319]\n",
            " [0.66666667 0.0534316 ]\n",
            " [0.67521368 0.09534777]\n",
            " [0.68376068 0.13081529]\n",
            " [0.69230769 0.10041456]\n",
            " [0.7008547  0.00368494]\n",
            " [0.70940171 0.4385076 ]\n",
            " [0.71794872 0.13450023]\n",
            " [0.72649573 0.05112851]\n",
            " [0.73504274 0.01934592]\n",
            " [0.74358974 0.17503455]\n",
            " [0.75213675 0.13818517]\n",
            " [0.76068376 0.08245048]\n",
            " [0.76923077 0.1524643 ]\n",
            " [0.77777778 0.        ]\n",
            " [0.78632479 0.09212345]\n",
            " [0.79487179 0.0829111 ]\n",
            " [0.8034188  0.17134961]\n",
            " [0.81196581 0.06586826]\n",
            " [0.82051282 0.1658222 ]\n",
            " [0.82905983 0.03684938]\n",
            " [0.83760684 0.09811147]\n",
            " [0.84615385 0.09857209]\n",
            " [0.85470085 0.03178259]\n",
            " [0.86324786 0.16397973]\n",
            " [0.87179487 0.37770613]\n",
            " [0.88034188 0.17411331]\n",
            " [0.88888889 0.11607554]\n",
            " [0.8974359  0.41731921]\n",
            " [0.90598291 0.03316444]\n",
            " [0.91452991 1.        ]\n",
            " [0.92307692 0.28788577]\n",
            " [0.93162393 0.14417319]\n",
            " [0.94017094 0.11054813]\n",
            " [0.94871795 0.096269  ]\n",
            " [0.95726496 0.22938738]\n",
            " [0.96581197 0.08198987]\n",
            " [0.97435897 0.23030861]\n",
            " [0.98290598 0.16490097]\n",
            " [0.99145299 0.04053432]\n",
            " [1.         0.22339936]] [0 0 0 0 0 0 0 0 0 0 0 0 0 0 0 0 0 0 0 0 0 0 0 0 0 0 0 0 0 0 0 0 0 0 0 0 0\n",
            " 0 0 0 0 0 0 0 0 0 0 0 0 0 0 0 0 0 0 0 0 0 0 0 0 0 0 0 0 0 0 0 0 0 0 0 0 0\n",
            " 0 0 0 0 0 0 0 0 0 0 0 0 0 0 0 0 0 0 0 0 0 0 0 0 0 0 0 0 0 0 0 0 0 0 0 0 0\n",
            " 0 0 0 0 0 0 0]\n"
          ],
          "name": "stdout"
        }
      ]
    },
    {
      "cell_type": "code",
      "metadata": {
        "colab": {
          "base_uri": "https://localhost:8080/"
        },
        "id": "SId6rkIq1Wtx",
        "outputId": "af6454a7-18ec-4492-d0e2-f6bd4031f363"
      },
      "source": [
        "from sklearn import model_selection,neighbors\r\n",
        "from sklearn.model_selection import train_test_split\r\n",
        "xMar_train,xMar_test,yMar_train,yMar_test=train_test_split(x,y,test_size=0.2)\r\n",
        "print(xMar_train[:20],yMar_train[:20],xMar_test,yMar_test)"
      ],
      "execution_count": 22,
      "outputs": [
        {
          "output_type": "stream",
          "text": [
            "[[0.16239316 0.11054813]\n",
            " [0.68376068 0.13081529]\n",
            " [0.74358974 0.17503455]\n",
            " [0.27350427 0.16950714]\n",
            " [0.55555556 0.31137725]\n",
            " [0.69230769 0.10041456]\n",
            " [0.21367521 0.10594196]\n",
            " [0.26495726 0.13127591]\n",
            " [0.14529915 0.15062183]\n",
            " [0.60683761 0.01105481]\n",
            " [0.70940171 0.4385076 ]\n",
            " [0.42735043 0.19115615]\n",
            " [0.33333333 0.01704284]\n",
            " [0.45299145 0.41685859]\n",
            " [0.         0.23721787]\n",
            " [0.05982906 0.17549516]\n",
            " [0.1025641  0.09488715]\n",
            " [0.46153846 0.12943344]\n",
            " [0.35042735 0.10640258]\n",
            " [0.65811966 0.14417319]] [0 0 0 0 0 0 0 0 0 0 0 0 0 0 0 0 0 0 0 0] [[0.2991453  0.53385537]\n",
            " [0.48717949 0.26347305]\n",
            " [0.00854701 0.26347305]\n",
            " [0.11965812 0.19622294]\n",
            " [0.94871795 0.096269  ]\n",
            " [0.75213675 0.13818517]\n",
            " [0.07692308 0.1068632 ]\n",
            " [0.76068376 0.08245048]\n",
            " [0.15384615 0.15568862]\n",
            " [0.30769231 0.2699217 ]\n",
            " [0.22222222 0.22800553]\n",
            " [0.76923077 0.1524643 ]\n",
            " [0.11111111 0.0829111 ]\n",
            " [0.94017094 0.11054813]\n",
            " [0.37606838 0.05803777]\n",
            " [1.         0.22339936]\n",
            " [0.20512821 0.35375403]\n",
            " [0.54700855 0.12989406]\n",
            " [0.8034188  0.17134961]\n",
            " [0.58974359 0.11837863]\n",
            " [0.24786325 0.1791801 ]\n",
            " [0.05128205 0.25610318]\n",
            " [0.88034188 0.17411331]\n",
            " [0.92307692 0.28788577]] [0 0 0 0 0 0 0 0 0 0 0 0 0 0 0 0 0 0 0 0 0 0 0 0]\n"
          ],
          "name": "stdout"
        }
      ]
    },
    {
      "cell_type": "code",
      "metadata": {
        "colab": {
          "base_uri": "https://localhost:8080/"
        },
        "id": "ZR2S4--K2hvi",
        "outputId": "ad0463ef-83e5-4209-fc94-5c37e724fa52"
      },
      "source": [
        "from sklearn import model_selection,neighbors\r\n",
        "from sklearn.model_selection import train_test_split\r\n",
        "clf=neighbors.KNeighborsClassifier()\r\n",
        "clf.fit(xMar_train,yMar_train)\r\n",
        "print(\"Predicted Values for the Floods:\")\r\n",
        "yMar_predict=clf.predict(xMar_test)\r\n",
        "print(yMar_predict,len(yMar_predict))"
      ],
      "execution_count": 23,
      "outputs": [
        {
          "output_type": "stream",
          "text": [
            "Predicted Values for the Floods:\n",
            "[0 0 0 0 0 0 0 0 0 0 0 0 0 0 0 0 0 0 0 0 0 0 0 0] 24\n"
          ],
          "name": "stdout"
        }
      ]
    },
    {
      "cell_type": "code",
      "metadata": {
        "colab": {
          "base_uri": "https://localhost:8080/",
          "height": 265
        },
        "id": "Y21rFJ_M25kp",
        "outputId": "f3f74eb4-6b60-4b45-f987-62cd84e21f0f"
      },
      "source": [
        "from matplotlib import pyplot as plt\r\n",
        "plt.plot(yMar_predict)\r\n",
        "plt.plot(yMar_test)\r\n",
        "plt.grid(\"on\")\r\n",
        "plt.show()"
      ],
      "execution_count": 25,
      "outputs": [
        {
          "output_type": "display_data",
          "data": {
            "image/png": "[encoded data removed]",
            "text/plain": [
              "<Figure size 432x288 with 1 Axes>"
            ]
          },
          "metadata": {
            "tags": [],
            "needs_background": "light"
          }
        }
      ]
    },
    {
      "cell_type": "code",
      "metadata": {
        "colab": {
          "base_uri": "https://localhost:8080/",
          "height": 502
        },
        "id": "LSQ5cdxA3JWr",
        "outputId": "fde96994-2869-40b9-c5c3-e337d358a5db"
      },
      "source": [
        "apr=data.iloc[:,[1,5]]\r\n",
        "apr['res']=0\r\n",
        "for i in range(len(apr)):\r\n",
        "  if apr['APR'][i]>263:\r\n",
        "    apr['res'][i]=1\r\n",
        "apr"
      ],
      "execution_count": 26,
      "outputs": [
        {
          "output_type": "stream",
          "text": [
            "/usr/local/lib/python3.7/dist-packages/ipykernel_launcher.py:2: SettingWithCopyWarning: \n",
            "A value is trying to be set on a copy of a slice from a DataFrame.\n",
            "Try using .loc[row_indexer,col_indexer] = value instead\n",
            "\n",
            "See the caveats in the documentation: https://pandas.pydata.org/pandas-docs/stable/user_guide/indexing.html#returning-a-view-versus-a-copy\n",
            "  \n"
          ],
          "name": "stderr"
        },
        {
          "output_type": "execute_result",
          "data": {
            "text/html": [
              "<div>\n",
              "<style scoped>\n",
              "    .dataframe tbody tr th:only-of-type {\n",
              "        vertical-align: middle;\n",
              "    }\n",
              "\n",
              "    .dataframe tbody tr th {\n",
              "        vertical-align: top;\n",
              "    }\n",
              "\n",
              "    .dataframe thead th {\n",
              "        text-align: right;\n",
              "    }\n",
              "</style>\n",
              "<table border=\"1\" class=\"dataframe\">\n",
              "  <thead>\n",
              "    <tr style=\"text-align: right;\">\n",
              "      <th></th>\n",
              "      <th>YEAR</th>\n",
              "      <th>APR</th>\n",
              "      <th>res</th>\n",
              "    </tr>\n",
              "  </thead>\n",
              "  <tbody>\n",
              "    <tr>\n",
              "      <th>0</th>\n",
              "      <td>1901</td>\n",
              "      <td>160.0</td>\n",
              "      <td>0</td>\n",
              "    </tr>\n",
              "    <tr>\n",
              "      <th>1</th>\n",
              "      <td>1902</td>\n",
              "      <td>83.9</td>\n",
              "      <td>0</td>\n",
              "    </tr>\n",
              "    <tr>\n",
              "      <th>2</th>\n",
              "      <td>1903</td>\n",
              "      <td>83.6</td>\n",
              "      <td>0</td>\n",
              "    </tr>\n",
              "    <tr>\n",
              "      <th>3</th>\n",
              "      <td>1904</td>\n",
              "      <td>71.5</td>\n",
              "      <td>0</td>\n",
              "    </tr>\n",
              "    <tr>\n",
              "      <th>4</th>\n",
              "      <td>1905</td>\n",
              "      <td>105.9</td>\n",
              "      <td>0</td>\n",
              "    </tr>\n",
              "    <tr>\n",
              "      <th>...</th>\n",
              "      <td>...</td>\n",
              "      <td>...</td>\n",
              "      <td>...</td>\n",
              "    </tr>\n",
              "    <tr>\n",
              "      <th>113</th>\n",
              "      <td>2014</td>\n",
              "      <td>95.7</td>\n",
              "      <td>0</td>\n",
              "    </tr>\n",
              "    <tr>\n",
              "      <th>114</th>\n",
              "      <td>2015</td>\n",
              "      <td>214.1</td>\n",
              "      <td>0</td>\n",
              "    </tr>\n",
              "    <tr>\n",
              "      <th>115</th>\n",
              "      <td>2016</td>\n",
              "      <td>143.0</td>\n",
              "      <td>0</td>\n",
              "    </tr>\n",
              "    <tr>\n",
              "      <th>116</th>\n",
              "      <td>2017</td>\n",
              "      <td>43.6</td>\n",
              "      <td>0</td>\n",
              "    </tr>\n",
              "    <tr>\n",
              "      <th>117</th>\n",
              "      <td>2018</td>\n",
              "      <td>116.4</td>\n",
              "      <td>0</td>\n",
              "    </tr>\n",
              "  </tbody>\n",
              "</table>\n",
              "<p>118 rows × 3 columns</p>\n",
              "</div>"
            ],
            "text/plain": [
              "     YEAR    APR  res\n",
              "0    1901  160.0    0\n",
              "1    1902   83.9    0\n",
              "2    1903   83.6    0\n",
              "3    1904   71.5    0\n",
              "4    1905  105.9    0\n",
              "..    ...    ...  ...\n",
              "113  2014   95.7    0\n",
              "114  2015  214.1    0\n",
              "115  2016  143.0    0\n",
              "116  2017   43.6    0\n",
              "117  2018  116.4    0\n",
              "\n",
              "[118 rows x 3 columns]"
            ]
          },
          "metadata": {
            "tags": []
          },
          "execution_count": 26
        }
      ]
    },
    {
      "cell_type": "code",
      "metadata": {
        "colab": {
          "base_uri": "https://localhost:8080/"
        },
        "id": "VbLfnjI537SF",
        "outputId": "5c4232a5-80c8-4e6a-e465-6befd33bb45f"
      },
      "source": [
        "x=apr.iloc[:,0:2]\r\n",
        "y=apr.iloc[:,-1]\r\n",
        "y=np.asarray(y)\r\n",
        "print(x,y)"
      ],
      "execution_count": 27,
      "outputs": [
        {
          "output_type": "stream",
          "text": [
            "     YEAR    APR\n",
            "0    1901  160.0\n",
            "1    1902   83.9\n",
            "2    1903   83.6\n",
            "3    1904   71.5\n",
            "4    1905  105.9\n",
            "..    ...    ...\n",
            "113  2014   95.7\n",
            "114  2015  214.1\n",
            "115  2016  143.0\n",
            "116  2017   43.6\n",
            "117  2018  116.4\n",
            "\n",
            "[118 rows x 2 columns] [0 0 0 0 0 0 0 0 0 0 0 0 0 0 0 0 0 0 0 0 0 0 0 0 0 0 0 0 0 0 0 0 0 0 0 0 0\n",
            " 0 0 0 0 0 0 0 0 0 0 0 0 0 0 0 0 0 0 0 0 0 0 0 0 0 0 0 0 0 0 0 0 0 0 0 0 0\n",
            " 0 0 0 0 0 0 0 0 0 0 0 0 0 0 0 0 0 0 0 0 0 0 0 0 0 0 0 0 0 0 0 0 0 0 0 0 0\n",
            " 0 0 0 0 0 0 0]\n"
          ],
          "name": "stdout"
        }
      ]
    },
    {
      "cell_type": "code",
      "metadata": {
        "colab": {
          "base_uri": "https://localhost:8080/"
        },
        "id": "3a1MziMw4LLp",
        "outputId": "4877c92b-43d6-41d2-dc14-5af83b1156e3"
      },
      "source": [
        "from sklearn import preprocessing\r\n",
        "minmax = preprocessing.MinMaxScaler(feature_range=(0,1))\r\n",
        "x = minmax.fit(x).transform(x)\r\n",
        "x"
      ],
      "execution_count": 28,
      "outputs": [
        {
          "output_type": "execute_result",
          "data": {
            "text/plain": [
              "array([[0.        , 0.65317919],\n",
              "       [0.00854701, 0.31480658],\n",
              "       [0.01709402, 0.31347265],\n",
              "       [0.02564103, 0.25967096],\n",
              "       [0.03418803, 0.41262783],\n",
              "       [0.04273504, 0.20586928],\n",
              "       [0.05128205, 0.70120053],\n",
              "       [0.05982906, 0.39928857],\n",
              "       [0.06837607, 0.35882614],\n",
              "       [0.07692308, 0.49533126],\n",
              "       [0.08547009, 0.16851934],\n",
              "       [0.09401709, 0.4873277 ],\n",
              "       [0.1025641 , 0.27834593],\n",
              "       [0.11111111, 0.08714984],\n",
              "       [0.11965812, 0.41307248],\n",
              "       [0.12820513, 0.30813695],\n",
              "       [0.13675214, 0.11116052],\n",
              "       [0.14529915, 0.16985327],\n",
              "       [0.15384615, 0.23477101],\n",
              "       [0.16239316, 0.70653624],\n",
              "       [0.17094017, 0.70342374],\n",
              "       [0.17948718, 0.34015118],\n",
              "       [0.18803419, 0.13517119],\n",
              "       [0.1965812 , 0.43530458],\n",
              "       [0.20512821, 0.35704758],\n",
              "       [0.21367521, 0.18986216],\n",
              "       [0.22222222, 0.32636727],\n",
              "       [0.23076923, 0.48021343],\n",
              "       [0.23931624, 0.87861272],\n",
              "       [0.24786325, 0.39839929],\n",
              "       [0.25641026, 0.50600267],\n",
              "       [0.26495726, 0.44419742],\n",
              "       [0.27350427, 0.56202757],\n",
              "       [0.28205128, 0.35260116],\n",
              "       [0.29059829, 0.47843486],\n",
              "       [0.2991453 , 0.09293019],\n",
              "       [0.30769231, 0.72209871],\n",
              "       [0.31623932, 0.67318808],\n",
              "       [0.32478632, 0.71009337],\n",
              "       [0.33333333, 0.5042241 ],\n",
              "       [0.34188034, 0.39484215],\n",
              "       [0.35042735, 0.74344153],\n",
              "       [0.35897436, 0.41974211],\n",
              "       [0.36752137, 0.2156514 ],\n",
              "       [0.37606838, 0.40462428],\n",
              "       [0.38461538, 0.56336149],\n",
              "       [0.39316239, 0.5740329 ],\n",
              "       [0.4017094 , 0.49755447],\n",
              "       [0.41025641, 0.37794575],\n",
              "       [0.41880342, 0.2463317 ],\n",
              "       [0.42735043, 0.72387728],\n",
              "       [0.43589744, 0.44064028],\n",
              "       [0.44444444, 0.53045798],\n",
              "       [0.45299145, 0.55046687],\n",
              "       [0.46153846, 0.50155625],\n",
              "       [0.47008547, 0.61582926],\n",
              "       [0.47863248, 0.25389062],\n",
              "       [0.48717949, 0.54246332],\n",
              "       [0.4957265 , 0.61182748],\n",
              "       [0.5042735 , 0.86038239],\n",
              "       [0.51282051, 0.36016007],\n",
              "       [0.52136752, 0.36460649],\n",
              "       [0.52991453, 0.3699422 ],\n",
              "       [0.53846154, 0.31213873],\n",
              "       [0.54700855, 0.42996888],\n",
              "       [0.55555556, 0.6860827 ],\n",
              "       [0.56410256, 0.25344598],\n",
              "       [0.57264957, 0.53445976],\n",
              "       [0.58119658, 0.46287239],\n",
              "       [0.58974359, 0.53179191],\n",
              "       [0.5982906 , 0.44419742],\n",
              "       [0.60683761, 0.33081369],\n",
              "       [0.61538462, 0.5264562 ],\n",
              "       [0.62393162, 0.51089373],\n",
              "       [0.63247863, 0.49221876],\n",
              "       [0.64102564, 0.53979546],\n",
              "       [0.64957265, 0.39662072],\n",
              "       [0.65811966, 0.27034237],\n",
              "       [0.66666667, 0.12850156],\n",
              "       [0.67521368, 0.45220098],\n",
              "       [0.68376068, 0.27923522],\n",
              "       [0.69230769, 0.2103157 ],\n",
              "       [0.7008547 , 0.        ],\n",
              "       [0.70940171, 0.66251667],\n",
              "       [0.71794872, 0.2378835 ],\n",
              "       [0.72649573, 0.22232103],\n",
              "       [0.73504274, 0.19608715],\n",
              "       [0.74358974, 0.73143619],\n",
              "       [0.75213675, 0.57092041],\n",
              "       [0.76068376, 0.12761227],\n",
              "       [0.76923077, 0.37305469],\n",
              "       [0.77777778, 0.13294798],\n",
              "       [0.78632479, 0.23743886],\n",
              "       [0.79487179, 0.62872388],\n",
              "       [0.8034188 , 0.54157403],\n",
              "       [0.81196581, 0.49444197],\n",
              "       [0.82051282, 0.21120498],\n",
              "       [0.82905983, 0.21342819],\n",
              "       [0.83760684, 0.43797243],\n",
              "       [0.84615385, 0.3699422 ],\n",
              "       [0.85470085, 1.        ],\n",
              "       [0.86324786, 0.46331703],\n",
              "       [0.87179487, 0.53935082],\n",
              "       [0.88034188, 0.44508671],\n",
              "       [0.88888889, 0.8572699 ],\n",
              "       [0.8974359 , 0.23210316],\n",
              "       [0.90598291, 0.55758115],\n",
              "       [0.91452991, 0.42374389],\n",
              "       [0.92307692, 0.24855491],\n",
              "       [0.93162393, 0.55935972],\n",
              "       [0.94017094, 0.67630058],\n",
              "       [0.94871795, 0.70253446],\n",
              "       [0.95726496, 0.16096043],\n",
              "       [0.96581197, 0.36727434],\n",
              "       [0.97435897, 0.89373055],\n",
              "       [0.98290598, 0.57759004],\n",
              "       [0.99145299, 0.13561583],\n",
              "       [1.        , 0.45931525]])"
            ]
          },
          "metadata": {
            "tags": []
          },
          "execution_count": 28
        }
      ]
    },
    {
      "cell_type": "code",
      "metadata": {
        "colab": {
          "base_uri": "https://localhost:8080/"
        },
        "id": "t1l3ljzV4j6h",
        "outputId": "5742f1cf-9450-485f-e2ce-03cdfbe92061"
      },
      "source": [
        "from sklearn import model_selection,neighbors\r\n",
        "from sklearn.model_selection import train_test_split\r\n",
        "xApr_train,xApr_test,yApr_train,yApr_test=train_test_split(x,y,test_size=0.2)\r\n",
        "xApr_train[:20]"
      ],
      "execution_count": 29,
      "outputs": [
        {
          "output_type": "execute_result",
          "data": {
            "text/plain": [
              "array([[0.25641026, 0.50600267],\n",
              "       [0.4957265 , 0.61182748],\n",
              "       [0.52136752, 0.36460649],\n",
              "       [0.58119658, 0.46287239],\n",
              "       [0.93162393, 0.55935972],\n",
              "       [0.08547009, 0.16851934],\n",
              "       [0.23076923, 0.48021343],\n",
              "       [0.45299145, 0.55046687],\n",
              "       [0.67521368, 0.45220098],\n",
              "       [0.35042735, 0.74344153],\n",
              "       [0.5042735 , 0.86038239],\n",
              "       [0.69230769, 0.2103157 ],\n",
              "       [0.70940171, 0.66251667],\n",
              "       [0.99145299, 0.13561583],\n",
              "       [0.        , 0.65317919],\n",
              "       [0.61538462, 0.5264562 ],\n",
              "       [0.17948718, 0.34015118],\n",
              "       [0.2991453 , 0.09293019],\n",
              "       [0.8974359 , 0.23210316],\n",
              "       [0.98290598, 0.57759004]])"
            ]
          },
          "metadata": {
            "tags": []
          },
          "execution_count": 29
        }
      ]
    },
    {
      "cell_type": "code",
      "metadata": {
        "colab": {
          "base_uri": "https://localhost:8080/"
        },
        "id": "fUfyLZO6461d",
        "outputId": "fb1a1c70-329f-4576-d7f9-77870706048c"
      },
      "source": [
        "from sklearn import model_selection,neighbors\r\n",
        "from sklearn.model_selection import train_test_split\r\n",
        "clf4=neighbors.KNeighborsClassifier()\r\n",
        "clf4.fit(xApr_train,yApr_train)\r\n",
        "print(\"Predicted Values for the Floods:\")\r\n",
        "yApr_predict=clf4.predict(xApr_test)\r\n",
        "print(yApr_predict,len(yApr_predict))"
      ],
      "execution_count": 30,
      "outputs": [
        {
          "output_type": "stream",
          "text": [
            "Predicted Values for the Floods:\n",
            "[0 0 0 0 0 0 0 0 0 0 0 0 0 0 0 0 0 0 0 0 0 0 0 0] 24\n"
          ],
          "name": "stdout"
        }
      ]
    },
    {
      "cell_type": "code",
      "metadata": {
        "colab": {
          "base_uri": "https://localhost:8080/",
          "height": 265
        },
        "id": "AOPs_4c15S3e",
        "outputId": "7e0b9343-9f7c-4b2a-d238-22e808f9b2e5"
      },
      "source": [
        "plt.plot(yApr_predict)\r\n",
        "plt.plot(yApr_test)\r\n",
        "plt.grid(\"on\")\r\n",
        "plt.show()"
      ],
      "execution_count": 31,
      "outputs": [
        {
          "output_type": "display_data",
          "data": {
            "image/png": "[encoded data removed]",
            "text/plain": [
              "<Figure size 432x288 with 1 Axes>"
            ]
          },
          "metadata": {
            "tags": [],
            "needs_background": "light"
          }
        }
      ]
    },
    {
      "cell_type": "code",
      "metadata": {
        "colab": {
          "base_uri": "https://localhost:8080/",
          "height": 908
        },
        "id": "H-E3DyeH5XmV",
        "outputId": "a1e765f1-1043-462f-bcb0-2b29ec6ed1ce"
      },
      "source": [
        "jun=data.iloc[:,[1,7]]\r\n",
        "jun['res']=0\r\n",
        "for i in range(len(jun)):\r\n",
        "  if jun['JUN'][i]>263:\r\n",
        "    jun['res'][i]=1\r\n",
        "jun[:20]"
      ],
      "execution_count": 42,
      "outputs": [
        {
          "output_type": "stream",
          "text": [
            "/usr/local/lib/python3.7/dist-packages/ipykernel_launcher.py:2: SettingWithCopyWarning: \n",
            "A value is trying to be set on a copy of a slice from a DataFrame.\n",
            "Try using .loc[row_indexer,col_indexer] = value instead\n",
            "\n",
            "See the caveats in the documentation: https://pandas.pydata.org/pandas-docs/stable/user_guide/indexing.html#returning-a-view-versus-a-copy\n",
            "  \n",
            "/usr/local/lib/python3.7/dist-packages/ipykernel_launcher.py:5: SettingWithCopyWarning: \n",
            "A value is trying to be set on a copy of a slice from a DataFrame\n",
            "\n",
            "See the caveats in the documentation: https://pandas.pydata.org/pandas-docs/stable/user_guide/indexing.html#returning-a-view-versus-a-copy\n",
            "  \"\"\"\n",
            "/usr/local/lib/python3.7/dist-packages/IPython/core/interactiveshell.py:2882: SettingWithCopyWarning: \n",
            "A value is trying to be set on a copy of a slice from a DataFrame\n",
            "\n",
            "See the caveats in the documentation: https://pandas.pydata.org/pandas-docs/stable/user_guide/indexing.html#returning-a-view-versus-a-copy\n",
            "  exec(code_obj, self.user_global_ns, self.user_ns)\n"
          ],
          "name": "stderr"
        },
        {
          "output_type": "execute_result",
          "data": {
            "text/html": [
              "<div>\n",
              "<style scoped>\n",
              "    .dataframe tbody tr th:only-of-type {\n",
              "        vertical-align: middle;\n",
              "    }\n",
              "\n",
              "    .dataframe tbody tr th {\n",
              "        vertical-align: top;\n",
              "    }\n",
              "\n",
              "    .dataframe thead th {\n",
              "        text-align: right;\n",
              "    }\n",
              "</style>\n",
              "<table border=\"1\" class=\"dataframe\">\n",
              "  <thead>\n",
              "    <tr style=\"text-align: right;\">\n",
              "      <th></th>\n",
              "      <th>YEAR</th>\n",
              "      <th>JUN</th>\n",
              "      <th>res</th>\n",
              "    </tr>\n",
              "  </thead>\n",
              "  <tbody>\n",
              "    <tr>\n",
              "      <th>0</th>\n",
              "      <td>1901</td>\n",
              "      <td>824.6</td>\n",
              "      <td>1</td>\n",
              "    </tr>\n",
              "    <tr>\n",
              "      <th>1</th>\n",
              "      <td>1902</td>\n",
              "      <td>390.9</td>\n",
              "      <td>1</td>\n",
              "    </tr>\n",
              "    <tr>\n",
              "      <th>2</th>\n",
              "      <td>1903</td>\n",
              "      <td>558.6</td>\n",
              "      <td>1</td>\n",
              "    </tr>\n",
              "    <tr>\n",
              "      <th>3</th>\n",
              "      <td>1904</td>\n",
              "      <td>1098.2</td>\n",
              "      <td>1</td>\n",
              "    </tr>\n",
              "    <tr>\n",
              "      <th>4</th>\n",
              "      <td>1905</td>\n",
              "      <td>850.2</td>\n",
              "      <td>1</td>\n",
              "    </tr>\n",
              "    <tr>\n",
              "      <th>5</th>\n",
              "      <td>1906</td>\n",
              "      <td>414.9</td>\n",
              "      <td>1</td>\n",
              "    </tr>\n",
              "    <tr>\n",
              "      <th>6</th>\n",
              "      <td>1907</td>\n",
              "      <td>770.9</td>\n",
              "      <td>1</td>\n",
              "    </tr>\n",
              "    <tr>\n",
              "      <th>7</th>\n",
              "      <td>1908</td>\n",
              "      <td>592.6</td>\n",
              "      <td>1</td>\n",
              "    </tr>\n",
              "    <tr>\n",
              "      <th>8</th>\n",
              "      <td>1909</td>\n",
              "      <td>704.7</td>\n",
              "      <td>1</td>\n",
              "    </tr>\n",
              "    <tr>\n",
              "      <th>9</th>\n",
              "      <td>1910</td>\n",
              "      <td>680.0</td>\n",
              "      <td>1</td>\n",
              "    </tr>\n",
              "    <tr>\n",
              "      <th>10</th>\n",
              "      <td>1911</td>\n",
              "      <td>990.0</td>\n",
              "      <td>1</td>\n",
              "    </tr>\n",
              "    <tr>\n",
              "      <th>11</th>\n",
              "      <td>1912</td>\n",
              "      <td>948.2</td>\n",
              "      <td>1</td>\n",
              "    </tr>\n",
              "    <tr>\n",
              "      <th>12</th>\n",
              "      <td>1913</td>\n",
              "      <td>541.7</td>\n",
              "      <td>1</td>\n",
              "    </tr>\n",
              "    <tr>\n",
              "      <th>13</th>\n",
              "      <td>1914</td>\n",
              "      <td>565.3</td>\n",
              "      <td>1</td>\n",
              "    </tr>\n",
              "    <tr>\n",
              "      <th>14</th>\n",
              "      <td>1915</td>\n",
              "      <td>696.1</td>\n",
              "      <td>1</td>\n",
              "    </tr>\n",
              "    <tr>\n",
              "      <th>15</th>\n",
              "      <td>1916</td>\n",
              "      <td>920.2</td>\n",
              "      <td>1</td>\n",
              "    </tr>\n",
              "    <tr>\n",
              "      <th>16</th>\n",
              "      <td>1917</td>\n",
              "      <td>703.7</td>\n",
              "      <td>1</td>\n",
              "    </tr>\n",
              "    <tr>\n",
              "      <th>17</th>\n",
              "      <td>1918</td>\n",
              "      <td>464.3</td>\n",
              "      <td>1</td>\n",
              "    </tr>\n",
              "    <tr>\n",
              "      <th>18</th>\n",
              "      <td>1919</td>\n",
              "      <td>636.8</td>\n",
              "      <td>1</td>\n",
              "    </tr>\n",
              "    <tr>\n",
              "      <th>19</th>\n",
              "      <td>1920</td>\n",
              "      <td>964.3</td>\n",
              "      <td>1</td>\n",
              "    </tr>\n",
              "  </tbody>\n",
              "</table>\n",
              "</div>"
            ],
            "text/plain": [
              "    YEAR     JUN  res\n",
              "0   1901   824.6    1\n",
              "1   1902   390.9    1\n",
              "2   1903   558.6    1\n",
              "3   1904  1098.2    1\n",
              "4   1905   850.2    1\n",
              "5   1906   414.9    1\n",
              "6   1907   770.9    1\n",
              "7   1908   592.6    1\n",
              "8   1909   704.7    1\n",
              "9   1910   680.0    1\n",
              "10  1911   990.0    1\n",
              "11  1912   948.2    1\n",
              "12  1913   541.7    1\n",
              "13  1914   565.3    1\n",
              "14  1915   696.1    1\n",
              "15  1916   920.2    1\n",
              "16  1917   703.7    1\n",
              "17  1918   464.3    1\n",
              "18  1919   636.8    1\n",
              "19  1920   964.3    1"
            ]
          },
          "metadata": {
            "tags": []
          },
          "execution_count": 42
        }
      ]
    },
    {
      "cell_type": "code",
      "metadata": {
        "colab": {
          "base_uri": "https://localhost:8080/"
        },
        "id": "2v0EpXtk5-mq",
        "outputId": "4af9e7d9-fcd7-4f05-bfcd-5e47dc4fc868"
      },
      "source": [
        "x=jun.iloc[:,0:2]\r\n",
        "y=jun.iloc[:,-1]\r\n",
        "y=np.asarray(y)\r\n",
        "print(x,y)"
      ],
      "execution_count": 43,
      "outputs": [
        {
          "output_type": "stream",
          "text": [
            "     YEAR     JUN\n",
            "0    1901   824.6\n",
            "1    1902   390.9\n",
            "2    1903   558.6\n",
            "3    1904  1098.2\n",
            "4    1905   850.2\n",
            "..    ...     ...\n",
            "113  2014   454.4\n",
            "114  2015   563.6\n",
            "115  2016   522.2\n",
            "116  2017   498.5\n",
            "117  2018   625.4\n",
            "\n",
            "[118 rows x 2 columns] [1 1 1 1 1 1 1 1 1 1 1 1 1 1 1 1 1 1 1 1 1 1 1 1 1 1 1 1 1 1 1 1 1 1 1 1 1\n",
            " 1 1 1 1 1 1 1 1 1 1 1 1 1 1 1 1 1 1 1 1 1 1 1 1 0 1 1 1 1 1 1 1 1 1 1 1 1\n",
            " 1 0 1 1 1 1 1 1 1 1 1 1 1 1 1 1 1 1 1 1 1 1 1 1 1 1 1 1 1 1 1 1 1 1 1 1 1\n",
            " 1 1 1 1 1 1 1]\n"
          ],
          "name": "stdout"
        }
      ]
    },
    {
      "cell_type": "code",
      "metadata": {
        "colab": {
          "base_uri": "https://localhost:8080/"
        },
        "id": "NJRMAfld6Y-K",
        "outputId": "78cd5599-52f3-4197-80a6-04726030498d"
      },
      "source": [
        "from sklearn import preprocessing\r\n",
        "minmax = preprocessing.MinMaxScaler(feature_range=(0,1))\r\n",
        "x = minmax.fit(x).transform(x)\r\n",
        "x"
      ],
      "execution_count": 44,
      "outputs": [
        {
          "output_type": "execute_result",
          "data": {
            "text/plain": [
              "array([[0.        , 0.69647215],\n",
              "       [0.00854701, 0.21533171],\n",
              "       [0.01709402, 0.40137564],\n",
              "       [0.02564103, 1.        ],\n",
              "       [0.03418803, 0.72487242],\n",
              "       [0.04273504, 0.24195696],\n",
              "       [0.05128205, 0.63689816],\n",
              "       [0.05982906, 0.43909474],\n",
              "       [0.06837607, 0.56345684],\n",
              "       [0.07692308, 0.53605503],\n",
              "       [0.08547009, 0.8799645 ],\n",
              "       [0.09401709, 0.83359219],\n",
              "       [0.1025641 , 0.38262702],\n",
              "       [0.11111111, 0.40880852],\n",
              "       [0.11965812, 0.55391613],\n",
              "       [0.12820513, 0.8025294 ],\n",
              "       [0.13675214, 0.56234746],\n",
              "       [0.14529915, 0.29676059],\n",
              "       [0.15384615, 0.48812958],\n",
              "       [0.16239316, 0.85145329],\n",
              "       [0.17094017, 0.32427335],\n",
              "       [0.17948718, 0.51730641],\n",
              "       [0.18803419, 0.58320391],\n",
              "       [0.1965812 , 0.90403816],\n",
              "       [0.20512821, 0.54581762],\n",
              "       [0.21367521, 0.40725538],\n",
              "       [0.22222222, 0.58065232],\n",
              "       [0.23076923, 0.43698691],\n",
              "       [0.23931624, 0.83181717],\n",
              "       [0.24786325, 0.48402485],\n",
              "       [0.25641026, 0.38262702],\n",
              "       [0.26495726, 0.15997337],\n",
              "       [0.27350427, 0.73496783],\n",
              "       [0.28205128, 0.72786776],\n",
              "       [0.29059829, 0.26015088],\n",
              "       [0.2991453 , 0.47037941],\n",
              "       [0.30769231, 0.3203905 ],\n",
              "       [0.31623932, 0.53783004],\n",
              "       [0.32478632, 0.47592634],\n",
              "       [0.33333333, 0.45440426],\n",
              "       [0.34188034, 0.66651875],\n",
              "       [0.35042735, 0.68426892],\n",
              "       [0.35897436, 0.66307965],\n",
              "       [0.36752137, 0.33514533],\n",
              "       [0.37606838, 0.39161305],\n",
              "       [0.38461538, 0.80119814],\n",
              "       [0.39316239, 0.39860217],\n",
              "       [0.4017094 , 0.79143554],\n",
              "       [0.41025641, 0.37663634],\n",
              "       [0.41880342, 0.48979365],\n",
              "       [0.42735043, 0.64044819],\n",
              "       [0.43589744, 0.42145551],\n",
              "       [0.44444444, 0.15941868],\n",
              "       [0.45299145, 0.66729532],\n",
              "       [0.46153846, 0.64965609],\n",
              "       [0.47008547, 0.61970268],\n",
              "       [0.47863248, 0.74905702],\n",
              "       [0.48717949, 0.57299756],\n",
              "       [0.4957265 , 0.74994453],\n",
              "       [0.5042735 , 0.31451076],\n",
              "       [0.51282051, 0.89682716],\n",
              "       [0.52136752, 0.05336144],\n",
              "       [0.52991453, 0.21799423],\n",
              "       [0.53846154, 0.20257377],\n",
              "       [0.54700855, 0.44475261],\n",
              "       [0.55555556, 0.33214999],\n",
              "       [0.56410256, 0.38262702],\n",
              "       [0.57264957, 0.55424895],\n",
              "       [0.58119658, 0.39238962],\n",
              "       [0.58974359, 0.37552696],\n",
              "       [0.5982906 , 0.76858221],\n",
              "       [0.60683761, 0.22742401],\n",
              "       [0.61538462, 0.46616375],\n",
              "       [0.62393162, 0.07776792],\n",
              "       [0.63247863, 0.74062569],\n",
              "       [0.64102564, 0.        ],\n",
              "       [0.64957265, 0.44686044],\n",
              "       [0.65811966, 0.62269803],\n",
              "       [0.66666667, 0.4283337 ],\n",
              "       [0.67521368, 0.60916352],\n",
              "       [0.68376068, 0.79387619],\n",
              "       [0.69230769, 0.4608387 ],\n",
              "       [0.7008547 , 0.13978256],\n",
              "       [0.70940171, 0.71644109],\n",
              "       [0.71794872, 0.70102063],\n",
              "       [0.72649573, 0.44497448],\n",
              "       [0.73504274, 0.41690703],\n",
              "       [0.74358974, 0.34890171],\n",
              "       [0.75213675, 0.51109385],\n",
              "       [0.76068376, 0.36809408],\n",
              "       [0.76923077, 0.99767029],\n",
              "       [0.77777778, 0.69059241],\n",
              "       [0.78632479, 0.5106501 ],\n",
              "       [0.79487179, 0.71910362],\n",
              "       [0.8034188 , 0.32904371],\n",
              "       [0.81196581, 0.41668516],\n",
              "       [0.82051282, 0.38540049],\n",
              "       [0.82905983, 0.59429776],\n",
              "       [0.83760684, 0.45540271],\n",
              "       [0.84615385, 0.48480142],\n",
              "       [0.85470085, 0.57521633],\n",
              "       [0.86324786, 0.33980475],\n",
              "       [0.87179487, 0.41036166],\n",
              "       [0.88034188, 0.52873308],\n",
              "       [0.88888889, 0.46860439],\n",
              "       [0.8974359 , 0.31684047],\n",
              "       [0.90598291, 0.56478811],\n",
              "       [0.91452991, 0.30297315],\n",
              "       [0.92307692, 0.26780564],\n",
              "       [0.93162393, 0.52218771],\n",
              "       [0.94017094, 0.65642334],\n",
              "       [0.94871795, 0.25904149],\n",
              "       [0.95726496, 0.93842911],\n",
              "       [0.96581197, 0.28577768],\n",
              "       [0.97435897, 0.40692256],\n",
              "       [0.98290598, 0.36099401],\n",
              "       [0.99145299, 0.33470158],\n",
              "       [1.        , 0.47548258]])"
            ]
          },
          "metadata": {
            "tags": []
          },
          "execution_count": 44
        }
      ]
    },
    {
      "cell_type": "code",
      "metadata": {
        "colab": {
          "base_uri": "https://localhost:8080/"
        },
        "id": "p_ysHarP6ruv",
        "outputId": "1b0b1908-978a-4126-a169-228f291984bf"
      },
      "source": [
        "from sklearn import model_selection,neighbors\r\n",
        "from sklearn.model_selection import train_test_split\r\n",
        "xJun_train,xJun_test,yJun_train,yJun_test=train_test_split(x,y,test_size=0.2)\r\n",
        "xJun_train[:20]"
      ],
      "execution_count": 45,
      "outputs": [
        {
          "output_type": "execute_result",
          "data": {
            "text/plain": [
              "array([[0.66666667, 0.4283337 ],\n",
              "       [0.25641026, 0.38262702],\n",
              "       [0.94017094, 0.65642334],\n",
              "       [0.22222222, 0.58065232],\n",
              "       [0.57264957, 0.55424895],\n",
              "       [0.03418803, 0.72487242],\n",
              "       [0.48717949, 0.57299756],\n",
              "       [0.56410256, 0.38262702],\n",
              "       [0.83760684, 0.45540271],\n",
              "       [0.46153846, 0.64965609],\n",
              "       [0.62393162, 0.07776792],\n",
              "       [0.4017094 , 0.79143554],\n",
              "       [0.87179487, 0.41036166],\n",
              "       [0.38461538, 0.80119814],\n",
              "       [0.63247863, 0.74062569],\n",
              "       [0.34188034, 0.66651875],\n",
              "       [0.47008547, 0.61970268],\n",
              "       [0.58974359, 0.37552696],\n",
              "       [0.08547009, 0.8799645 ],\n",
              "       [0.70940171, 0.71644109]])"
            ]
          },
          "metadata": {
            "tags": []
          },
          "execution_count": 45
        }
      ]
    },
    {
      "cell_type": "code",
      "metadata": {
        "colab": {
          "base_uri": "https://localhost:8080/"
        },
        "id": "NBcn6px87L9-",
        "outputId": "205924e4-ce71-434a-8606-d3ee6726c22b"
      },
      "source": [
        "clf6=neighbors.KNeighborsClassifier()\r\n",
        "clf6.fit(xJun_train,yJun_train)\r\n",
        "print(\"Predicted Values for the Floods:\")\r\n",
        "yJun_predict=clf6.predict(xJun_test)\r\n",
        "print(yJun_predict,len(yJun_predict))"
      ],
      "execution_count": 46,
      "outputs": [
        {
          "output_type": "stream",
          "text": [
            "Predicted Values for the Floods:\n",
            "[1 1 1 1 1 1 1 1 1 1 1 1 1 1 1 1 1 1 1 1 1 1 1 1] 24\n"
          ],
          "name": "stdout"
        }
      ]
    },
    {
      "cell_type": "code",
      "metadata": {
        "colab": {
          "base_uri": "https://localhost:8080/",
          "height": 265
        },
        "id": "O7n8DfbD7aM2",
        "outputId": "543fdc4c-a8b2-480d-e8fb-2d883ed586b7"
      },
      "source": [
        "plt.plot(yJun_predict)\r\n",
        "plt.plot(yJun_test)\r\n",
        "plt.grid(\"on\")\r\n",
        "plt.show()"
      ],
      "execution_count": 47,
      "outputs": [
        {
          "output_type": "display_data",
          "data": {
            "image/png": "[encoded data removed]",
            "text/plain": [
              "<Figure size 432x288 with 1 Axes>"
            ]
          },
          "metadata": {
            "tags": [],
            "needs_background": "light"
          }
        }
      ]
    },
    {
      "cell_type": "code",
      "metadata": {
        "colab": {
          "base_uri": "https://localhost:8080/",
          "height": 670
        },
        "id": "uZwNSm7x76oS",
        "outputId": "71a6bda9-7ba0-40b2-f44f-369fdbf17221"
      },
      "source": [
        "jul=data.iloc[:,[1,8]]\r\n",
        "jul['res']=0\r\n",
        "for i in range(len(jul)):\r\n",
        "  if jul['JUL'][i]>263:\r\n",
        "    jul['res'][i]=1\r\n",
        "jul"
      ],
      "execution_count": 48,
      "outputs": [
        {
          "output_type": "stream",
          "text": [
            "/usr/local/lib/python3.7/dist-packages/ipykernel_launcher.py:2: SettingWithCopyWarning: \n",
            "A value is trying to be set on a copy of a slice from a DataFrame.\n",
            "Try using .loc[row_indexer,col_indexer] = value instead\n",
            "\n",
            "See the caveats in the documentation: https://pandas.pydata.org/pandas-docs/stable/user_guide/indexing.html#returning-a-view-versus-a-copy\n",
            "  \n",
            "/usr/local/lib/python3.7/dist-packages/ipykernel_launcher.py:5: SettingWithCopyWarning: \n",
            "A value is trying to be set on a copy of a slice from a DataFrame\n",
            "\n",
            "See the caveats in the documentation: https://pandas.pydata.org/pandas-docs/stable/user_guide/indexing.html#returning-a-view-versus-a-copy\n",
            "  \"\"\"\n",
            "/usr/local/lib/python3.7/dist-packages/IPython/core/interactiveshell.py:2882: SettingWithCopyWarning: \n",
            "A value is trying to be set on a copy of a slice from a DataFrame\n",
            "\n",
            "See the caveats in the documentation: https://pandas.pydata.org/pandas-docs/stable/user_guide/indexing.html#returning-a-view-versus-a-copy\n",
            "  exec(code_obj, self.user_global_ns, self.user_ns)\n"
          ],
          "name": "stderr"
        },
        {
          "output_type": "execute_result",
          "data": {
            "text/html": [
              "<div>\n",
              "<style scoped>\n",
              "    .dataframe tbody tr th:only-of-type {\n",
              "        vertical-align: middle;\n",
              "    }\n",
              "\n",
              "    .dataframe tbody tr th {\n",
              "        vertical-align: top;\n",
              "    }\n",
              "\n",
              "    .dataframe thead th {\n",
              "        text-align: right;\n",
              "    }\n",
              "</style>\n",
              "<table border=\"1\" class=\"dataframe\">\n",
              "  <thead>\n",
              "    <tr style=\"text-align: right;\">\n",
              "      <th></th>\n",
              "      <th>YEAR</th>\n",
              "      <th>JUL</th>\n",
              "      <th>res</th>\n",
              "    </tr>\n",
              "  </thead>\n",
              "  <tbody>\n",
              "    <tr>\n",
              "      <th>0</th>\n",
              "      <td>1901</td>\n",
              "      <td>743.0</td>\n",
              "      <td>1</td>\n",
              "    </tr>\n",
              "    <tr>\n",
              "      <th>1</th>\n",
              "      <td>1902</td>\n",
              "      <td>1205.0</td>\n",
              "      <td>1</td>\n",
              "    </tr>\n",
              "    <tr>\n",
              "      <th>2</th>\n",
              "      <td>1903</td>\n",
              "      <td>1022.5</td>\n",
              "      <td>1</td>\n",
              "    </tr>\n",
              "    <tr>\n",
              "      <th>3</th>\n",
              "      <td>1904</td>\n",
              "      <td>725.5</td>\n",
              "      <td>1</td>\n",
              "    </tr>\n",
              "    <tr>\n",
              "      <th>4</th>\n",
              "      <td>1905</td>\n",
              "      <td>520.5</td>\n",
              "      <td>1</td>\n",
              "    </tr>\n",
              "    <tr>\n",
              "      <th>...</th>\n",
              "      <td>...</td>\n",
              "      <td>...</td>\n",
              "      <td>...</td>\n",
              "    </tr>\n",
              "    <tr>\n",
              "      <th>113</th>\n",
              "      <td>2014</td>\n",
              "      <td>677.8</td>\n",
              "      <td>1</td>\n",
              "    </tr>\n",
              "    <tr>\n",
              "      <th>114</th>\n",
              "      <td>2015</td>\n",
              "      <td>406.0</td>\n",
              "      <td>1</td>\n",
              "    </tr>\n",
              "    <tr>\n",
              "      <th>115</th>\n",
              "      <td>2016</td>\n",
              "      <td>412.3</td>\n",
              "      <td>1</td>\n",
              "    </tr>\n",
              "    <tr>\n",
              "      <th>116</th>\n",
              "      <td>2017</td>\n",
              "      <td>319.6</td>\n",
              "      <td>1</td>\n",
              "    </tr>\n",
              "    <tr>\n",
              "      <th>117</th>\n",
              "      <td>2018</td>\n",
              "      <td>1048.5</td>\n",
              "      <td>1</td>\n",
              "    </tr>\n",
              "  </tbody>\n",
              "</table>\n",
              "<p>118 rows × 3 columns</p>\n",
              "</div>"
            ],
            "text/plain": [
              "     YEAR     JUL  res\n",
              "0    1901   743.0    1\n",
              "1    1902  1205.0    1\n",
              "2    1903  1022.5    1\n",
              "3    1904   725.5    1\n",
              "4    1905   520.5    1\n",
              "..    ...     ...  ...\n",
              "113  2014   677.8    1\n",
              "114  2015   406.0    1\n",
              "115  2016   412.3    1\n",
              "116  2017   319.6    1\n",
              "117  2018  1048.5    1\n",
              "\n",
              "[118 rows x 3 columns]"
            ]
          },
          "metadata": {
            "tags": []
          },
          "execution_count": 48
        }
      ]
    },
    {
      "cell_type": "code",
      "metadata": {
        "colab": {
          "base_uri": "https://localhost:8080/"
        },
        "id": "4uAEezao8gZ_",
        "outputId": "7ed0a42e-0eac-4c03-8ed2-70dcc7f8c8b5"
      },
      "source": [
        "x=jul.iloc[:,0:2]\r\n",
        "y=jul.iloc[:,-1]\r\n",
        "y=np.asarray(y)\r\n",
        "print(x,y)"
      ],
      "execution_count": 49,
      "outputs": [
        {
          "output_type": "stream",
          "text": [
            "     YEAR     JUL\n",
            "0    1901   743.0\n",
            "1    1902  1205.0\n",
            "2    1903  1022.5\n",
            "3    1904   725.5\n",
            "4    1905   520.5\n",
            "..    ...     ...\n",
            "113  2014   677.8\n",
            "114  2015   406.0\n",
            "115  2016   412.3\n",
            "116  2017   319.6\n",
            "117  2018  1048.5\n",
            "\n",
            "[118 rows x 2 columns] [1 1 1 1 1 1 1 1 1 1 1 1 1 1 1 1 1 0 1 1 1 1 1 1 1 1 1 1 1 1 1 1 1 1 1 1 1\n",
            " 1 1 1 1 1 1 1 1 1 1 1 1 1 1 1 1 1 1 1 1 1 1 1 1 1 1 1 1 1 1 1 1 1 1 1 1 1\n",
            " 1 1 1 1 1 1 1 1 1 1 1 1 0 1 1 1 1 1 1 1 1 1 1 1 1 1 1 1 1 1 1 1 1 1 1 1 1\n",
            " 1 1 1 1 1 1 1]\n"
          ],
          "name": "stdout"
        }
      ]
    },
    {
      "cell_type": "code",
      "metadata": {
        "colab": {
          "base_uri": "https://localhost:8080/"
        },
        "id": "ax33KCje82oL",
        "outputId": "a0cf0347-4aca-4125-c92f-d9005466877c"
      },
      "source": [
        "from sklearn import preprocessing\r\n",
        "minmax = preprocessing.MinMaxScaler(feature_range=(0,1))\r\n",
        "x = minmax.fit(x).transform(x)\r\n",
        "x"
      ],
      "execution_count": 50,
      "outputs": [
        {
          "output_type": "execute_result",
          "data": {
            "text/plain": [
              "array([[0.        , 0.42347314],\n",
              "       [0.00854701, 0.76342899],\n",
              "       [0.01709402, 0.62913907],\n",
              "       [0.02564103, 0.41059603],\n",
              "       [0.03418803, 0.25974982],\n",
              "       [0.04273504, 0.57888153],\n",
              "       [0.05128205, 0.43627667],\n",
              "       [0.05982906, 0.5406181 ],\n",
              "       [0.06837607, 0.45239146],\n",
              "       [0.07692308, 0.23296542],\n",
              "       [0.08547009, 0.39573216],\n",
              "       [0.09401709, 0.49013981],\n",
              "       [0.1025641 , 0.43833701],\n",
              "       [0.11111111, 0.50787344],\n",
              "       [0.11965812, 0.44746137],\n",
              "       [0.12820513, 0.2548933 ],\n",
              "       [0.13675214, 0.12891832],\n",
              "       [0.14529915, 0.        ],\n",
              "       [0.15384615, 0.3535688 ],\n",
              "       [0.16239316, 0.56902134],\n",
              "       [0.17094017, 0.34753495],\n",
              "       [0.17948718, 0.63105224],\n",
              "       [0.18803419, 0.61898455],\n",
              "       [0.1965812 , 1.        ],\n",
              "       [0.20512821, 0.31346578],\n",
              "       [0.21367521, 0.5281089 ],\n",
              "       [0.22222222, 0.53031641],\n",
              "       [0.23076923, 0.18623988],\n",
              "       [0.23931624, 0.49779249],\n",
              "       [0.24786325, 0.1723326 ],\n",
              "       [0.25641026, 0.35791023],\n",
              "       [0.26495726, 0.40389993],\n",
              "       [0.27350427, 0.44584253],\n",
              "       [0.28205128, 0.18211921],\n",
              "       [0.29059829, 0.38248712],\n",
              "       [0.2991453 , 0.37130243],\n",
              "       [0.30769231, 0.59087564],\n",
              "       [0.31623932, 0.3540103 ],\n",
              "       [0.32478632, 0.42832965],\n",
              "       [0.33333333, 0.52229581],\n",
              "       [0.34188034, 0.25783664],\n",
              "       [0.35042735, 0.4866078 ],\n",
              "       [0.35897436, 0.48866814],\n",
              "       [0.36752137, 0.32862399],\n",
              "       [0.37606838, 0.39477557],\n",
              "       [0.38461538, 0.37100809],\n",
              "       [0.39316239, 0.36924209],\n",
              "       [0.4017094 , 0.33222958],\n",
              "       [0.41025641, 0.43502575],\n",
              "       [0.41880342, 0.54319352],\n",
              "       [0.42735043, 0.27748344],\n",
              "       [0.43589744, 0.19315673],\n",
              "       [0.44444444, 0.63289183],\n",
              "       [0.45299145, 0.34805004],\n",
              "       [0.46153846, 0.16578366],\n",
              "       [0.47008547, 0.22023547],\n",
              "       [0.47863248, 0.49139073],\n",
              "       [0.48717949, 0.33495217],\n",
              "       [0.4957265 , 0.72715232],\n",
              "       [0.5042735 , 0.42928624],\n",
              "       [0.51282051, 0.72038263],\n",
              "       [0.52136752, 0.57660044],\n",
              "       [0.52991453, 0.4066961 ],\n",
              "       [0.53846154, 0.4317145 ],\n",
              "       [0.54700855, 0.21898455],\n",
              "       [0.55555556, 0.3196468 ],\n",
              "       [0.56410256, 0.42229581],\n",
              "       [0.57264957, 0.83988227],\n",
              "       [0.58119658, 0.47924945],\n",
              "       [0.58974359, 0.28741722],\n",
              "       [0.5982906 , 0.3540103 ],\n",
              "       [0.60683761, 0.40242826],\n",
              "       [0.61538462, 0.30610743],\n",
              "       [0.62393162, 0.61567329],\n",
              "       [0.63247863, 0.26769684],\n",
              "       [0.64102564, 0.34878587],\n",
              "       [0.64957265, 0.43105224],\n",
              "       [0.65811966, 0.38204562],\n",
              "       [0.66666667, 0.36401766],\n",
              "       [0.67521368, 0.43156733],\n",
              "       [0.68376068, 0.23715968],\n",
              "       [0.69230769, 0.2531273 ],\n",
              "       [0.7008547 , 0.30588668],\n",
              "       [0.70940171, 0.35768948],\n",
              "       [0.71794872, 0.16291391],\n",
              "       [0.72649573, 0.11574687],\n",
              "       [0.73504274, 0.03936718],\n",
              "       [0.74358974, 0.24672553],\n",
              "       [0.75213675, 0.20838852],\n",
              "       [0.76068376, 0.34429728],\n",
              "       [0.76923077, 0.54304636],\n",
              "       [0.77777778, 0.44172185],\n",
              "       [0.78632479, 0.44782929],\n",
              "       [0.79487179, 0.57983812],\n",
              "       [0.8034188 , 0.39367182],\n",
              "       [0.81196581, 0.38888889],\n",
              "       [0.82051282, 0.59087564],\n",
              "       [0.82905983, 0.34871229],\n",
              "       [0.83760684, 0.39212656],\n",
              "       [0.84615385, 0.12928624],\n",
              "       [0.85470085, 0.31714496],\n",
              "       [0.86324786, 0.11125828],\n",
              "       [0.87179487, 0.26821192],\n",
              "       [0.88034188, 0.16033848],\n",
              "       [0.88888889, 0.48947756],\n",
              "       [0.8974359 , 0.46835909],\n",
              "       [0.90598291, 0.58778514],\n",
              "       [0.91452991, 0.24841795],\n",
              "       [0.92307692, 0.55732156],\n",
              "       [0.93162393, 0.33958793],\n",
              "       [0.94017094, 0.27174393],\n",
              "       [0.94871795, 0.14356144],\n",
              "       [0.95726496, 0.48763797],\n",
              "       [0.96581197, 0.37549669],\n",
              "       [0.97435897, 0.17549669],\n",
              "       [0.98290598, 0.18013245],\n",
              "       [0.99145299, 0.11192053],\n",
              "       [1.        , 0.64827079]])"
            ]
          },
          "metadata": {
            "tags": []
          },
          "execution_count": 50
        }
      ]
    },
    {
      "cell_type": "code",
      "metadata": {
        "colab": {
          "base_uri": "https://localhost:8080/"
        },
        "id": "vpyiuAlz85zm",
        "outputId": "4ce257b8-d586-4c45-c6df-6c1095dce214"
      },
      "source": [
        "from sklearn import model_selection,neighbors\r\n",
        "from sklearn.model_selection import train_test_split\r\n",
        "xJul_train,xJul_test,yJul_train,yJul_test=train_test_split(x,y,test_size=0.2)\r\n",
        "xJul_train[:20]"
      ],
      "execution_count": 51,
      "outputs": [
        {
          "output_type": "execute_result",
          "data": {
            "text/plain": [
              "array([[0.71794872, 0.16291391],\n",
              "       [0.73504274, 0.03936718],\n",
              "       [0.64957265, 0.43105224],\n",
              "       [0.4957265 , 0.72715232],\n",
              "       [0.35897436, 0.48866814],\n",
              "       [0.83760684, 0.39212656],\n",
              "       [0.52991453, 0.4066961 ],\n",
              "       [0.90598291, 0.58778514],\n",
              "       [0.60683761, 0.40242826],\n",
              "       [0.82051282, 0.59087564],\n",
              "       [0.05128205, 0.43627667],\n",
              "       [0.51282051, 0.72038263],\n",
              "       [0.86324786, 0.11125828],\n",
              "       [0.48717949, 0.33495217],\n",
              "       [0.85470085, 0.31714496],\n",
              "       [0.76068376, 0.34429728],\n",
              "       [0.7008547 , 0.30588668],\n",
              "       [0.1025641 , 0.43833701],\n",
              "       [0.69230769, 0.2531273 ],\n",
              "       [0.88034188, 0.16033848]])"
            ]
          },
          "metadata": {
            "tags": []
          },
          "execution_count": 51
        }
      ]
    },
    {
      "cell_type": "code",
      "metadata": {
        "colab": {
          "base_uri": "https://localhost:8080/"
        },
        "id": "2sCAJUC39Wgp",
        "outputId": "c5fc6f1e-6cc2-45d3-b296-831d97c6208a"
      },
      "source": [
        "clf7=neighbors.KNeighborsClassifier()\r\n",
        "clf7.fit(xJul_train,yJul_train)\r\n",
        "print(\"Predicted Values for the Floods:\")\r\n",
        "yJul_predict=clf7.predict(xJul_test)\r\n",
        "print(yJul_predict,len(yJul_predict))"
      ],
      "execution_count": 52,
      "outputs": [
        {
          "output_type": "stream",
          "text": [
            "Predicted Values for the Floods:\n",
            "[1 1 1 1 1 1 1 1 1 1 1 1 1 1 1 1 1 1 1 1 1 1 1 1] 24\n"
          ],
          "name": "stdout"
        }
      ]
    },
    {
      "cell_type": "code",
      "metadata": {
        "colab": {
          "base_uri": "https://localhost:8080/",
          "height": 265
        },
        "id": "NUxjia989ocj",
        "outputId": "ff2d0424-0ec7-4edc-bcbf-65ad3527afa7"
      },
      "source": [
        "plt.plot(yJul_predict)\r\n",
        "plt.plot(yJul_test)\r\n",
        "plt.grid(\"on\")\r\n",
        "plt.show()"
      ],
      "execution_count": 53,
      "outputs": [
        {
          "output_type": "display_data",
          "data": {
            "image/png": "[encoded data removed]",
            "text/plain": [
              "<Figure size 432x288 with 1 Axes>"
            ]
          },
          "metadata": {
            "tags": [],
            "needs_background": "light"
          }
        }
      ]
    },
    {
      "cell_type": "code",
      "metadata": {
        "colab": {
          "base_uri": "https://localhost:8080/"
        },
        "id": "6MONGBthIbKo",
        "outputId": "e31ee593-b913-4235-ae39-f3043560b347"
      },
      "source": [
        "from sklearn.metrics import accuracy_score\r\n",
        "print(\"\\nAccuracy Score:%f\"%(accuracy_score(yJul_test,yJul_predict)*100))"
      ],
      "execution_count": 54,
      "outputs": [
        {
          "output_type": "stream",
          "text": [
            "\n",
            "Accuracy Score:100.000000\n"
          ],
          "name": "stdout"
        }
      ]
    },
    {
      "cell_type": "code",
      "metadata": {
        "colab": {
          "base_uri": "https://localhost:8080/",
          "height": 670
        },
        "id": "l4ybXOXD9uE4",
        "outputId": "af8aedb2-d6d3-409f-8e44-04695cb05024"
      },
      "source": [
        "aug=data.iloc[:,[1,9]]\r\n",
        "aug['res']=0\r\n",
        "for i in range(len(aug)):\r\n",
        "  if aug['AUG'][i]>263:\r\n",
        "    aug['res'][i]=1\r\n",
        "aug"
      ],
      "execution_count": 55,
      "outputs": [
        {
          "output_type": "stream",
          "text": [
            "/usr/local/lib/python3.7/dist-packages/ipykernel_launcher.py:2: SettingWithCopyWarning: \n",
            "A value is trying to be set on a copy of a slice from a DataFrame.\n",
            "Try using .loc[row_indexer,col_indexer] = value instead\n",
            "\n",
            "See the caveats in the documentation: https://pandas.pydata.org/pandas-docs/stable/user_guide/indexing.html#returning-a-view-versus-a-copy\n",
            "  \n",
            "/usr/local/lib/python3.7/dist-packages/ipykernel_launcher.py:5: SettingWithCopyWarning: \n",
            "A value is trying to be set on a copy of a slice from a DataFrame\n",
            "\n",
            "See the caveats in the documentation: https://pandas.pydata.org/pandas-docs/stable/user_guide/indexing.html#returning-a-view-versus-a-copy\n",
            "  \"\"\"\n",
            "/usr/local/lib/python3.7/dist-packages/IPython/core/interactiveshell.py:2882: SettingWithCopyWarning: \n",
            "A value is trying to be set on a copy of a slice from a DataFrame\n",
            "\n",
            "See the caveats in the documentation: https://pandas.pydata.org/pandas-docs/stable/user_guide/indexing.html#returning-a-view-versus-a-copy\n",
            "  exec(code_obj, self.user_global_ns, self.user_ns)\n"
          ],
          "name": "stderr"
        },
        {
          "output_type": "execute_result",
          "data": {
            "text/html": [
              "<div>\n",
              "<style scoped>\n",
              "    .dataframe tbody tr th:only-of-type {\n",
              "        vertical-align: middle;\n",
              "    }\n",
              "\n",
              "    .dataframe tbody tr th {\n",
              "        vertical-align: top;\n",
              "    }\n",
              "\n",
              "    .dataframe thead th {\n",
              "        text-align: right;\n",
              "    }\n",
              "</style>\n",
              "<table border=\"1\" class=\"dataframe\">\n",
              "  <thead>\n",
              "    <tr style=\"text-align: right;\">\n",
              "      <th></th>\n",
              "      <th>YEAR</th>\n",
              "      <th>AUG</th>\n",
              "      <th>res</th>\n",
              "    </tr>\n",
              "  </thead>\n",
              "  <tbody>\n",
              "    <tr>\n",
              "      <th>0</th>\n",
              "      <td>1901</td>\n",
              "      <td>357.5</td>\n",
              "      <td>1</td>\n",
              "    </tr>\n",
              "    <tr>\n",
              "      <th>1</th>\n",
              "      <td>1902</td>\n",
              "      <td>315.8</td>\n",
              "      <td>1</td>\n",
              "    </tr>\n",
              "    <tr>\n",
              "      <th>2</th>\n",
              "      <td>1903</td>\n",
              "      <td>420.2</td>\n",
              "      <td>1</td>\n",
              "    </tr>\n",
              "    <tr>\n",
              "      <th>3</th>\n",
              "      <td>1904</td>\n",
              "      <td>351.8</td>\n",
              "      <td>1</td>\n",
              "    </tr>\n",
              "    <tr>\n",
              "      <th>4</th>\n",
              "      <td>1905</td>\n",
              "      <td>293.6</td>\n",
              "      <td>1</td>\n",
              "    </tr>\n",
              "    <tr>\n",
              "      <th>...</th>\n",
              "      <td>...</td>\n",
              "      <td>...</td>\n",
              "      <td>...</td>\n",
              "    </tr>\n",
              "    <tr>\n",
              "      <th>113</th>\n",
              "      <td>2014</td>\n",
              "      <td>733.9</td>\n",
              "      <td>1</td>\n",
              "    </tr>\n",
              "    <tr>\n",
              "      <th>114</th>\n",
              "      <td>2015</td>\n",
              "      <td>252.2</td>\n",
              "      <td>0</td>\n",
              "    </tr>\n",
              "    <tr>\n",
              "      <th>115</th>\n",
              "      <td>2016</td>\n",
              "      <td>325.5</td>\n",
              "      <td>1</td>\n",
              "    </tr>\n",
              "    <tr>\n",
              "      <th>116</th>\n",
              "      <td>2017</td>\n",
              "      <td>531.8</td>\n",
              "      <td>1</td>\n",
              "    </tr>\n",
              "    <tr>\n",
              "      <th>117</th>\n",
              "      <td>2018</td>\n",
              "      <td>1398.9</td>\n",
              "      <td>1</td>\n",
              "    </tr>\n",
              "  </tbody>\n",
              "</table>\n",
              "<p>118 rows × 3 columns</p>\n",
              "</div>"
            ],
            "text/plain": [
              "     YEAR     AUG  res\n",
              "0    1901   357.5    1\n",
              "1    1902   315.8    1\n",
              "2    1903   420.2    1\n",
              "3    1904   351.8    1\n",
              "4    1905   293.6    1\n",
              "..    ...     ...  ...\n",
              "113  2014   733.9    1\n",
              "114  2015   252.2    0\n",
              "115  2016   325.5    1\n",
              "116  2017   531.8    1\n",
              "117  2018  1398.9    1\n",
              "\n",
              "[118 rows x 3 columns]"
            ]
          },
          "metadata": {
            "tags": []
          },
          "execution_count": 55
        }
      ]
    },
    {
      "cell_type": "code",
      "metadata": {
        "colab": {
          "base_uri": "https://localhost:8080/"
        },
        "id": "QJshbt3k-NX0",
        "outputId": "b44c4123-887a-430f-d4ca-365d3e250230"
      },
      "source": [
        "x=aug.iloc[:,0:2]\r\n",
        "y=aug.iloc[:,-1]\r\n",
        "y=np.asarray(y)\r\n",
        "print(x,y)"
      ],
      "execution_count": 56,
      "outputs": [
        {
          "output_type": "stream",
          "text": [
            "     YEAR     AUG\n",
            "0    1901   357.5\n",
            "1    1902   315.8\n",
            "2    1903   420.2\n",
            "3    1904   351.8\n",
            "4    1905   293.6\n",
            "..    ...     ...\n",
            "113  2014   733.9\n",
            "114  2015   252.2\n",
            "115  2016   325.5\n",
            "116  2017   531.8\n",
            "117  2018  1398.9\n",
            "\n",
            "[118 rows x 2 columns] [1 1 1 1 1 1 1 1 0 1 0 1 0 1 1 1 1 1 1 0 1 1 1 1 1 1 1 1 1 1 1 1 1 1 1 1 1\n",
            " 1 1 1 1 1 0 0 1 1 1 1 1 1 0 1 1 1 0 1 1 1 1 1 1 1 1 1 1 0 1 1 1 1 1 1 1 1\n",
            " 1 1 0 1 1 1 1 1 1 1 1 1 1 1 1 1 1 1 1 1 1 1 1 1 1 1 1 1 1 1 1 1 1 1 1 1 1\n",
            " 1 1 1 0 1 1 1]\n"
          ],
          "name": "stdout"
        }
      ]
    },
    {
      "cell_type": "code",
      "metadata": {
        "colab": {
          "base_uri": "https://localhost:8080/"
        },
        "id": "t4rCY4Jb-a7j",
        "outputId": "5568048e-61ce-4891-95c3-d05a5a78c7d9"
      },
      "source": [
        "from sklearn import preprocessing\r\n",
        "minmax = preprocessing.MinMaxScaler(feature_range=(0,1))\r\n",
        "x = minmax.fit(x).transform(x)\r\n",
        "x"
      ],
      "execution_count": 57,
      "outputs": [
        {
          "output_type": "execute_result",
          "data": {
            "text/plain": [
              "array([[0.        , 0.14660329],\n",
              "       [0.00854701, 0.11243137],\n",
              "       [0.01709402, 0.1979841 ],\n",
              "       [0.02564103, 0.14193231],\n",
              "       [0.03418803, 0.09423912],\n",
              "       [0.04273504, 0.21650414],\n",
              "       [0.05128205, 0.65795296],\n",
              "       [0.05982906, 0.14283373],\n",
              "       [0.06837607, 0.06506597],\n",
              "       [0.07692308, 0.24190773],\n",
              "       [0.08547009, 0.        ],\n",
              "       [0.09401709, 0.29156765],\n",
              "       [0.1025641 , 0.05621568],\n",
              "       [0.11111111, 0.18323363],\n",
              "       [0.11965812, 0.09850037],\n",
              "       [0.12820513, 0.17889044],\n",
              "       [0.13675214, 0.12824715],\n",
              "       [0.14529915, 0.1617635 ],\n",
              "       [0.15384615, 0.25043022],\n",
              "       [0.16239316, 0.04621814],\n",
              "       [0.17094017, 0.37966074],\n",
              "       [0.17948718, 0.11636483],\n",
              "       [0.18803419, 0.62640334],\n",
              "       [0.1965812 , 0.36499222],\n",
              "       [0.20512821, 0.30771122],\n",
              "       [0.21367521, 0.2928788 ],\n",
              "       [0.22222222, 0.11177579],\n",
              "       [0.23076923, 0.30697369],\n",
              "       [0.23931624, 0.09448496],\n",
              "       [0.24786325, 0.07768581],\n",
              "       [0.25641026, 0.83635172],\n",
              "       [0.26495726, 0.20044251],\n",
              "       [0.27350427, 0.24657871],\n",
              "       [0.28205128, 0.12996804],\n",
              "       [0.29059829, 0.08383184],\n",
              "       [0.2991453 , 0.15512579],\n",
              "       [0.30769231, 0.08407769],\n",
              "       [0.31623932, 0.08956814],\n",
              "       [0.32478632, 0.23051709],\n",
              "       [0.33333333, 0.3541752 ],\n",
              "       [0.34188034, 0.22936983],\n",
              "       [0.35042735, 0.12349422],\n",
              "       [0.35897436, 0.00385151],\n",
              "       [0.36752137, 0.04269442],\n",
              "       [0.37606838, 0.14193231],\n",
              "       [0.38461538, 0.42366631],\n",
              "       [0.39316239, 0.45972302],\n",
              "       [0.4017094 , 0.25346226],\n",
              "       [0.41025641, 0.21847087],\n",
              "       [0.41880342, 0.17102352],\n",
              "       [0.42735043, 0.00983365],\n",
              "       [0.43589744, 0.1925756 ],\n",
              "       [0.44444444, 0.14570188],\n",
              "       [0.45299145, 0.23633533],\n",
              "       [0.46153846, 0.04703761],\n",
              "       [0.47008547, 0.11546341],\n",
              "       [0.47863248, 0.14766861],\n",
              "       [0.48717949, 0.28517578],\n",
              "       [0.4957265 , 0.17921823],\n",
              "       [0.5042735 , 0.12964025],\n",
              "       [0.51282051, 0.40948947],\n",
              "       [0.52136752, 0.27214619],\n",
              "       [0.52991453, 0.27239203],\n",
              "       [0.53846154, 0.30271245],\n",
              "       [0.54700855, 0.0962878 ],\n",
              "       [0.55555556, 0.01925756],\n",
              "       [0.56410256, 0.27026141],\n",
              "       [0.57264957, 0.16561501],\n",
              "       [0.58119658, 0.08702778],\n",
              "       [0.58974359, 0.30828485],\n",
              "       [0.5982906 , 0.16930263],\n",
              "       [0.60683761, 0.09530443],\n",
              "       [0.61538462, 0.25313448],\n",
              "       [0.62393162, 0.29091207],\n",
              "       [0.63247863, 0.40752274],\n",
              "       [0.64102564, 0.13439318],\n",
              "       [0.64957265, 0.04556257],\n",
              "       [0.65811966, 0.27714496],\n",
              "       [0.66666667, 0.16807342],\n",
              "       [0.67521368, 0.21265263],\n",
              "       [0.68376068, 0.25977219],\n",
              "       [0.69230769, 0.2592805 ],\n",
              "       [0.7008547 , 0.32885356],\n",
              "       [0.70940171, 0.08669999],\n",
              "       [0.71794872, 0.11202163],\n",
              "       [0.72649573, 0.1325084 ],\n",
              "       [0.73504274, 0.1786446 ],\n",
              "       [0.74358974, 0.16487749],\n",
              "       [0.75213675, 0.08760141],\n",
              "       [0.76068376, 0.15750225],\n",
              "       [0.76923077, 0.23510612],\n",
              "       [0.77777778, 0.26993362],\n",
              "       [0.78632479, 0.10104073],\n",
              "       [0.79487179, 0.2469065 ],\n",
              "       [0.8034188 , 0.22838646],\n",
              "       [0.81196581, 0.12193723],\n",
              "       [0.82051282, 0.2928788 ],\n",
              "       [0.82905983, 0.15832172],\n",
              "       [0.83760684, 0.07186757],\n",
              "       [0.84615385, 0.31787265],\n",
              "       [0.85470085, 0.14971728],\n",
              "       [0.86324786, 0.21273457],\n",
              "       [0.87179487, 0.14070311],\n",
              "       [0.88034188, 0.19609932],\n",
              "       [0.88888889, 0.0921085 ],\n",
              "       [0.8974359 , 0.20814554],\n",
              "       [0.90598291, 0.25485536],\n",
              "       [0.91452991, 0.13963779],\n",
              "       [0.92307692, 0.07432599],\n",
              "       [0.93162393, 0.14537409],\n",
              "       [0.94017094, 0.25739572],\n",
              "       [0.94871795, 0.26468901],\n",
              "       [0.95726496, 0.15660084],\n",
              "       [0.96581197, 0.45505204],\n",
              "       [0.97435897, 0.06031304],\n",
              "       [0.98290598, 0.12038023],\n",
              "       [0.99145299, 0.28943702],\n",
              "       [1.        , 1.        ]])"
            ]
          },
          "metadata": {
            "tags": []
          },
          "execution_count": 57
        }
      ]
    },
    {
      "cell_type": "code",
      "metadata": {
        "colab": {
          "base_uri": "https://localhost:8080/"
        },
        "id": "V4oURhih_AlD",
        "outputId": "03861c10-0256-4373-e4b7-a73701c4154c"
      },
      "source": [
        "from sklearn import model_selection,neighbors\r\n",
        "from sklearn.model_selection import train_test_split\r\n",
        "xAug_train,xAug_test,yAug_train,yAug_test=train_test_split(x,y,test_size=0.2)\r\n",
        "xAug_train[:20]"
      ],
      "execution_count": 58,
      "outputs": [
        {
          "output_type": "execute_result",
          "data": {
            "text/plain": [
              "array([[0.38461538, 0.42366631],\n",
              "       [0.98290598, 0.12038023],\n",
              "       [0.2991453 , 0.15512579],\n",
              "       [0.87179487, 0.14070311],\n",
              "       [0.07692308, 0.24190773],\n",
              "       [0.41025641, 0.21847087],\n",
              "       [0.81196581, 0.12193723],\n",
              "       [0.05128205, 0.65795296],\n",
              "       [0.76923077, 0.23510612],\n",
              "       [0.96581197, 0.45505204],\n",
              "       [0.5042735 , 0.12964025],\n",
              "       [0.4957265 , 0.17921823],\n",
              "       [0.94871795, 0.26468901],\n",
              "       [0.82051282, 0.2928788 ],\n",
              "       [0.03418803, 0.09423912],\n",
              "       [0.39316239, 0.45972302],\n",
              "       [0.08547009, 0.        ],\n",
              "       [0.69230769, 0.2592805 ],\n",
              "       [0.11965812, 0.09850037],\n",
              "       [0.23076923, 0.30697369]])"
            ]
          },
          "metadata": {
            "tags": []
          },
          "execution_count": 58
        }
      ]
    },
    {
      "cell_type": "code",
      "metadata": {
        "colab": {
          "base_uri": "https://localhost:8080/"
        },
        "id": "Xjzvxm6VAUHQ",
        "outputId": "6e0db85d-5325-4a29-9ef6-673cc8fd544b"
      },
      "source": [
        "clf8=neighbors.KNeighborsClassifier()\r\n",
        "clf8.fit(xAug_train,yAug_train)\r\n",
        "print(\"Predicted Values for the Floods:\")\r\n",
        "yAug_predict=clf8.predict(xAug_test)\r\n",
        "print(yAug_predict,len(yAug_predict))"
      ],
      "execution_count": 59,
      "outputs": [
        {
          "output_type": "stream",
          "text": [
            "Predicted Values for the Floods:\n",
            "[1 1 1 1 1 1 1 1 1 1 1 1 1 1 1 1 1 1 1 1 1 1 1 1] 24\n"
          ],
          "name": "stdout"
        }
      ]
    },
    {
      "cell_type": "code",
      "metadata": {
        "colab": {
          "base_uri": "https://localhost:8080/",
          "height": 265
        },
        "id": "5NVTJiX5AZjq",
        "outputId": "9dd4f8b5-d026-4d8c-db40-dad45d696ce7"
      },
      "source": [
        "plt.plot(yAug_predict)\r\n",
        "plt.plot(yAug_test)\r\n",
        "plt.grid(\"on\")\r\n",
        "plt.show()"
      ],
      "execution_count": 60,
      "outputs": [
        {
          "output_type": "display_data",
          "data": {
            "image/png": "[encoded data removed]",
            "text/plain": [
              "<Figure size 432x288 with 1 Axes>"
            ]
          },
          "metadata": {
            "tags": [],
            "needs_background": "light"
          }
        }
      ]
    },
    {
      "cell_type": "code",
      "metadata": {
        "colab": {
          "base_uri": "https://localhost:8080/"
        },
        "id": "YICTxY-5Auil",
        "outputId": "b7b4a529-8a64-45fc-f6e8-9776550d351b"
      },
      "source": [
        "from sklearn.metrics import accuracy_score\r\n",
        "print(\"\\nAccuracy Score:%f\"%(accuracy_score(yAug_test,yAug_predict)*100))"
      ],
      "execution_count": 61,
      "outputs": [
        {
          "output_type": "stream",
          "text": [
            "\n",
            "Accuracy Score:83.333333\n"
          ],
          "name": "stdout"
        }
      ]
    },
    {
      "cell_type": "code",
      "metadata": {
        "colab": {
          "base_uri": "https://localhost:8080/",
          "height": 670
        },
        "id": "iWybyVuGBOlL",
        "outputId": "00586fe1-c543-4f96-9a7c-ff5ff38208c2"
      },
      "source": [
        "sep=data.iloc[:,[1,10]]\r\n",
        "sep['res']=0\r\n",
        "for i in range(len(sep)):\r\n",
        "  if sep['SEP'][i]>263:\r\n",
        "    sep['res'][i]=1\r\n",
        "sep"
      ],
      "execution_count": 62,
      "outputs": [
        {
          "output_type": "stream",
          "text": [
            "/usr/local/lib/python3.7/dist-packages/ipykernel_launcher.py:2: SettingWithCopyWarning: \n",
            "A value is trying to be set on a copy of a slice from a DataFrame.\n",
            "Try using .loc[row_indexer,col_indexer] = value instead\n",
            "\n",
            "See the caveats in the documentation: https://pandas.pydata.org/pandas-docs/stable/user_guide/indexing.html#returning-a-view-versus-a-copy\n",
            "  \n",
            "/usr/local/lib/python3.7/dist-packages/ipykernel_launcher.py:5: SettingWithCopyWarning: \n",
            "A value is trying to be set on a copy of a slice from a DataFrame\n",
            "\n",
            "See the caveats in the documentation: https://pandas.pydata.org/pandas-docs/stable/user_guide/indexing.html#returning-a-view-versus-a-copy\n",
            "  \"\"\"\n",
            "/usr/local/lib/python3.7/dist-packages/IPython/core/interactiveshell.py:2882: SettingWithCopyWarning: \n",
            "A value is trying to be set on a copy of a slice from a DataFrame\n",
            "\n",
            "See the caveats in the documentation: https://pandas.pydata.org/pandas-docs/stable/user_guide/indexing.html#returning-a-view-versus-a-copy\n",
            "  exec(code_obj, self.user_global_ns, self.user_ns)\n"
          ],
          "name": "stderr"
        },
        {
          "output_type": "execute_result",
          "data": {
            "text/html": [
              "<div>\n",
              "<style scoped>\n",
              "    .dataframe tbody tr th:only-of-type {\n",
              "        vertical-align: middle;\n",
              "    }\n",
              "\n",
              "    .dataframe tbody tr th {\n",
              "        vertical-align: top;\n",
              "    }\n",
              "\n",
              "    .dataframe thead th {\n",
              "        text-align: right;\n",
              "    }\n",
              "</style>\n",
              "<table border=\"1\" class=\"dataframe\">\n",
              "  <thead>\n",
              "    <tr style=\"text-align: right;\">\n",
              "      <th></th>\n",
              "      <th>YEAR</th>\n",
              "      <th>SEP</th>\n",
              "      <th>res</th>\n",
              "    </tr>\n",
              "  </thead>\n",
              "  <tbody>\n",
              "    <tr>\n",
              "      <th>0</th>\n",
              "      <td>1901</td>\n",
              "      <td>197.7</td>\n",
              "      <td>0</td>\n",
              "    </tr>\n",
              "    <tr>\n",
              "      <th>1</th>\n",
              "      <td>1902</td>\n",
              "      <td>491.6</td>\n",
              "      <td>1</td>\n",
              "    </tr>\n",
              "    <tr>\n",
              "      <th>2</th>\n",
              "      <td>1903</td>\n",
              "      <td>341.8</td>\n",
              "      <td>1</td>\n",
              "    </tr>\n",
              "    <tr>\n",
              "      <th>3</th>\n",
              "      <td>1904</td>\n",
              "      <td>222.7</td>\n",
              "      <td>0</td>\n",
              "    </tr>\n",
              "    <tr>\n",
              "      <th>4</th>\n",
              "      <td>1905</td>\n",
              "      <td>217.2</td>\n",
              "      <td>0</td>\n",
              "    </tr>\n",
              "    <tr>\n",
              "      <th>...</th>\n",
              "      <td>...</td>\n",
              "      <td>...</td>\n",
              "      <td>...</td>\n",
              "    </tr>\n",
              "    <tr>\n",
              "      <th>113</th>\n",
              "      <td>2014</td>\n",
              "      <td>298.8</td>\n",
              "      <td>1</td>\n",
              "    </tr>\n",
              "    <tr>\n",
              "      <th>114</th>\n",
              "      <td>2015</td>\n",
              "      <td>292.9</td>\n",
              "      <td>1</td>\n",
              "    </tr>\n",
              "    <tr>\n",
              "      <th>115</th>\n",
              "      <td>2016</td>\n",
              "      <td>173.2</td>\n",
              "      <td>0</td>\n",
              "    </tr>\n",
              "    <tr>\n",
              "      <th>116</th>\n",
              "      <td>2017</td>\n",
              "      <td>209.5</td>\n",
              "      <td>0</td>\n",
              "    </tr>\n",
              "    <tr>\n",
              "      <th>117</th>\n",
              "      <td>2018</td>\n",
              "      <td>423.6</td>\n",
              "      <td>1</td>\n",
              "    </tr>\n",
              "  </tbody>\n",
              "</table>\n",
              "<p>118 rows × 3 columns</p>\n",
              "</div>"
            ],
            "text/plain": [
              "     YEAR    SEP  res\n",
              "0    1901  197.7    0\n",
              "1    1902  491.6    1\n",
              "2    1903  341.8    1\n",
              "3    1904  222.7    0\n",
              "4    1905  217.2    0\n",
              "..    ...    ...  ...\n",
              "113  2014  298.8    1\n",
              "114  2015  292.9    1\n",
              "115  2016  173.2    0\n",
              "116  2017  209.5    0\n",
              "117  2018  423.6    1\n",
              "\n",
              "[118 rows x 3 columns]"
            ]
          },
          "metadata": {
            "tags": []
          },
          "execution_count": 62
        }
      ]
    },
    {
      "cell_type": "code",
      "metadata": {
        "colab": {
          "base_uri": "https://localhost:8080/"
        },
        "id": "Ml3JNYhcGkHj",
        "outputId": "d33ef8ec-6a01-4066-e110-d2130b217e0e"
      },
      "source": [
        "x=sep.iloc[:,0:2]\r\n",
        "y=sep.iloc[:,-1]\r\n",
        "y=np.asarray(y)\r\n",
        "print(x,y)"
      ],
      "execution_count": 63,
      "outputs": [
        {
          "output_type": "stream",
          "text": [
            "     YEAR    SEP\n",
            "0    1901  197.7\n",
            "1    1902  491.6\n",
            "2    1903  341.8\n",
            "3    1904  222.7\n",
            "4    1905  217.2\n",
            "..    ...    ...\n",
            "113  2014  298.8\n",
            "114  2015  292.9\n",
            "115  2016  173.2\n",
            "116  2017  209.5\n",
            "117  2018  423.6\n",
            "\n",
            "[118 rows x 2 columns] [0 1 1 0 0 0 0 0 0 0 0 0 0 0 1 1 1 0 0 0 0 0 0 1 0 1 1 0 1 1 0 1 1 0 1 1 0\n",
            " 0 0 0 0 0 0 0 0 0 1 0 1 1 1 0 0 0 1 0 0 0 1 1 1 1 0 1 0 1 0 1 0 0 1 0 0 1\n",
            " 1 0 0 0 0 0 1 0 1 0 0 0 0 1 1 0 0 1 0 0 1 1 1 1 0 0 0 0 0 0 1 1 1 1 1 1 1\n",
            " 0 1 1 1 0 0 1]\n"
          ],
          "name": "stdout"
        }
      ]
    },
    {
      "cell_type": "code",
      "metadata": {
        "colab": {
          "base_uri": "https://localhost:8080/"
        },
        "id": "FbRirYe5G0Hw",
        "outputId": "7df0a184-2c92-49d9-ca06-18aaa6fccc9c"
      },
      "source": [
        "from sklearn import preprocessing\r\n",
        "minmax = preprocessing.MinMaxScaler(feature_range=(0,1))\r\n",
        "x = minmax.fit(x).transform(x)\r\n",
        "x"
      ],
      "execution_count": 64,
      "outputs": [
        {
          "output_type": "execute_result",
          "data": {
            "text/plain": [
              "array([[0.        , 0.32220849],\n",
              "       [0.00854701, 0.9276885 ],\n",
              "       [0.01709402, 0.61907705],\n",
              "       [0.02564103, 0.3737124 ],\n",
              "       [0.03418803, 0.36238154],\n",
              "       [0.04273504, 0.18520808],\n",
              "       [0.05128205, 0.37845076],\n",
              "       [0.05982906, 0.27729707],\n",
              "       [0.06837607, 0.31747013],\n",
              "       [0.07692308, 0.42707046],\n",
              "       [0.08547009, 0.03893696],\n",
              "       [0.09401709, 0.19674495],\n",
              "       [0.1025641 , 0.27935723],\n",
              "       [0.11111111, 0.41141327],\n",
              "       [0.11965812, 0.73197363],\n",
              "       [0.12820513, 0.61392666],\n",
              "       [0.13675214, 0.88380717],\n",
              "       [0.14529915, 0.11351463],\n",
              "       [0.15384615, 0.4421096 ],\n",
              "       [0.16239316, 0.2816234 ],\n",
              "       [0.17094017, 0.23774207],\n",
              "       [0.17948718, 0.37309436],\n",
              "       [0.18803419, 0.43881335],\n",
              "       [0.1965812 , 0.5105068 ],\n",
              "       [0.20512821, 0.2420684 ],\n",
              "       [0.21367521, 0.57972806],\n",
              "       [0.22222222, 0.60630408],\n",
              "       [0.23076923, 0.07128142],\n",
              "       [0.23931624, 0.46889164],\n",
              "       [0.24786325, 0.76266996],\n",
              "       [0.25641026, 0.25113309],\n",
              "       [0.26495726, 0.56860321],\n",
              "       [0.27350427, 0.88257108],\n",
              "       [0.28205128, 0.01462711],\n",
              "       [0.29059829, 0.49855789],\n",
              "       [0.2991453 , 0.50556242],\n",
              "       [0.30769231, 0.20292542],\n",
              "       [0.31623932, 0.37474248],\n",
              "       [0.32478632, 0.19118253],\n",
              "       [0.33333333, 0.05541821],\n",
              "       [0.34188034, 0.44622991],\n",
              "       [0.35042735, 0.12051916],\n",
              "       [0.35897436, 0.44561187],\n",
              "       [0.36752137, 0.2342398 ],\n",
              "       [0.37606838, 0.1433869 ],\n",
              "       [0.38461538, 0.32571075],\n",
              "       [0.39316239, 0.7276473 ],\n",
              "       [0.4017094 , 0.25813762],\n",
              "       [0.41025641, 0.64524104],\n",
              "       [0.41880342, 0.76287598],\n",
              "       [0.42735043, 0.56139267],\n",
              "       [0.43589744, 0.03316852],\n",
              "       [0.44444444, 0.12196127],\n",
              "       [0.45299145, 0.3302431 ],\n",
              "       [0.46153846, 0.81829419],\n",
              "       [0.47008547, 0.28244747],\n",
              "       [0.47863248, 0.        ],\n",
              "       [0.48717949, 0.09229501],\n",
              "       [0.4957265 , 0.75030902],\n",
              "       [0.5042735 , 0.67964565],\n",
              "       [0.51282051, 0.73753605],\n",
              "       [0.52136752, 0.72847136],\n",
              "       [0.52991453, 0.37618459],\n",
              "       [0.53846154, 0.73526988],\n",
              "       [0.54700855, 0.22414504],\n",
              "       [0.55555556, 0.51895344],\n",
              "       [0.56410256, 0.21528636],\n",
              "       [0.57264957, 0.58529048],\n",
              "       [0.58119658, 0.36073342],\n",
              "       [0.58974359, 0.35269881],\n",
              "       [0.5982906 , 0.59723939],\n",
              "       [0.60683761, 0.29748661],\n",
              "       [0.61538462, 0.04120313],\n",
              "       [0.62393162, 0.70519159],\n",
              "       [0.63247863, 0.8578492 ],\n",
              "       [0.64102564, 0.15430573],\n",
              "       [0.64957265, 0.32962505],\n",
              "       [0.65811966, 0.16089823],\n",
              "       [0.66666667, 0.35105068],\n",
              "       [0.67521368, 0.20230738],\n",
              "       [0.68376068, 0.6907705 ],\n",
              "       [0.69230769, 0.06036259],\n",
              "       [0.7008547 , 0.78244747],\n",
              "       [0.70940171, 0.26740832],\n",
              "       [0.71794872, 0.15718995],\n",
              "       [0.72649573, 0.39987639],\n",
              "       [0.73504274, 0.23836012],\n",
              "       [0.74358974, 0.84548826],\n",
              "       [0.75213675, 0.47342398],\n",
              "       [0.76068376, 0.12772971],\n",
              "       [0.76923077, 0.01483313],\n",
              "       [0.77777778, 0.52781211],\n",
              "       [0.78632479, 0.09620931],\n",
              "       [0.79487179, 0.35290482],\n",
              "       [0.8034188 , 0.49175937],\n",
              "       [0.81196581, 0.62093119],\n",
              "       [0.82051282, 0.51689328],\n",
              "       [0.82905983, 0.98125258],\n",
              "       [0.83760684, 0.09620931],\n",
              "       [0.84615385, 0.31829419],\n",
              "       [0.85470085, 0.36155748],\n",
              "       [0.86324786, 0.11887103],\n",
              "       [0.87179487, 0.10774619],\n",
              "       [0.88034188, 0.31211372],\n",
              "       [0.88888889, 0.76926246],\n",
              "       [0.8974359 , 0.89307787],\n",
              "       [0.90598291, 1.        ],\n",
              "       [0.91452991, 0.62978986],\n",
              "       [0.92307692, 0.58755665],\n",
              "       [0.93162393, 0.48269468],\n",
              "       [0.94017094, 0.72084878],\n",
              "       [0.94871795, 0.41161928],\n",
              "       [0.95726496, 0.57128142],\n",
              "       [0.96581197, 0.53049032],\n",
              "       [0.97435897, 0.51833539],\n",
              "       [0.98290598, 0.27173465],\n",
              "       [0.99145299, 0.34651834],\n",
              "       [1.        , 0.78759786]])"
            ]
          },
          "metadata": {
            "tags": []
          },
          "execution_count": 64
        }
      ]
    },
    {
      "cell_type": "code",
      "metadata": {
        "colab": {
          "base_uri": "https://localhost:8080/"
        },
        "id": "pFWuAG6lHVKc",
        "outputId": "f27a8dd6-7d43-4741-d95b-89a2e8af1b93"
      },
      "source": [
        "from sklearn import model_selection,neighbors\r\n",
        "from sklearn.model_selection import train_test_split\r\n",
        "xSep_train,xSep_test,ySep_train,ySep_test=train_test_split(x,y,test_size=0.2)\r\n",
        "xSep_train[:20]"
      ],
      "execution_count": 65,
      "outputs": [
        {
          "output_type": "execute_result",
          "data": {
            "text/plain": [
              "array([[0.14529915, 0.11351463],\n",
              "       [0.54700855, 0.22414504],\n",
              "       [0.75213675, 0.47342398],\n",
              "       [0.08547009, 0.03893696],\n",
              "       [0.05128205, 0.37845076],\n",
              "       [0.61538462, 0.04120313],\n",
              "       [0.82051282, 0.51689328],\n",
              "       [0.37606838, 0.1433869 ],\n",
              "       [0.70940171, 0.26740832],\n",
              "       [0.90598291, 1.        ],\n",
              "       [0.64957265, 0.32962505],\n",
              "       [0.64102564, 0.15430573],\n",
              "       [0.99145299, 0.34651834],\n",
              "       [0.4017094 , 0.25813762],\n",
              "       [0.86324786, 0.11887103],\n",
              "       [0.84615385, 0.31829419],\n",
              "       [0.76923077, 0.01483313],\n",
              "       [0.41880342, 0.76287598],\n",
              "       [0.09401709, 0.19674495],\n",
              "       [0.02564103, 0.3737124 ]])"
            ]
          },
          "metadata": {
            "tags": []
          },
          "execution_count": 65
        }
      ]
    },
    {
      "cell_type": "code",
      "metadata": {
        "colab": {
          "base_uri": "https://localhost:8080/"
        },
        "id": "slDBcuTaHkHg",
        "outputId": "b2d68e54-76e9-45c3-bb8f-7e22f1ad06d2"
      },
      "source": [
        "clf9=neighbors.KNeighborsClassifier()\r\n",
        "clf9.fit(xSep_train,ySep_train)\r\n",
        "print(\"Predicted Values for the Floods:\")\r\n",
        "ySep_predict=clf9.predict(xSep_test)\r\n",
        "print(ySep_predict,len(ySep_predict))"
      ],
      "execution_count": 66,
      "outputs": [
        {
          "output_type": "stream",
          "text": [
            "Predicted Values for the Floods:\n",
            "[0 1 0 0 0 0 1 0 0 1 1 0 0 0 1 0 0 0 0 0 0 1 0 1] 24\n"
          ],
          "name": "stdout"
        }
      ]
    },
    {
      "cell_type": "code",
      "metadata": {
        "colab": {
          "base_uri": "https://localhost:8080/",
          "height": 265
        },
        "id": "N3Q2Q3jLH0-a",
        "outputId": "664fe37f-6c83-4445-ebea-658ef85d54bd"
      },
      "source": [
        "plt.plot(ySep_predict)\r\n",
        "plt.plot(ySep_test)\r\n",
        "plt.grid(\"on\")\r\n",
        "plt.show()"
      ],
      "execution_count": 67,
      "outputs": [
        {
          "output_type": "display_data",
          "data": {
            "image/png": "[encoded data removed]",
            "text/plain": [
              "<Figure size 432x288 with 1 Axes>"
            ]
          },
          "metadata": {
            "tags": [],
            "needs_background": "light"
          }
        }
      ]
    },
    {
      "cell_type": "code",
      "metadata": {
        "colab": {
          "base_uri": "https://localhost:8080/"
        },
        "id": "8hsCDtpBH9I2",
        "outputId": "852a2742-a7dc-4425-a3db-d9030bf5fc10"
      },
      "source": [
        "from sklearn.metrics import accuracy_score\r\n",
        "print(\"\\nAccuracy Score:%f\"%(accuracy_score(ySep_test,ySep_predict)*100))"
      ],
      "execution_count": 68,
      "outputs": [
        {
          "output_type": "stream",
          "text": [
            "\n",
            "Accuracy Score:95.833333\n"
          ],
          "name": "stdout"
        }
      ]
    },
    {
      "cell_type": "code",
      "metadata": {
        "colab": {
          "base_uri": "https://localhost:8080/",
          "height": 670
        },
        "id": "BjpdfITmINlZ",
        "outputId": "50442ce7-ad2d-40fa-f9eb-c6b9d12bf24f"
      },
      "source": [
        "oct=data.iloc[:,[1,11]]\r\n",
        "oct['res']=0\r\n",
        "for i in range(len(oct)):\r\n",
        "  if oct['OCT'][i]>263:\r\n",
        "    oct['res'][i]=1\r\n",
        "oct"
      ],
      "execution_count": 69,
      "outputs": [
        {
          "output_type": "stream",
          "text": [
            "/usr/local/lib/python3.7/dist-packages/ipykernel_launcher.py:2: SettingWithCopyWarning: \n",
            "A value is trying to be set on a copy of a slice from a DataFrame.\n",
            "Try using .loc[row_indexer,col_indexer] = value instead\n",
            "\n",
            "See the caveats in the documentation: https://pandas.pydata.org/pandas-docs/stable/user_guide/indexing.html#returning-a-view-versus-a-copy\n",
            "  \n",
            "/usr/local/lib/python3.7/dist-packages/ipykernel_launcher.py:5: SettingWithCopyWarning: \n",
            "A value is trying to be set on a copy of a slice from a DataFrame\n",
            "\n",
            "See the caveats in the documentation: https://pandas.pydata.org/pandas-docs/stable/user_guide/indexing.html#returning-a-view-versus-a-copy\n",
            "  \"\"\"\n",
            "/usr/local/lib/python3.7/dist-packages/IPython/core/interactiveshell.py:2882: SettingWithCopyWarning: \n",
            "A value is trying to be set on a copy of a slice from a DataFrame\n",
            "\n",
            "See the caveats in the documentation: https://pandas.pydata.org/pandas-docs/stable/user_guide/indexing.html#returning-a-view-versus-a-copy\n",
            "  exec(code_obj, self.user_global_ns, self.user_ns)\n"
          ],
          "name": "stderr"
        },
        {
          "output_type": "execute_result",
          "data": {
            "text/html": [
              "<div>\n",
              "<style scoped>\n",
              "    .dataframe tbody tr th:only-of-type {\n",
              "        vertical-align: middle;\n",
              "    }\n",
              "\n",
              "    .dataframe tbody tr th {\n",
              "        vertical-align: top;\n",
              "    }\n",
              "\n",
              "    .dataframe thead th {\n",
              "        text-align: right;\n",
              "    }\n",
              "</style>\n",
              "<table border=\"1\" class=\"dataframe\">\n",
              "  <thead>\n",
              "    <tr style=\"text-align: right;\">\n",
              "      <th></th>\n",
              "      <th>YEAR</th>\n",
              "      <th>OCT</th>\n",
              "      <th>res</th>\n",
              "    </tr>\n",
              "  </thead>\n",
              "  <tbody>\n",
              "    <tr>\n",
              "      <th>0</th>\n",
              "      <td>1901</td>\n",
              "      <td>266.9</td>\n",
              "      <td>1</td>\n",
              "    </tr>\n",
              "    <tr>\n",
              "      <th>1</th>\n",
              "      <td>1902</td>\n",
              "      <td>358.4</td>\n",
              "      <td>1</td>\n",
              "    </tr>\n",
              "    <tr>\n",
              "      <th>2</th>\n",
              "      <td>1903</td>\n",
              "      <td>354.1</td>\n",
              "      <td>1</td>\n",
              "    </tr>\n",
              "    <tr>\n",
              "      <th>3</th>\n",
              "      <td>1904</td>\n",
              "      <td>328.1</td>\n",
              "      <td>1</td>\n",
              "    </tr>\n",
              "    <tr>\n",
              "      <th>4</th>\n",
              "      <td>1905</td>\n",
              "      <td>383.5</td>\n",
              "      <td>1</td>\n",
              "    </tr>\n",
              "    <tr>\n",
              "      <th>...</th>\n",
              "      <td>...</td>\n",
              "      <td>...</td>\n",
              "      <td>...</td>\n",
              "    </tr>\n",
              "    <tr>\n",
              "      <th>113</th>\n",
              "      <td>2014</td>\n",
              "      <td>355.5</td>\n",
              "      <td>1</td>\n",
              "    </tr>\n",
              "    <tr>\n",
              "      <th>114</th>\n",
              "      <td>2015</td>\n",
              "      <td>308.1</td>\n",
              "      <td>1</td>\n",
              "    </tr>\n",
              "    <tr>\n",
              "      <th>115</th>\n",
              "      <td>2016</td>\n",
              "      <td>225.9</td>\n",
              "      <td>0</td>\n",
              "    </tr>\n",
              "    <tr>\n",
              "      <th>116</th>\n",
              "      <td>2017</td>\n",
              "      <td>192.4</td>\n",
              "      <td>0</td>\n",
              "    </tr>\n",
              "    <tr>\n",
              "      <th>117</th>\n",
              "      <td>2018</td>\n",
              "      <td>356.1</td>\n",
              "      <td>1</td>\n",
              "    </tr>\n",
              "  </tbody>\n",
              "</table>\n",
              "<p>118 rows × 3 columns</p>\n",
              "</div>"
            ],
            "text/plain": [
              "     YEAR    OCT  res\n",
              "0    1901  266.9    1\n",
              "1    1902  358.4    1\n",
              "2    1903  354.1    1\n",
              "3    1904  328.1    1\n",
              "4    1905  383.5    1\n",
              "..    ...    ...  ...\n",
              "113  2014  355.5    1\n",
              "114  2015  308.1    1\n",
              "115  2016  225.9    0\n",
              "116  2017  192.4    0\n",
              "117  2018  356.1    1\n",
              "\n",
              "[118 rows x 3 columns]"
            ]
          },
          "metadata": {
            "tags": []
          },
          "execution_count": 69
        }
      ]
    },
    {
      "cell_type": "code",
      "metadata": {
        "colab": {
          "base_uri": "https://localhost:8080/"
        },
        "id": "Z9A0dgV9I3cS",
        "outputId": "36b0004c-7e2c-44c1-871e-2e1e335099c0"
      },
      "source": [
        "x=oct.iloc[:,0:2]\r\n",
        "y=oct.iloc[:,-1]\r\n",
        "y=np.asarray(y)\r\n",
        "print(x,y)"
      ],
      "execution_count": 70,
      "outputs": [
        {
          "output_type": "stream",
          "text": [
            "     YEAR    OCT\n",
            "0    1901  266.9\n",
            "1    1902  358.4\n",
            "2    1903  354.1\n",
            "3    1904  328.1\n",
            "4    1905  383.5\n",
            "..    ...    ...\n",
            "113  2014  355.5\n",
            "114  2015  308.1\n",
            "115  2016  225.9\n",
            "116  2017  192.4\n",
            "117  2018  356.1\n",
            "\n",
            "[118 rows x 2 columns] [1 1 1 1 1 0 1 0 0 1 1 1 1 1 0 1 1 0 0 1 1 1 0 0 1 0 0 1 1 1 0 1 1 1 1 0 1\n",
            " 0 1 0 0 1 1 1 0 1 0 0 0 0 0 1 1 1 1 1 1 0 0 0 1 1 1 1 0 1 0 0 0 1 0 1 0 0\n",
            " 1 0 1 0 0 1 1 0 0 1 0 0 1 0 1 1 1 1 1 1 0 1 1 1 1 0 1 1 1 1 0 1 1 1 0 1 0\n",
            " 0 0 1 1 0 0 1]\n"
          ],
          "name": "stdout"
        }
      ]
    },
    {
      "cell_type": "code",
      "metadata": {
        "colab": {
          "base_uri": "https://localhost:8080/"
        },
        "id": "q81GCMO2JZ-e",
        "outputId": "94b6947a-bf1d-4bcb-bd8d-ab0599e25cb0"
      },
      "source": [
        "from sklearn import preprocessing\r\n",
        "minmax = preprocessing.MinMaxScaler(feature_range=(0,1))\r\n",
        "x = minmax.fit(x).transform(x)\r\n",
        "x"
      ],
      "execution_count": 71,
      "outputs": [
        {
          "output_type": "execute_result",
          "data": {
            "text/plain": [
              "array([[0.        , 0.39727673],\n",
              "       [0.00854701, 0.5804966 ],\n",
              "       [0.01709402, 0.57188626],\n",
              "       [0.02564103, 0.51982379],\n",
              "       [0.03418803, 0.63075691],\n",
              "       [0.04273504, 0.36684021],\n",
              "       [0.05128205, 0.48297958],\n",
              "       [0.05982906, 0.37004405],\n",
              "       [0.06837607, 0.28754505],\n",
              "       [0.07692308, 0.57689227],\n",
              "       [0.08547009, 0.46816179],\n",
              "       [0.09401709, 0.80296356],\n",
              "       [0.1025641 , 0.70885062],\n",
              "       [0.11111111, 0.61253504],\n",
              "       [0.11965812, 0.25650781],\n",
              "       [0.12820513, 0.50500601],\n",
              "       [0.13675214, 0.39167   ],\n",
              "       [0.14529915, 0.32979575],\n",
              "       [0.15384615, 0.3618342 ],\n",
              "       [0.16239316, 0.56387665],\n",
              "       [0.17094017, 0.46836203],\n",
              "       [0.17948718, 0.39607529],\n",
              "       [0.18803419, 0.26952343],\n",
              "       [0.1965812 , 0.21625951],\n",
              "       [0.20512821, 0.45434521],\n",
              "       [0.21367521, 0.29675611],\n",
              "       [0.22222222, 0.13476171],\n",
              "       [0.23076923, 0.50660793],\n",
              "       [0.23931624, 0.56447737],\n",
              "       [0.24786325, 0.73167801],\n",
              "       [0.25641026, 0.16179415],\n",
              "       [0.26495726, 0.95054065],\n",
              "       [0.27350427, 0.65778935],\n",
              "       [0.28205128, 0.53544253],\n",
              "       [0.29059829, 0.67140569],\n",
              "       [0.2991453 , 0.32679215],\n",
              "       [0.30769231, 0.66760112],\n",
              "       [0.31623932, 0.31077293],\n",
              "       [0.32478632, 0.5432519 ],\n",
              "       [0.33333333, 0.37885463],\n",
              "       [0.34188034, 0.30656788],\n",
              "       [0.35042735, 0.61253504],\n",
              "       [0.35897436, 0.71826191],\n",
              "       [0.36752137, 0.44152984],\n",
              "       [0.37606838, 0.37104525],\n",
              "       [0.38461538, 0.39567481],\n",
              "       [0.39316239, 0.23067681],\n",
              "       [0.4017094 , 0.23107729],\n",
              "       [0.41025641, 0.3215859 ],\n",
              "       [0.41880342, 0.36423708],\n",
              "       [0.42735043, 0.36463757],\n",
              "       [0.43589744, 0.54285142],\n",
              "       [0.44444444, 0.68482179],\n",
              "       [0.45299145, 0.46976372],\n",
              "       [0.46153846, 0.62014417],\n",
              "       [0.47008547, 0.57028434],\n",
              "       [0.47863248, 0.42370845],\n",
              "       [0.48717949, 0.24529435],\n",
              "       [0.4957265 , 0.26411694],\n",
              "       [0.5042735 , 0.3752503 ],\n",
              "       [0.51282051, 0.41189427],\n",
              "       [0.52136752, 0.81517821],\n",
              "       [0.52991453, 0.42871446],\n",
              "       [0.53846154, 0.51501802],\n",
              "       [0.54700855, 0.23067681],\n",
              "       [0.55555556, 0.64837805],\n",
              "       [0.56410256, 0.20865038],\n",
              "       [0.57264957, 0.22106528],\n",
              "       [0.58119658, 0.33460152],\n",
              "       [0.58974359, 0.42010412],\n",
              "       [0.5982906 , 0.3051662 ],\n",
              "       [0.60683761, 0.56668002],\n",
              "       [0.61538462, 0.38506207],\n",
              "       [0.62393162, 0.14737685],\n",
              "       [0.63247863, 0.60152183],\n",
              "       [0.64102564, 0.30596716],\n",
              "       [0.64957265, 0.73788546],\n",
              "       [0.65811966, 0.2052463 ],\n",
              "       [0.66666667, 0.19082899],\n",
              "       [0.67521368, 0.42811374],\n",
              "       [0.68376068, 0.39347217],\n",
              "       [0.69230769, 0.19203044],\n",
              "       [0.7008547 , 0.13556268],\n",
              "       [0.70940171, 0.43552263],\n",
              "       [0.71794872, 0.27132559],\n",
              "       [0.72649573, 0.19423308],\n",
              "       [0.73504274, 0.40768923],\n",
              "       [0.74358974, 0.        ],\n",
              "       [0.75213675, 0.47957549],\n",
              "       [0.76068376, 0.51001201],\n",
              "       [0.76923077, 0.47917501],\n",
              "       [0.77777778, 0.44493392],\n",
              "       [0.78632479, 0.72627153],\n",
              "       [0.79487179, 0.7206648 ],\n",
              "       [0.8034188 , 0.25991189],\n",
              "       [0.81196581, 0.45174209],\n",
              "       [0.82051282, 0.4413296 ],\n",
              "       [0.82905983, 0.75350421],\n",
              "       [0.83760684, 1.        ],\n",
              "       [0.84615385, 0.2917501 ],\n",
              "       [0.85470085, 0.50280336],\n",
              "       [0.86324786, 0.88746496],\n",
              "       [0.87179487, 0.67781338],\n",
              "       [0.88034188, 0.50480577],\n",
              "       [0.88888889, 0.34361233],\n",
              "       [0.8974359 , 0.61653985],\n",
              "       [0.90598291, 0.57809371],\n",
              "       [0.91452991, 0.55046055],\n",
              "       [0.92307692, 0.27372847],\n",
              "       [0.93162393, 0.74669604],\n",
              "       [0.94017094, 0.31778134],\n",
              "       [0.94871795, 0.23828594],\n",
              "       [0.95726496, 0.38325991],\n",
              "       [0.96581197, 0.57468963],\n",
              "       [0.97435897, 0.47977573],\n",
              "       [0.98290598, 0.31517821],\n",
              "       [0.99145299, 0.24809772],\n",
              "       [1.        , 0.57589107]])"
            ]
          },
          "metadata": {
            "tags": []
          },
          "execution_count": 71
        }
      ]
    },
    {
      "cell_type": "code",
      "metadata": {
        "colab": {
          "base_uri": "https://localhost:8080/"
        },
        "id": "MyA-BElcJiO9",
        "outputId": "9e765072-d819-4a6c-86ef-d794fdd21a81"
      },
      "source": [
        "from sklearn import model_selection,neighbors\r\n",
        "from sklearn.model_selection import train_test_split\r\n",
        "xOct_train,xOct_test,yOct_train,yOct_test=train_test_split(x,y,test_size=0.2)\r\n",
        "xOct_train[:20]"
      ],
      "execution_count": 72,
      "outputs": [
        {
          "output_type": "execute_result",
          "data": {
            "text/plain": [
              "array([[0.22222222, 0.13476171],\n",
              "       [0.67521368, 0.42811374],\n",
              "       [0.86324786, 0.88746496],\n",
              "       [0.88888889, 0.34361233],\n",
              "       [0.8034188 , 0.25991189],\n",
              "       [0.92307692, 0.27372847],\n",
              "       [0.56410256, 0.20865038],\n",
              "       [0.34188034, 0.30656788],\n",
              "       [0.78632479, 0.72627153],\n",
              "       [0.79487179, 0.7206648 ],\n",
              "       [0.46153846, 0.62014417],\n",
              "       [0.82051282, 0.4413296 ],\n",
              "       [0.91452991, 0.55046055],\n",
              "       [0.05128205, 0.48297958],\n",
              "       [0.70940171, 0.43552263],\n",
              "       [0.41880342, 0.36423708],\n",
              "       [0.43589744, 0.54285142],\n",
              "       [0.54700855, 0.23067681],\n",
              "       [0.01709402, 0.57188626],\n",
              "       [0.35042735, 0.61253504]])"
            ]
          },
          "metadata": {
            "tags": []
          },
          "execution_count": 72
        }
      ]
    },
    {
      "cell_type": "code",
      "metadata": {
        "colab": {
          "base_uri": "https://localhost:8080/"
        },
        "id": "b5yTmGm1Jty9",
        "outputId": "6ed34344-d1d4-45b8-848d-dbf08f7b4e9d"
      },
      "source": [
        "clf10=neighbors.KNeighborsClassifier()\r\n",
        "clf10.fit(xOct_train,yOct_train)\r\n",
        "print(\"Predicted Values for the Floods:\")\r\n",
        "yOct_predict=clf10.predict(xOct_test)\r\n",
        "print(yOct_predict,len(yOct_predict))"
      ],
      "execution_count": 73,
      "outputs": [
        {
          "output_type": "stream",
          "text": [
            "Predicted Values for the Floods:\n",
            "[1 1 1 1 1 0 0 1 1 1 1 0 0 1 0 0 1 0 0 1 0 1 1 1] 24\n"
          ],
          "name": "stdout"
        }
      ]
    },
    {
      "cell_type": "code",
      "metadata": {
        "colab": {
          "base_uri": "https://localhost:8080/",
          "height": 265
        },
        "id": "oIjhqWxiKF2S",
        "outputId": "6a83f65d-b9b1-4aee-9bff-265261426252"
      },
      "source": [
        "plt.plot(yOct_predict)\r\n",
        "plt.plot(yOct_test)\r\n",
        "plt.grid(\"on\")\r\n",
        "plt.show()"
      ],
      "execution_count": 74,
      "outputs": [
        {
          "output_type": "display_data",
          "data": {
            "image/png": "[encoded data removed]",
            "text/plain": [
              "<Figure size 432x288 with 1 Axes>"
            ]
          },
          "metadata": {
            "tags": [],
            "needs_background": "light"
          }
        }
      ]
    },
    {
      "cell_type": "code",
      "metadata": {
        "colab": {
          "base_uri": "https://localhost:8080/"
        },
        "id": "XG_XhUJGKWIR",
        "outputId": "66634478-9cd5-4796-db3a-24063e28668d"
      },
      "source": [
        "from sklearn.metrics import accuracy_score\r\n",
        "print(\"\\nAccuracy Score:%f\"%(accuracy_score(yOct_test,yOct_predict)*100))"
      ],
      "execution_count": 75,
      "outputs": [
        {
          "output_type": "stream",
          "text": [
            "\n",
            "Accuracy Score:95.833333\n"
          ],
          "name": "stdout"
        }
      ]
    },
    {
      "cell_type": "code",
      "metadata": {
        "colab": {
          "base_uri": "https://localhost:8080/",
          "height": 670
        },
        "id": "jZjVelCaMG3X",
        "outputId": "44442e13-4019-480a-8611-351f0c293cc7"
      },
      "source": [
        "nov=data.iloc[:,[1,12]]\r\n",
        "nov['res']=0\r\n",
        "for i in range(len(nov)):\r\n",
        "  if nov['NOV'][i]>263:\r\n",
        "    nov['res'][i]=1\r\n",
        "nov"
      ],
      "execution_count": 76,
      "outputs": [
        {
          "output_type": "stream",
          "text": [
            "/usr/local/lib/python3.7/dist-packages/ipykernel_launcher.py:2: SettingWithCopyWarning: \n",
            "A value is trying to be set on a copy of a slice from a DataFrame.\n",
            "Try using .loc[row_indexer,col_indexer] = value instead\n",
            "\n",
            "See the caveats in the documentation: https://pandas.pydata.org/pandas-docs/stable/user_guide/indexing.html#returning-a-view-versus-a-copy\n",
            "  \n",
            "/usr/local/lib/python3.7/dist-packages/ipykernel_launcher.py:5: SettingWithCopyWarning: \n",
            "A value is trying to be set on a copy of a slice from a DataFrame\n",
            "\n",
            "See the caveats in the documentation: https://pandas.pydata.org/pandas-docs/stable/user_guide/indexing.html#returning-a-view-versus-a-copy\n",
            "  \"\"\"\n",
            "/usr/local/lib/python3.7/dist-packages/IPython/core/interactiveshell.py:2882: SettingWithCopyWarning: \n",
            "A value is trying to be set on a copy of a slice from a DataFrame\n",
            "\n",
            "See the caveats in the documentation: https://pandas.pydata.org/pandas-docs/stable/user_guide/indexing.html#returning-a-view-versus-a-copy\n",
            "  exec(code_obj, self.user_global_ns, self.user_ns)\n"
          ],
          "name": "stderr"
        },
        {
          "output_type": "execute_result",
          "data": {
            "text/html": [
              "<div>\n",
              "<style scoped>\n",
              "    .dataframe tbody tr th:only-of-type {\n",
              "        vertical-align: middle;\n",
              "    }\n",
              "\n",
              "    .dataframe tbody tr th {\n",
              "        vertical-align: top;\n",
              "    }\n",
              "\n",
              "    .dataframe thead th {\n",
              "        text-align: right;\n",
              "    }\n",
              "</style>\n",
              "<table border=\"1\" class=\"dataframe\">\n",
              "  <thead>\n",
              "    <tr style=\"text-align: right;\">\n",
              "      <th></th>\n",
              "      <th>YEAR</th>\n",
              "      <th>NOV</th>\n",
              "      <th>res</th>\n",
              "    </tr>\n",
              "  </thead>\n",
              "  <tbody>\n",
              "    <tr>\n",
              "      <th>0</th>\n",
              "      <td>1901</td>\n",
              "      <td>350.8</td>\n",
              "      <td>1</td>\n",
              "    </tr>\n",
              "    <tr>\n",
              "      <th>1</th>\n",
              "      <td>1902</td>\n",
              "      <td>158.3</td>\n",
              "      <td>0</td>\n",
              "    </tr>\n",
              "    <tr>\n",
              "      <th>2</th>\n",
              "      <td>1903</td>\n",
              "      <td>157.0</td>\n",
              "      <td>0</td>\n",
              "    </tr>\n",
              "    <tr>\n",
              "      <th>3</th>\n",
              "      <td>1904</td>\n",
              "      <td>33.9</td>\n",
              "      <td>0</td>\n",
              "    </tr>\n",
              "    <tr>\n",
              "      <th>4</th>\n",
              "      <td>1905</td>\n",
              "      <td>74.4</td>\n",
              "      <td>0</td>\n",
              "    </tr>\n",
              "    <tr>\n",
              "      <th>...</th>\n",
              "      <td>...</td>\n",
              "      <td>...</td>\n",
              "      <td>...</td>\n",
              "    </tr>\n",
              "    <tr>\n",
              "      <th>113</th>\n",
              "      <td>2014</td>\n",
              "      <td>99.5</td>\n",
              "      <td>0</td>\n",
              "    </tr>\n",
              "    <tr>\n",
              "      <th>114</th>\n",
              "      <td>2015</td>\n",
              "      <td>223.6</td>\n",
              "      <td>0</td>\n",
              "    </tr>\n",
              "    <tr>\n",
              "      <th>115</th>\n",
              "      <td>2016</td>\n",
              "      <td>125.4</td>\n",
              "      <td>0</td>\n",
              "    </tr>\n",
              "    <tr>\n",
              "      <th>116</th>\n",
              "      <td>2017</td>\n",
              "      <td>92.5</td>\n",
              "      <td>0</td>\n",
              "    </tr>\n",
              "    <tr>\n",
              "      <th>117</th>\n",
              "      <td>2018</td>\n",
              "      <td>125.4</td>\n",
              "      <td>0</td>\n",
              "    </tr>\n",
              "  </tbody>\n",
              "</table>\n",
              "<p>118 rows × 3 columns</p>\n",
              "</div>"
            ],
            "text/plain": [
              "     YEAR    NOV  res\n",
              "0    1901  350.8    1\n",
              "1    1902  158.3    0\n",
              "2    1903  157.0    0\n",
              "3    1904   33.9    0\n",
              "4    1905   74.4    0\n",
              "..    ...    ...  ...\n",
              "113  2014   99.5    0\n",
              "114  2015  223.6    0\n",
              "115  2016  125.4    0\n",
              "116  2017   92.5    0\n",
              "117  2018  125.4    0\n",
              "\n",
              "[118 rows x 3 columns]"
            ]
          },
          "metadata": {
            "tags": []
          },
          "execution_count": 76
        }
      ]
    },
    {
      "cell_type": "code",
      "metadata": {
        "colab": {
          "base_uri": "https://localhost:8080/"
        },
        "id": "3Bg3obYVNOg-",
        "outputId": "5c8c5741-9bc7-46ea-e818-32f2ec876a3e"
      },
      "source": [
        "x=nov.iloc[:,0:2]\r\n",
        "y=nov.iloc[:,-1]\r\n",
        "y=np.asarray(y)\r\n",
        "print(x,y)"
      ],
      "execution_count": 77,
      "outputs": [
        {
          "output_type": "stream",
          "text": [
            "     YEAR    NOV\n",
            "0    1901  350.8\n",
            "1    1902  158.3\n",
            "2    1903  157.0\n",
            "3    1904   33.9\n",
            "4    1905   74.4\n",
            "..    ...    ...\n",
            "113  2014   99.5\n",
            "114  2015  223.6\n",
            "115  2016  125.4\n",
            "116  2017   92.5\n",
            "117  2018  125.4\n",
            "\n",
            "[118 rows x 2 columns] [1 0 0 0 0 0 0 0 0 1 0 0 0 0 1 0 0 1 1 1 0 1 0 0 0 0 0 0 0 0 0 0 0 0 0 0 0\n",
            " 0 1 1 0 0 0 0 0 1 0 0 0 0 0 0 0 0 0 0 0 0 0 1 0 0 0 0 0 0 0 0 0 0 0 0 0 0\n",
            " 0 1 1 1 0 0 0 0 0 0 0 0 0 0 0 0 0 1 0 0 0 0 1 0 0 0 0 0 0 0 0 0 0 0 1 1 0\n",
            " 0 0 0 0 0 0 0]\n"
          ],
          "name": "stdout"
        }
      ]
    },
    {
      "cell_type": "code",
      "metadata": {
        "colab": {
          "base_uri": "https://localhost:8080/"
        },
        "id": "lB1RJbroNn56",
        "outputId": "963a78ce-f051-4975-ea48-e830618676f7"
      },
      "source": [
        "from sklearn import preprocessing\r\n",
        "minmax = preprocessing.MinMaxScaler(feature_range=(0,1))\r\n",
        "x = minmax.fit(x).transform(x)\r\n",
        "x"
      ],
      "execution_count": 78,
      "outputs": [
        {
          "output_type": "execute_result",
          "data": {
            "text/plain": [
              "array([[0.00000000e+00, 9.55701886e-01],\n",
              "       [8.54700855e-03, 3.79527088e-01],\n",
              "       [1.70940171e-02, 3.75636037e-01],\n",
              "       [2.56410256e-02, 7.18347800e-03],\n",
              "       [3.41880342e-02, 1.28404669e-01],\n",
              "       [4.27350427e-02, 3.93894044e-01],\n",
              "       [5.12820513e-02, 5.61508530e-01],\n",
              "       [5.98290598e-02, 4.90870997e-02],\n",
              "       [6.83760684e-02, 4.17838970e-01],\n",
              "       [7.69230769e-02, 7.44986531e-01],\n",
              "       [8.54700855e-02, 3.41813828e-01],\n",
              "       [9.40170940e-02, 3.20862017e-01],\n",
              "       [1.02564103e-01, 2.34660281e-01],\n",
              "       [1.11111111e-01, 2.07722239e-01],\n",
              "       [1.19658120e-01, 8.11134391e-01],\n",
              "       [1.28205128e-01, 3.07692308e-01],\n",
              "       [1.36752137e-01, 6.73151751e-01],\n",
              "       [1.45299145e-01, 7.89883268e-01],\n",
              "       [1.53846154e-01, 7.44088596e-01],\n",
              "       [1.62393162e-01, 8.10535768e-01],\n",
              "       [1.70940171e-01, 3.13379228e-01],\n",
              "       [1.79487179e-01, 7.84794972e-01],\n",
              "       [1.88034188e-01, 1.56839270e-01],\n",
              "       [1.96581197e-01, 3.93295421e-01],\n",
              "       [2.05128205e-01, 5.75276863e-01],\n",
              "       [2.13675214e-01, 1.71505537e-01],\n",
              "       [2.22222222e-01, 3.17569590e-01],\n",
              "       [2.30769231e-01, 3.70248429e-01],\n",
              "       [2.39316239e-01, 3.79227776e-01],\n",
              "       [2.47863248e-01, 5.25291829e-01],\n",
              "       [2.56410256e-01, 3.97485783e-01],\n",
              "       [2.64957265e-01, 5.73780305e-01],\n",
              "       [2.73504274e-01, 2.83148758e-01],\n",
              "       [2.82051282e-01, 1.85273870e-01],\n",
              "       [2.90598291e-01, 3.63663574e-01],\n",
              "       [2.99145299e-01, 5.37563604e-01],\n",
              "       [3.07692308e-01, 2.67883867e-01],\n",
              "       [3.16239316e-01, 1.13738402e-01],\n",
              "       [3.24786325e-01, 7.97964681e-01],\n",
              "       [3.33333333e-01, 7.66237653e-01],\n",
              "       [3.41880342e-01, 5.65698893e-01],\n",
              "       [3.50427350e-01, 1.59233762e-01],\n",
              "       [3.58974359e-01, 5.74378928e-01],\n",
              "       [3.67521368e-01, 6.36336426e-01],\n",
              "       [3.76068376e-01, 6.82430410e-01],\n",
              "       [3.84615385e-01, 7.22837474e-01],\n",
              "       [3.93162393e-01, 2.69380425e-03],\n",
              "       [4.01709402e-01, 5.51032625e-01],\n",
              "       [4.10256410e-01, 1.20921880e-01],\n",
              "       [4.18803419e-01, 3.52289734e-01],\n",
              "       [4.27350427e-01, 5.92936247e-01],\n",
              "       [4.35897436e-01, 5.41753966e-02],\n",
              "       [4.44444444e-01, 9.18886561e-02],\n",
              "       [4.52991453e-01, 2.99311583e-04],\n",
              "       [4.61538462e-01, 4.38790781e-01],\n",
              "       [4.70085470e-01, 4.39090093e-01],\n",
              "       [4.78632479e-01, 4.81891649e-01],\n",
              "       [4.87179487e-01, 5.22598025e-01],\n",
              "       [4.95726496e-01, 3.60371146e-01],\n",
              "       [5.04273504e-01, 9.77252320e-01],\n",
              "       [5.12820513e-01, 1.62825501e-01],\n",
              "       [5.21367521e-01, 0.00000000e+00],\n",
              "       [5.29914530e-01, 1.85273870e-01],\n",
              "       [5.38461538e-01, 4.79497157e-01],\n",
              "       [5.47008547e-01, 2.99910207e-01],\n",
              "       [5.55555556e-01, 6.40227477e-01],\n",
              "       [5.64102564e-01, 1.27207423e-01],\n",
              "       [5.72649573e-01, 2.63094882e-01],\n",
              "       [5.81196581e-01, 2.63094882e-01],\n",
              "       [5.89743590e-01, 1.46662676e-01],\n",
              "       [5.98290598e-01, 2.03531877e-02],\n",
              "       [6.06837607e-01, 3.26249626e-01],\n",
              "       [6.15384615e-01, 1.58635139e-01],\n",
              "       [6.23931624e-01, 8.82969171e-02],\n",
              "       [6.32478632e-01, 5.17210416e-01],\n",
              "       [6.41025641e-01, 7.63843161e-01],\n",
              "       [6.49572650e-01, 9.88326848e-01],\n",
              "       [6.58119658e-01, 1.00000000e+00],\n",
              "       [6.66666667e-01, 6.89015265e-01],\n",
              "       [6.75213675e-01, 3.91499551e-01],\n",
              "       [6.83760684e-01, 3.20562706e-01],\n",
              "       [6.92307692e-01, 2.87339120e-01],\n",
              "       [7.00854701e-01, 2.54414846e-01],\n",
              "       [7.09401709e-01, 1.08350793e-01],\n",
              "       [7.17948718e-01, 1.29901227e-01],\n",
              "       [7.26495726e-01, 4.88476504e-01],\n",
              "       [7.35042735e-01, 5.52229871e-01],\n",
              "       [7.43589744e-01, 1.06255612e-01],\n",
              "       [7.52136752e-01, 1.83777312e-01],\n",
              "       [7.60683761e-01, 3.81023646e-01],\n",
              "       [7.69230769e-01, 2.04729123e-01],\n",
              "       [7.77777778e-01, 7.66536965e-01],\n",
              "       [7.86324786e-01, 3.66058066e-01],\n",
              "       [7.94871795e-01, 2.57707273e-01],\n",
              "       [8.03418803e-01, 4.52259802e-01],\n",
              "       [8.11965812e-01, 1.74797965e-01],\n",
              "       [8.20512821e-01, 7.98862616e-01],\n",
              "       [8.29059829e-01, 3.09787489e-01],\n",
              "       [8.37606838e-01, 1.09548040e-01],\n",
              "       [8.46153846e-01, 1.39479198e-01],\n",
              "       [8.54700855e-01, 4.47470817e-01],\n",
              "       [8.63247863e-01, 3.17270278e-01],\n",
              "       [8.71794872e-01, 1.34390901e-01],\n",
              "       [8.80341880e-01, 2.66985932e-01],\n",
              "       [8.88888889e-01, 4.57348099e-01],\n",
              "       [8.97435897e-01, 3.92996109e-01],\n",
              "       [9.05982906e-01, 1.67315175e-01],\n",
              "       [9.14529915e-01, 7.15354684e-02],\n",
              "       [9.23076923e-01, 7.27027836e-01],\n",
              "       [9.31623932e-01, 9.08709967e-01],\n",
              "       [9.40170940e-01, 4.13648608e-01],\n",
              "       [9.48717949e-01, 2.43639629e-01],\n",
              "       [9.57264957e-01, 3.69350494e-01],\n",
              "       [9.65811966e-01, 2.03531877e-01],\n",
              "       [9.74358974e-01, 5.74977552e-01],\n",
              "       [9.82905983e-01, 2.81053577e-01],\n",
              "       [9.91452991e-01, 1.82580066e-01],\n",
              "       [1.00000000e+00, 2.81053577e-01]])"
            ]
          },
          "metadata": {
            "tags": []
          },
          "execution_count": 78
        }
      ]
    },
    {
      "cell_type": "code",
      "metadata": {
        "colab": {
          "base_uri": "https://localhost:8080/"
        },
        "id": "Lg5S2SOCN2W7",
        "outputId": "1a2aa50b-cdd9-4635-cb5c-96e3c473a40a"
      },
      "source": [
        "from sklearn import model_selection,neighbors\r\n",
        "from sklearn.model_selection import train_test_split\r\n",
        "xNov_train,xNov_test,yNov_train,yNov_test=train_test_split(x,y,test_size=0.2)\r\n",
        "xNov_train[:20]"
      ],
      "execution_count": 79,
      "outputs": [
        {
          "output_type": "execute_result",
          "data": {
            "text/plain": [
              "array([[0.68376068, 0.32056271],\n",
              "       [0.7008547 , 0.25441485],\n",
              "       [0.4957265 , 0.36037115],\n",
              "       [0.73504274, 0.55222987],\n",
              "       [0.88034188, 0.26698593],\n",
              "       [0.17094017, 0.31337923],\n",
              "       [0.41025641, 0.12092188],\n",
              "       [0.35897436, 0.57437893],\n",
              "       [0.38461538, 0.72283747],\n",
              "       [0.24786325, 0.52529183],\n",
              "       [0.15384615, 0.7440886 ],\n",
              "       [0.1025641 , 0.23466028],\n",
              "       [0.60683761, 0.32624963],\n",
              "       [0.13675214, 0.67315175],\n",
              "       [0.63247863, 0.51721042],\n",
              "       [0.20512821, 0.57527686],\n",
              "       [0.70940171, 0.10835079],\n",
              "       [0.28205128, 0.18527387],\n",
              "       [0.27350427, 0.28314876],\n",
              "       [0.56410256, 0.12720742]])"
            ]
          },
          "metadata": {
            "tags": []
          },
          "execution_count": 79
        }
      ]
    },
    {
      "cell_type": "code",
      "metadata": {
        "colab": {
          "base_uri": "https://localhost:8080/"
        },
        "id": "SJS_4JtXOEcI",
        "outputId": "4c3652c1-8031-4f24-8a69-344e2c96c594"
      },
      "source": [
        "clf11=neighbors.KNeighborsClassifier()\r\n",
        "clf11.fit(xNov_train,yNov_train)\r\n",
        "print(\"Predicted Values for the Floods:\")\r\n",
        "yNov_predict=clf11.predict(xNov_test)\r\n",
        "print(yNov_predict,len(yNov_predict))"
      ],
      "execution_count": 80,
      "outputs": [
        {
          "output_type": "stream",
          "text": [
            "Predicted Values for the Floods:\n",
            "[1 0 0 0 0 0 0 0 0 0 0 0 0 1 1 0 0 0 0 0 1 0 0 1] 24\n"
          ],
          "name": "stdout"
        }
      ]
    },
    {
      "cell_type": "code",
      "metadata": {
        "colab": {
          "base_uri": "https://localhost:8080/",
          "height": 265
        },
        "id": "n6aIbtr6OdO0",
        "outputId": "c8ad9d5a-a8c9-4a0f-cf4a-c9454596f31b"
      },
      "source": [
        "plt.plot(yNov_predict)\r\n",
        "plt.plot(yNov_test)\r\n",
        "plt.grid(\"on\")\r\n",
        "plt.show()"
      ],
      "execution_count": 82,
      "outputs": [
        {
          "output_type": "display_data",
          "data": {
            "image/png": "[encoded data removed]",
            "text/plain": [
              "<Figure size 432x288 with 1 Axes>"
            ]
          },
          "metadata": {
            "tags": [],
            "needs_background": "light"
          }
        }
      ]
    },
    {
      "cell_type": "code",
      "metadata": {
        "colab": {
          "base_uri": "https://localhost:8080/"
        },
        "id": "lbEvwDdzOkdk",
        "outputId": "68d798ee-2cf1-4753-dab5-8a68dcf8fe9f"
      },
      "source": [
        "from sklearn.metrics import accuracy_score\r\n",
        "print(\"\\nAccuracy Score:%f\"%(accuracy_score(yNov_test,yNov_predict)*100))"
      ],
      "execution_count": 83,
      "outputs": [
        {
          "output_type": "stream",
          "text": [
            "\n",
            "Accuracy Score:100.000000\n"
          ],
          "name": "stdout"
        }
      ]
    },
    {
      "cell_type": "code",
      "metadata": {
        "colab": {
          "base_uri": "https://localhost:8080/",
          "height": 502
        },
        "id": "7OQ6axDQOqA1",
        "outputId": "784d17f2-61a2-467a-9c29-cbc580498ba7"
      },
      "source": [
        "dec=data.iloc[:,[1,13]]\r\n",
        "dec['res']=0\r\n",
        "for i in range(len(dec)):\r\n",
        "  if dec['DEC'][i]>263:\r\n",
        "    dec['res'][i]=1\r\n",
        "dec"
      ],
      "execution_count": 84,
      "outputs": [
        {
          "output_type": "stream",
          "text": [
            "/usr/local/lib/python3.7/dist-packages/ipykernel_launcher.py:2: SettingWithCopyWarning: \n",
            "A value is trying to be set on a copy of a slice from a DataFrame.\n",
            "Try using .loc[row_indexer,col_indexer] = value instead\n",
            "\n",
            "See the caveats in the documentation: https://pandas.pydata.org/pandas-docs/stable/user_guide/indexing.html#returning-a-view-versus-a-copy\n",
            "  \n"
          ],
          "name": "stderr"
        },
        {
          "output_type": "execute_result",
          "data": {
            "text/html": [
              "<div>\n",
              "<style scoped>\n",
              "    .dataframe tbody tr th:only-of-type {\n",
              "        vertical-align: middle;\n",
              "    }\n",
              "\n",
              "    .dataframe tbody tr th {\n",
              "        vertical-align: top;\n",
              "    }\n",
              "\n",
              "    .dataframe thead th {\n",
              "        text-align: right;\n",
              "    }\n",
              "</style>\n",
              "<table border=\"1\" class=\"dataframe\">\n",
              "  <thead>\n",
              "    <tr style=\"text-align: right;\">\n",
              "      <th></th>\n",
              "      <th>YEAR</th>\n",
              "      <th>DEC</th>\n",
              "      <th>res</th>\n",
              "    </tr>\n",
              "  </thead>\n",
              "  <tbody>\n",
              "    <tr>\n",
              "      <th>0</th>\n",
              "      <td>1901</td>\n",
              "      <td>48.4</td>\n",
              "      <td>0</td>\n",
              "    </tr>\n",
              "    <tr>\n",
              "      <th>1</th>\n",
              "      <td>1902</td>\n",
              "      <td>121.5</td>\n",
              "      <td>0</td>\n",
              "    </tr>\n",
              "    <tr>\n",
              "      <th>2</th>\n",
              "      <td>1903</td>\n",
              "      <td>59.0</td>\n",
              "      <td>0</td>\n",
              "    </tr>\n",
              "    <tr>\n",
              "      <th>3</th>\n",
              "      <td>1904</td>\n",
              "      <td>3.3</td>\n",
              "      <td>0</td>\n",
              "    </tr>\n",
              "    <tr>\n",
              "      <th>4</th>\n",
              "      <td>1905</td>\n",
              "      <td>0.2</td>\n",
              "      <td>0</td>\n",
              "    </tr>\n",
              "    <tr>\n",
              "      <th>...</th>\n",
              "      <td>...</td>\n",
              "      <td>...</td>\n",
              "      <td>...</td>\n",
              "    </tr>\n",
              "    <tr>\n",
              "      <th>113</th>\n",
              "      <td>2014</td>\n",
              "      <td>47.2</td>\n",
              "      <td>0</td>\n",
              "    </tr>\n",
              "    <tr>\n",
              "      <th>114</th>\n",
              "      <td>2015</td>\n",
              "      <td>79.4</td>\n",
              "      <td>0</td>\n",
              "    </tr>\n",
              "    <tr>\n",
              "      <th>115</th>\n",
              "      <td>2016</td>\n",
              "      <td>23.6</td>\n",
              "      <td>0</td>\n",
              "    </tr>\n",
              "    <tr>\n",
              "      <th>116</th>\n",
              "      <td>2017</td>\n",
              "      <td>38.1</td>\n",
              "      <td>0</td>\n",
              "    </tr>\n",
              "    <tr>\n",
              "      <th>117</th>\n",
              "      <td>2018</td>\n",
              "      <td>65.1</td>\n",
              "      <td>0</td>\n",
              "    </tr>\n",
              "  </tbody>\n",
              "</table>\n",
              "<p>118 rows × 3 columns</p>\n",
              "</div>"
            ],
            "text/plain": [
              "     YEAR    DEC  res\n",
              "0    1901   48.4    0\n",
              "1    1902  121.5    0\n",
              "2    1903   59.0    0\n",
              "3    1904    3.3    0\n",
              "4    1905    0.2    0\n",
              "..    ...    ...  ...\n",
              "113  2014   47.2    0\n",
              "114  2015   79.4    0\n",
              "115  2016   23.6    0\n",
              "116  2017   38.1    0\n",
              "117  2018   65.1    0\n",
              "\n",
              "[118 rows x 3 columns]"
            ]
          },
          "metadata": {
            "tags": []
          },
          "execution_count": 84
        }
      ]
    },
    {
      "cell_type": "code",
      "metadata": {
        "colab": {
          "base_uri": "https://localhost:8080/"
        },
        "id": "ZFvKMAVaPG56",
        "outputId": "e02e4cfe-dac0-4a29-e38a-8232e119f6a2"
      },
      "source": [
        "x=dec.iloc[:,0:2]\r\n",
        "y=dec.iloc[:,-1]\r\n",
        "y=np.asarray(y)\r\n",
        "print(x,y)"
      ],
      "execution_count": 85,
      "outputs": [
        {
          "output_type": "stream",
          "text": [
            "     YEAR    DEC\n",
            "0    1901   48.4\n",
            "1    1902  121.5\n",
            "2    1903   59.0\n",
            "3    1904    3.3\n",
            "4    1905    0.2\n",
            "..    ...    ...\n",
            "113  2014   47.2\n",
            "114  2015   79.4\n",
            "115  2016   23.6\n",
            "116  2017   38.1\n",
            "117  2018   65.1\n",
            "\n",
            "[118 rows x 2 columns] [0 0 0 0 0 0 0 0 0 0 0 0 0 0 0 0 0 0 0 0 0 0 0 0 0 0 0 0 0 0 0 0 0 0 0 0 0\n",
            " 0 0 0 0 0 0 0 0 0 0 0 0 0 0 0 0 0 0 0 0 0 0 0 0 0 0 0 0 0 0 0 0 0 0 0 0 0\n",
            " 0 0 0 0 0 0 0 0 0 0 0 0 0 0 0 0 0 0 0 0 0 0 0 0 0 0 0 0 0 0 0 0 0 0 0 0 0\n",
            " 0 0 0 0 0 0 0]\n"
          ],
          "name": "stdout"
        }
      ]
    },
    {
      "cell_type": "code",
      "metadata": {
        "colab": {
          "base_uri": "https://localhost:8080/"
        },
        "id": "04dMKHdjPeyG",
        "outputId": "fad5575d-33df-45b1-8141-802d6057751c"
      },
      "source": [
        "from sklearn import preprocessing\r\n",
        "minmax = preprocessing.MinMaxScaler(feature_range=(0,1))\r\n",
        "x = minmax.fit(x).transform(x)\r\n",
        "x"
      ],
      "execution_count": 86,
      "outputs": [
        {
          "output_type": "execute_result",
          "data": {
            "text/plain": [
              "array([[0.00000000e+00, 2.38872404e-01],\n",
              "       [8.54700855e-03, 6.00395648e-01],\n",
              "       [1.70940171e-02, 2.91295747e-01],\n",
              "       [2.56410256e-02, 1.58259149e-02],\n",
              "       [3.41880342e-02, 4.94559842e-04],\n",
              "       [4.27350427e-02, 4.24826904e-01],\n",
              "       [5.12820513e-02, 2.60633037e-01],\n",
              "       [5.98290598e-02, 5.39070227e-02],\n",
              "       [6.83760684e-02, 1.59248269e-01],\n",
              "       [7.69230769e-02, 0.00000000e+00],\n",
              "       [8.54700855e-02, 4.32739862e-01],\n",
              "       [9.40170940e-02, 1.08308605e-01],\n",
              "       [1.02564103e-01, 2.26013848e-01],\n",
              "       [1.11111111e-01, 6.68150346e-01],\n",
              "       [1.19658120e-01, 7.31948566e-02],\n",
              "       [1.28205128e-01, 4.35212661e-02],\n",
              "       [1.36752137e-01, 2.05242334e-01],\n",
              "       [1.45299145e-01, 2.67062315e-01],\n",
              "       [1.53846154e-01, 2.61622156e-01],\n",
              "       [1.62393162e-01, 4.00593472e-02],\n",
              "       [1.70940171e-01, 7.76458952e-02],\n",
              "       [1.79487179e-01, 1.23639960e-01],\n",
              "       [1.88034188e-01, 2.05242334e-01],\n",
              "       [1.96581197e-01, 2.48763600e-01],\n",
              "       [2.05128205e-01, 4.88130564e-01],\n",
              "       [2.13675214e-01, 7.96241345e-02],\n",
              "       [2.22222222e-01, 3.31355094e-02],\n",
              "       [2.30769231e-01, 2.60138477e-01],\n",
              "       [2.39316239e-01, 1.94362018e-01],\n",
              "       [2.47863248e-01, 4.40652819e-01],\n",
              "       [2.56410256e-01, 5.26211672e-01],\n",
              "       [2.64957265e-01, 1.54302671e-01],\n",
              "       [2.73504274e-01, 2.08704253e-01],\n",
              "       [2.82051282e-01, 2.37388724e-02],\n",
              "       [2.90598291e-01, 1.52324431e-01],\n",
              "       [2.99145299e-01, 9.14935707e-02],\n",
              "       [3.07692308e-01, 9.39663699e-02],\n",
              "       [3.16239316e-01, 1.12759644e-01],\n",
              "       [3.24786325e-01, 4.99505440e-02],\n",
              "       [3.33333333e-01, 2.96735905e-01],\n",
              "       [3.41880342e-01, 4.17903066e-01],\n",
              "       [3.50427350e-01, 5.82591494e-01],\n",
              "       [3.58974359e-01, 1.19683482e-01],\n",
              "       [3.67521368e-01, 4.40652819e-01],\n",
              "       [3.76068376e-01, 8.85262117e-02],\n",
              "       [3.84615385e-01, 1.00000000e+00],\n",
              "       [3.93162393e-01, 2.31948566e-01],\n",
              "       [4.01709402e-01, 9.44609298e-02],\n",
              "       [4.10256410e-01, 8.40751731e-03],\n",
              "       [4.18803419e-01, 4.30267062e-02],\n",
              "       [4.27350427e-01, 1.14243323e-01],\n",
              "       [4.35897436e-01, 3.30365974e-01],\n",
              "       [4.44444444e-01, 2.47279921e-02],\n",
              "       [4.52991453e-01, 3.08605341e-01],\n",
              "       [4.61538462e-01, 9.74282888e-02],\n",
              "       [4.70085470e-01, 4.45103858e-02],\n",
              "       [4.78632479e-01, 1.42433234e-01],\n",
              "       [4.87179487e-01, 3.75865480e-02],\n",
              "       [4.95726496e-01, 1.67655786e-01],\n",
              "       [5.04273504e-01, 1.16716123e-01],\n",
              "       [5.12820513e-01, 8.60534125e-02],\n",
              "       [5.21367521e-01, 3.79821958e-01],\n",
              "       [5.29914530e-01, 2.38872404e-01],\n",
              "       [5.38461538e-01, 8.75370920e-02],\n",
              "       [5.47008547e-01, 7.68545994e-01],\n",
              "       [5.55555556e-01, 2.49258160e-01],\n",
              "       [5.64102564e-01, 1.53313551e-01],\n",
              "       [5.72649573e-01, 1.61226508e-01],\n",
              "       [5.81196581e-01, 3.27398615e-01],\n",
              "       [5.89743590e-01, 2.76953511e-02],\n",
              "       [5.98290598e-01, 3.07616222e-01],\n",
              "       [6.06837607e-01, 5.64787339e-01],\n",
              "       [6.15384615e-01, 2.65578635e-01],\n",
              "       [6.23931624e-01, 1.73095945e-02],\n",
              "       [6.32478632e-01, 9.79228487e-02],\n",
              "       [6.41025641e-01, 1.51829871e-01],\n",
              "       [6.49572650e-01, 3.26409496e-02],\n",
              "       [6.58119658e-01, 1.92383778e-01],\n",
              "       [6.66666667e-01, 1.14737883e-01],\n",
              "       [6.75213675e-01, 1.94856578e-01],\n",
              "       [6.83760684e-01, 2.13649852e-01],\n",
              "       [6.92307692e-01, 5.29179031e-02],\n",
              "       [7.00854701e-01, 3.41246291e-01],\n",
              "       [7.09401709e-01, 8.85262117e-02],\n",
              "       [7.17948718e-01, 2.17111771e-01],\n",
              "       [7.26495726e-01, 4.64886251e-02],\n",
              "       [7.35042735e-01, 6.47873393e-01],\n",
              "       [7.43589744e-01, 1.53313551e-01],\n",
              "       [7.52136752e-01, 2.72007913e-02],\n",
              "       [7.60683761e-01, 2.52225519e-02],\n",
              "       [7.69230769e-01, 1.08803165e-02],\n",
              "       [7.77777778e-01, 1.78041543e-02],\n",
              "       [7.86324786e-01, 2.27992087e-01],\n",
              "       [7.94871795e-01, 3.16518299e-02],\n",
              "       [8.03418803e-01, 0.00000000e+00],\n",
              "       [8.11965812e-01, 3.08605341e-01],\n",
              "       [8.20512821e-01, 4.36696340e-01],\n",
              "       [8.29059829e-01, 3.92185955e-01],\n",
              "       [8.37606838e-01, 2.37388724e-02],\n",
              "       [8.46153846e-01, 3.41246291e-01],\n",
              "       [8.54700855e-01, 4.94559842e-02],\n",
              "       [8.63247863e-01, 9.89119683e-03],\n",
              "       [8.71794872e-01, 4.74777448e-02],\n",
              "       [8.80341880e-01, 1.28585559e-02],\n",
              "       [8.88888889e-01, 2.78437191e-01],\n",
              "       [8.97435897e-01, 8.40751731e-03],\n",
              "       [9.05982906e-01, 5.83580613e-02],\n",
              "       [9.14529915e-01, 8.35806133e-02],\n",
              "       [9.23076923e-01, 2.18100890e-01],\n",
              "       [9.31623932e-01, 2.30959446e-01],\n",
              "       [9.40170940e-01, 2.44312562e-01],\n",
              "       [9.48717949e-01, 4.59940653e-02],\n",
              "       [9.57264957e-01, 8.35806133e-02],\n",
              "       [9.65811966e-01, 2.32937685e-01],\n",
              "       [9.74358974e-01, 3.92185955e-01],\n",
              "       [9.82905983e-01, 1.16221563e-01],\n",
              "       [9.91452991e-01, 1.87932740e-01],\n",
              "       [1.00000000e+00, 3.21463897e-01]])"
            ]
          },
          "metadata": {
            "tags": []
          },
          "execution_count": 86
        }
      ]
    },
    {
      "cell_type": "code",
      "metadata": {
        "colab": {
          "base_uri": "https://localhost:8080/"
        },
        "id": "3Ky61QUgREh5",
        "outputId": "cf261b5f-a172-4a31-9b51-8be91d14d65d"
      },
      "source": [
        "from sklearn import model_selection,neighbors\r\n",
        "from sklearn.model_selection import train_test_split\r\n",
        "xDec_train,xDec_test,yDec_train,yDec_test=train_test_split(x,y,test_size=0.2)\r\n",
        "xDec_train[:20]"
      ],
      "execution_count": 88,
      "outputs": [
        {
          "output_type": "execute_result",
          "data": {
            "text/plain": [
              "array([[0.71794872, 0.21711177],\n",
              "       [0.51282051, 0.08605341],\n",
              "       [0.33333333, 0.29673591],\n",
              "       [0.05128205, 0.26063304],\n",
              "       [0.61538462, 0.26557864],\n",
              "       [0.38461538, 1.        ],\n",
              "       [0.02564103, 0.01582591],\n",
              "       [0.1025641 , 0.22601385],\n",
              "       [0.94871795, 0.04599407],\n",
              "       [0.58974359, 0.02769535],\n",
              "       [0.69230769, 0.0529179 ],\n",
              "       [0.82905983, 0.39218595],\n",
              "       [0.8034188 , 0.        ],\n",
              "       [0.98290598, 0.11622156],\n",
              "       [0.41880342, 0.04302671],\n",
              "       [0.86324786, 0.0098912 ],\n",
              "       [0.14529915, 0.26706231],\n",
              "       [0.47008547, 0.04451039],\n",
              "       [0.13675214, 0.20524233],\n",
              "       [0.60683761, 0.56478734]])"
            ]
          },
          "metadata": {
            "tags": []
          },
          "execution_count": 88
        }
      ]
    },
    {
      "cell_type": "code",
      "metadata": {
        "colab": {
          "base_uri": "https://localhost:8080/"
        },
        "id": "AvnC5KU1Pkt9",
        "outputId": "081e18c3-b546-4573-cffe-0d3f03c9ff47"
      },
      "source": [
        "clf12=neighbors.KNeighborsClassifier()\r\n",
        "clf12.fit(xDec_train,yDec_train)\r\n",
        "print(\"Predicted Values for the Floods:\")\r\n",
        "yDec_predict=clf12.predict(xDec_test)\r\n",
        "print(yDec_predict,len(yDec_predict))"
      ],
      "execution_count": 89,
      "outputs": [
        {
          "output_type": "stream",
          "text": [
            "Predicted Values for the Floods:\n",
            "[0 0 0 0 0 0 0 0 0 0 0 0 0 0 0 0 0 0 0 0 0 0 0 0] 24\n"
          ],
          "name": "stdout"
        }
      ]
    },
    {
      "cell_type": "code",
      "metadata": {
        "colab": {
          "base_uri": "https://localhost:8080/",
          "height": 265
        },
        "id": "Gr39lcImShWK",
        "outputId": "9ebce08e-fbaa-47ae-c0de-c747e0d375d3"
      },
      "source": [
        "plt.plot(yDec_predict)\r\n",
        "plt.plot(yDec_test)\r\n",
        "plt.grid(\"on\")\r\n",
        "plt.show()"
      ],
      "execution_count": 90,
      "outputs": [
        {
          "output_type": "display_data",
          "data": {
            "image/png": "[encoded data removed]",
            "text/plain": [
              "<Figure size 432x288 with 1 Axes>"
            ]
          },
          "metadata": {
            "tags": [],
            "needs_background": "light"
          }
        }
      ]
    },
    {
      "cell_type": "code",
      "metadata": {
        "colab": {
          "base_uri": "https://localhost:8080/"
        },
        "id": "Tc2sc2mYSpRb",
        "outputId": "8dca793e-7d80-45f2-a60b-8cc0f128b691"
      },
      "source": [
        "from sklearn.metrics import accuracy_score\r\n",
        "print(\"\\nAccuracy Score:%f\"%(accuracy_score(yDec_test,yDec_predict)*100))"
      ],
      "execution_count": 91,
      "outputs": [
        {
          "output_type": "stream",
          "text": [
            "\n",
            "Accuracy Score:100.000000\n"
          ],
          "name": "stdout"
        }
      ]
    },
    {
      "cell_type": "code",
      "metadata": {
        "colab": {
          "base_uri": "https://localhost:8080/"
        },
        "id": "w4v14MrwSw-_",
        "outputId": "a9846b77-80d7-4ace-9c3e-aeed04fcfd00"
      },
      "source": [
        "ds = [[0.39316239, 0.23194857]]\r\n",
        "clf10.predict(ds)"
      ],
      "execution_count": 92,
      "outputs": [
        {
          "output_type": "execute_result",
          "data": {
            "text/plain": [
              "array([0])"
            ]
          },
          "metadata": {
            "tags": []
          },
          "execution_count": 92
        }
      ]
    },
    {
      "cell_type": "code",
      "metadata": {
        "colab": {
          "base_uri": "https://localhost:8080/"
        },
        "id": "4ZNlYEfxe_Pg",
        "outputId": "0824b7a4-5304-41ab-f6a3-dddef7af23f8"
      },
      "source": [
        "x=[[2001,350]]\r\n",
        "\r\n",
        "minmax = preprocessing.MinMaxScaler(feature_range=(0,1))\r\n",
        "x = minmax.fit(x).transform(x)\r\n",
        "x\r\n"
      ],
      "execution_count": 93,
      "outputs": [
        {
          "output_type": "execute_result",
          "data": {
            "text/plain": [
              "array([[0., 0.]])"
            ]
          },
          "metadata": {
            "tags": []
          },
          "execution_count": 93
        }
      ]
    },
    {
      "cell_type": "code",
      "metadata": {
        "colab": {
          "base_uri": "https://localhost:8080/"
        },
        "id": "A39BKj2nfYqe",
        "outputId": "75b4733f-bba2-4901-8f5d-10efecfc980c"
      },
      "source": [
        "clf10.predict(x)"
      ],
      "execution_count": null,
      "outputs": [
        {
          "output_type": "execute_result",
          "data": {
            "text/plain": [
              "array([0])"
            ]
          },
          "metadata": {
            "tags": []
          },
          "execution_count": 96
        }
      ]
    },
    {
      "cell_type": "code",
      "metadata": {
        "colab": {
          "base_uri": "https://localhost:8080/"
        },
        "id": "M6RJ8gcvfj9J",
        "outputId": "31cb16d1-b78c-4a72-eb61-cfb7ccfb097d"
      },
      "source": [
        "x = [[0.73504274, 0.03936718],\r\n",
        "       [0.64957265, 0.43105224],\r\n",
        "       [0.4957265 , 0.72715232],\r\n",
        "       [0.35897436, 0.48866814],\r\n",
        "       [0.83760684, 0.39212656]]\r\n",
        "clf6.predict(x)"
      ],
      "execution_count": 96,
      "outputs": [
        {
          "output_type": "execute_result",
          "data": {
            "text/plain": [
              "array([1, 1, 1, 1, 1])"
            ]
          },
          "metadata": {
            "tags": []
          },
          "execution_count": 96
        }
      ]
    },
    {
      "cell_type": "code",
      "metadata": {
        "id": "AyJczwKvgIUF",
        "colab": {
          "base_uri": "https://localhost:8080/"
        },
        "outputId": "6a5d5c74-211c-48b6-e7a1-54de50c8b196"
      },
      "source": [
        "x = input(\"Enter mnth\") # for month\r\n",
        "y = float(input(\"Enter rainfall\")) \r\n",
        "\r\n",
        "year = 2020\r\n",
        "arr = [[]]\r\n",
        "arr[0].append(year)\r\n",
        "arr[0].append(y)\r\n",
        "\r\n",
        "arr"
      ],
      "execution_count": 100,
      "outputs": [
        {
          "output_type": "stream",
          "text": [
            "Enter mnthjuly\n",
            "Enter rainfall54.3\n"
          ],
          "name": "stdout"
        },
        {
          "output_type": "execute_result",
          "data": {
            "text/plain": [
              "[[2020, 54.3]]"
            ]
          },
          "metadata": {
            "tags": []
          },
          "execution_count": 100
        }
      ]
    },
    {
      "cell_type": "code",
      "metadata": {
        "colab": {
          "base_uri": "https://localhost:8080/"
        },
        "id": "UXggvEkBk4NY",
        "outputId": "c38b9527-a4f4-4ac9-8000-a3b8c74f73ae"
      },
      "source": [
        "d={'jan':clf1,'feb':clf2,'mar':clf3,'apr':clf4,'may':clf5,'jun':clf6,'jul':clf7,'aug':clf8,'sep':clf9,'oct':clf10,'nov':clf11,'dec':clf12}\r\n",
        "d['jan'].predict(arr)\r\n"
      ],
      "execution_count": 106,
      "outputs": [
        {
          "output_type": "execute_result",
          "data": {
            "text/plain": [
              "array([1])"
            ]
          },
          "metadata": {
            "tags": []
          },
          "execution_count": 106
        }
      ]
    },
    {
      "cell_type": "code",
      "metadata": {
        "id": "RtnqTPvomFgA"
      },
      "source": [
        ""
      ],
      "execution_count": null,
      "outputs": []
    }
  ]
}